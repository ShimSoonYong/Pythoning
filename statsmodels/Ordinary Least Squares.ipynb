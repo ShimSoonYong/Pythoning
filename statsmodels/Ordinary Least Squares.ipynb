{
 "cells": [
  {
   "cell_type": "code",
   "execution_count": 1,
   "id": "864931d4-38a4-4af8-ae21-7d26ddd85479",
   "metadata": {},
   "outputs": [],
   "source": [
    "%matplotlib inline"
   ]
  },
  {
   "cell_type": "code",
   "execution_count": 2,
   "id": "f01a0dd5-c18b-4e85-94c6-b21c2b68305b",
   "metadata": {},
   "outputs": [],
   "source": [
    "import matplotlib.pyplot as plt\n",
    "import numpy as np\n",
    "import pandas as pd\n",
    "import statsmodels.api as sm\n",
    "\n",
    "np.random.seed(9876789)"
   ]
  },
  {
   "cell_type": "markdown",
   "id": "919867b1-b2c0-4c58-8933-b8bbfcd4c931",
   "metadata": {},
   "source": [
    "# OLS estimation"
   ]
  },
  {
   "cell_type": "markdown",
   "id": "83c13204-8581-4d2d-a3d4-b9a554552fa9",
   "metadata": {},
   "source": [
    "Artifitial data:"
   ]
  },
  {
   "cell_type": "code",
   "execution_count": 3,
   "id": "1e05b349-1bcb-4b7c-8b43-86b80e566000",
   "metadata": {},
   "outputs": [],
   "source": [
    "n_samples = 100\n",
    "x = np.linspace(0, 10, 100)\n",
    "X = np.column_stack((x, x**2))\n",
    "beta = np.array([1, 0.1, 10])\n",
    "e = np.random.normal(size = n_samples)"
   ]
  },
  {
   "cell_type": "markdown",
   "id": "aa6ff2f4-020b-48d1-ab4f-230a0391e56c",
   "metadata": {},
   "source": [
    "### Arbitrarily add and intercept column(column of 1s)"
   ]
  },
  {
   "cell_type": "code",
   "execution_count": 4,
   "id": "1a0f1fe8-4786-4535-9900-680070bb6098",
   "metadata": {},
   "outputs": [],
   "source": [
    "X = sm.add_constant(X)\n",
    "y = np.dot(X, beta) + e"
   ]
  },
  {
   "cell_type": "markdown",
   "id": "2abd52dc-d866-449f-b84d-49e248d862df",
   "metadata": {},
   "source": [
    "## Fit and summary"
   ]
  },
  {
   "cell_type": "code",
   "execution_count": 5,
   "id": "ef4676b2-ba8e-401c-b566-2354d0152346",
   "metadata": {},
   "outputs": [
    {
     "data": {
      "text/html": [
       "<table class=\"simpletable\">\n",
       "<caption>OLS Regression Results</caption>\n",
       "<tr>\n",
       "  <th>Dep. Variable:</th>            <td>y</td>        <th>  R-squared:         </th> <td>   1.000</td> \n",
       "</tr>\n",
       "<tr>\n",
       "  <th>Model:</th>                   <td>OLS</td>       <th>  Adj. R-squared:    </th> <td>   1.000</td> \n",
       "</tr>\n",
       "<tr>\n",
       "  <th>Method:</th>             <td>Least Squares</td>  <th>  F-statistic:       </th> <td>4.020e+06</td>\n",
       "</tr>\n",
       "<tr>\n",
       "  <th>Date:</th>             <td>Thu, 02 May 2024</td> <th>  Prob (F-statistic):</th> <td>2.83e-239</td>\n",
       "</tr>\n",
       "<tr>\n",
       "  <th>Time:</th>                 <td>15:03:37</td>     <th>  Log-Likelihood:    </th> <td> -146.51</td> \n",
       "</tr>\n",
       "<tr>\n",
       "  <th>No. Observations:</th>      <td>   100</td>      <th>  AIC:               </th> <td>   299.0</td> \n",
       "</tr>\n",
       "<tr>\n",
       "  <th>Df Residuals:</th>          <td>    97</td>      <th>  BIC:               </th> <td>   306.8</td> \n",
       "</tr>\n",
       "<tr>\n",
       "  <th>Df Model:</th>              <td>     2</td>      <th>                     </th>     <td> </td>    \n",
       "</tr>\n",
       "<tr>\n",
       "  <th>Covariance Type:</th>      <td>nonrobust</td>    <th>                     </th>     <td> </td>    \n",
       "</tr>\n",
       "</table>\n",
       "<table class=\"simpletable\">\n",
       "<tr>\n",
       "    <td></td>       <th>coef</th>     <th>std err</th>      <th>t</th>      <th>P>|t|</th>  <th>[0.025</th>    <th>0.975]</th>  \n",
       "</tr>\n",
       "<tr>\n",
       "  <th>const</th> <td>    1.3423</td> <td>    0.313</td> <td>    4.292</td> <td> 0.000</td> <td>    0.722</td> <td>    1.963</td>\n",
       "</tr>\n",
       "<tr>\n",
       "  <th>x1</th>    <td>   -0.0402</td> <td>    0.145</td> <td>   -0.278</td> <td> 0.781</td> <td>   -0.327</td> <td>    0.247</td>\n",
       "</tr>\n",
       "<tr>\n",
       "  <th>x2</th>    <td>   10.0103</td> <td>    0.014</td> <td>  715.745</td> <td> 0.000</td> <td>    9.982</td> <td>   10.038</td>\n",
       "</tr>\n",
       "</table>\n",
       "<table class=\"simpletable\">\n",
       "<tr>\n",
       "  <th>Omnibus:</th>       <td> 2.042</td> <th>  Durbin-Watson:     </th> <td>   2.274</td>\n",
       "</tr>\n",
       "<tr>\n",
       "  <th>Prob(Omnibus):</th> <td> 0.360</td> <th>  Jarque-Bera (JB):  </th> <td>   1.875</td>\n",
       "</tr>\n",
       "<tr>\n",
       "  <th>Skew:</th>          <td> 0.234</td> <th>  Prob(JB):          </th> <td>   0.392</td>\n",
       "</tr>\n",
       "<tr>\n",
       "  <th>Kurtosis:</th>      <td> 2.519</td> <th>  Cond. No.          </th> <td>    144.</td>\n",
       "</tr>\n",
       "</table><br/><br/>Notes:<br/>[1] Standard Errors assume that the covariance matrix of the errors is correctly specified."
      ],
      "text/latex": [
       "\\begin{center}\n",
       "\\begin{tabular}{lclc}\n",
       "\\toprule\n",
       "\\textbf{Dep. Variable:}    &        y         & \\textbf{  R-squared:         } &     1.000   \\\\\n",
       "\\textbf{Model:}            &       OLS        & \\textbf{  Adj. R-squared:    } &     1.000   \\\\\n",
       "\\textbf{Method:}           &  Least Squares   & \\textbf{  F-statistic:       } & 4.020e+06   \\\\\n",
       "\\textbf{Date:}             & Thu, 02 May 2024 & \\textbf{  Prob (F-statistic):} & 2.83e-239   \\\\\n",
       "\\textbf{Time:}             &     15:03:37     & \\textbf{  Log-Likelihood:    } &   -146.51   \\\\\n",
       "\\textbf{No. Observations:} &         100      & \\textbf{  AIC:               } &     299.0   \\\\\n",
       "\\textbf{Df Residuals:}     &          97      & \\textbf{  BIC:               } &     306.8   \\\\\n",
       "\\textbf{Df Model:}         &           2      & \\textbf{                     } &             \\\\\n",
       "\\textbf{Covariance Type:}  &    nonrobust     & \\textbf{                     } &             \\\\\n",
       "\\bottomrule\n",
       "\\end{tabular}\n",
       "\\begin{tabular}{lcccccc}\n",
       "               & \\textbf{coef} & \\textbf{std err} & \\textbf{t} & \\textbf{P$> |$t$|$} & \\textbf{[0.025} & \\textbf{0.975]}  \\\\\n",
       "\\midrule\n",
       "\\textbf{const} &       1.3423  &        0.313     &     4.292  &         0.000        &        0.722    &        1.963     \\\\\n",
       "\\textbf{x1}    &      -0.0402  &        0.145     &    -0.278  &         0.781        &       -0.327    &        0.247     \\\\\n",
       "\\textbf{x2}    &      10.0103  &        0.014     &   715.745  &         0.000        &        9.982    &       10.038     \\\\\n",
       "\\bottomrule\n",
       "\\end{tabular}\n",
       "\\begin{tabular}{lclc}\n",
       "\\textbf{Omnibus:}       &  2.042 & \\textbf{  Durbin-Watson:     } &    2.274  \\\\\n",
       "\\textbf{Prob(Omnibus):} &  0.360 & \\textbf{  Jarque-Bera (JB):  } &    1.875  \\\\\n",
       "\\textbf{Skew:}          &  0.234 & \\textbf{  Prob(JB):          } &    0.392  \\\\\n",
       "\\textbf{Kurtosis:}      &  2.519 & \\textbf{  Cond. No.          } &     144.  \\\\\n",
       "\\bottomrule\n",
       "\\end{tabular}\n",
       "%\\caption{OLS Regression Results}\n",
       "\\end{center}\n",
       "\n",
       "Notes: \\newline\n",
       " [1] Standard Errors assume that the covariance matrix of the errors is correctly specified."
      ],
      "text/plain": [
       "<class 'statsmodels.iolib.summary.Summary'>\n",
       "\"\"\"\n",
       "                            OLS Regression Results                            \n",
       "==============================================================================\n",
       "Dep. Variable:                      y   R-squared:                       1.000\n",
       "Model:                            OLS   Adj. R-squared:                  1.000\n",
       "Method:                 Least Squares   F-statistic:                 4.020e+06\n",
       "Date:                Thu, 02 May 2024   Prob (F-statistic):          2.83e-239\n",
       "Time:                        15:03:37   Log-Likelihood:                -146.51\n",
       "No. Observations:                 100   AIC:                             299.0\n",
       "Df Residuals:                      97   BIC:                             306.8\n",
       "Df Model:                           2                                         \n",
       "Covariance Type:            nonrobust                                         \n",
       "==============================================================================\n",
       "                 coef    std err          t      P>|t|      [0.025      0.975]\n",
       "------------------------------------------------------------------------------\n",
       "const          1.3423      0.313      4.292      0.000       0.722       1.963\n",
       "x1            -0.0402      0.145     -0.278      0.781      -0.327       0.247\n",
       "x2            10.0103      0.014    715.745      0.000       9.982      10.038\n",
       "==============================================================================\n",
       "Omnibus:                        2.042   Durbin-Watson:                   2.274\n",
       "Prob(Omnibus):                  0.360   Jarque-Bera (JB):                1.875\n",
       "Skew:                           0.234   Prob(JB):                        0.392\n",
       "Kurtosis:                       2.519   Cond. No.                         144.\n",
       "==============================================================================\n",
       "\n",
       "Notes:\n",
       "[1] Standard Errors assume that the covariance matrix of the errors is correctly specified.\n",
       "\"\"\""
      ]
     },
     "execution_count": 5,
     "metadata": {},
     "output_type": "execute_result"
    }
   ],
   "source": [
    "model = sm.OLS(y, X)\n",
    "results = model.fit()\n",
    "results.summary()"
   ]
  },
  {
   "cell_type": "markdown",
   "id": "d1781518-13dd-4334-8555-02713f4c3f6b",
   "metadata": {},
   "source": [
    "### Extract quantities"
   ]
  },
  {
   "cell_type": "code",
   "execution_count": 6,
   "id": "97b44ceb-a6cd-4563-9198-96ad5ae8e330",
   "metadata": {},
   "outputs": [
    {
     "name": "stdout",
     "output_type": "stream",
     "text": [
      "OLS parameters: [ 1.34233516 -0.04024948 10.01025357]\n",
      "R square: 0.9999879365025871\n"
     ]
    }
   ],
   "source": [
    "print(f\"OLS parameters: {results.params}\")\n",
    "print(f\"R square: {results.rsquared}\")"
   ]
  },
  {
   "cell_type": "markdown",
   "id": "8ac641e4-ceba-47f6-a94e-3b9ae6194e88",
   "metadata": {},
   "source": [
    "# OLS non-linear curve, but linear in parameters"
   ]
  },
  {
   "cell_type": "code",
   "execution_count": 7,
   "id": "74ba053c-cef0-4d86-bbee-776c33ba8c1f",
   "metadata": {},
   "outputs": [],
   "source": [
    "n_samples = 50\n",
    "sig = 0.5\n",
    "x = np.linspace(0, 20, n_samples)\n",
    "X = np.column_stack((x, np.sin(x), (x - 5) ** 2, np.ones(n_samples)))\n",
    "beta = [0.5, 0.5, -0.02, 5.0]\n",
    "\n",
    "y_true = np.dot(X ,beta)\n",
    "y = y_true + sig * np.random.normal(size = n_samples)"
   ]
  },
  {
   "cell_type": "code",
   "execution_count": 8,
   "id": "d7c7c27f-caff-4955-9aab-71204cfb68ca",
   "metadata": {},
   "outputs": [
    {
     "data": {
      "text/html": [
       "<table class=\"simpletable\">\n",
       "<caption>OLS Regression Results</caption>\n",
       "<tr>\n",
       "  <th>Dep. Variable:</th>            <td>y</td>        <th>  R-squared:         </th> <td>   0.933</td>\n",
       "</tr>\n",
       "<tr>\n",
       "  <th>Model:</th>                   <td>OLS</td>       <th>  Adj. R-squared:    </th> <td>   0.928</td>\n",
       "</tr>\n",
       "<tr>\n",
       "  <th>Method:</th>             <td>Least Squares</td>  <th>  F-statistic:       </th> <td>   211.8</td>\n",
       "</tr>\n",
       "<tr>\n",
       "  <th>Date:</th>             <td>Thu, 02 May 2024</td> <th>  Prob (F-statistic):</th> <td>6.30e-27</td>\n",
       "</tr>\n",
       "<tr>\n",
       "  <th>Time:</th>                 <td>15:03:37</td>     <th>  Log-Likelihood:    </th> <td> -34.438</td>\n",
       "</tr>\n",
       "<tr>\n",
       "  <th>No. Observations:</th>      <td>    50</td>      <th>  AIC:               </th> <td>   76.88</td>\n",
       "</tr>\n",
       "<tr>\n",
       "  <th>Df Residuals:</th>          <td>    46</td>      <th>  BIC:               </th> <td>   84.52</td>\n",
       "</tr>\n",
       "<tr>\n",
       "  <th>Df Model:</th>              <td>     3</td>      <th>                     </th>     <td> </td>   \n",
       "</tr>\n",
       "<tr>\n",
       "  <th>Covariance Type:</th>      <td>nonrobust</td>    <th>                     </th>     <td> </td>   \n",
       "</tr>\n",
       "</table>\n",
       "<table class=\"simpletable\">\n",
       "<tr>\n",
       "    <td></td>       <th>coef</th>     <th>std err</th>      <th>t</th>      <th>P>|t|</th>  <th>[0.025</th>    <th>0.975]</th>  \n",
       "</tr>\n",
       "<tr>\n",
       "  <th>x1</th>    <td>    0.4687</td> <td>    0.026</td> <td>   17.751</td> <td> 0.000</td> <td>    0.416</td> <td>    0.522</td>\n",
       "</tr>\n",
       "<tr>\n",
       "  <th>x2</th>    <td>    0.4836</td> <td>    0.104</td> <td>    4.659</td> <td> 0.000</td> <td>    0.275</td> <td>    0.693</td>\n",
       "</tr>\n",
       "<tr>\n",
       "  <th>x3</th>    <td>   -0.0174</td> <td>    0.002</td> <td>   -7.507</td> <td> 0.000</td> <td>   -0.022</td> <td>   -0.013</td>\n",
       "</tr>\n",
       "<tr>\n",
       "  <th>const</th> <td>    5.2058</td> <td>    0.171</td> <td>   30.405</td> <td> 0.000</td> <td>    4.861</td> <td>    5.550</td>\n",
       "</tr>\n",
       "</table>\n",
       "<table class=\"simpletable\">\n",
       "<tr>\n",
       "  <th>Omnibus:</th>       <td> 0.655</td> <th>  Durbin-Watson:     </th> <td>   2.896</td>\n",
       "</tr>\n",
       "<tr>\n",
       "  <th>Prob(Omnibus):</th> <td> 0.721</td> <th>  Jarque-Bera (JB):  </th> <td>   0.360</td>\n",
       "</tr>\n",
       "<tr>\n",
       "  <th>Skew:</th>          <td> 0.207</td> <th>  Prob(JB):          </th> <td>   0.835</td>\n",
       "</tr>\n",
       "<tr>\n",
       "  <th>Kurtosis:</th>      <td> 3.026</td> <th>  Cond. No.          </th> <td>    221.</td>\n",
       "</tr>\n",
       "</table><br/><br/>Notes:<br/>[1] Standard Errors assume that the covariance matrix of the errors is correctly specified."
      ],
      "text/latex": [
       "\\begin{center}\n",
       "\\begin{tabular}{lclc}\n",
       "\\toprule\n",
       "\\textbf{Dep. Variable:}    &        y         & \\textbf{  R-squared:         } &     0.933   \\\\\n",
       "\\textbf{Model:}            &       OLS        & \\textbf{  Adj. R-squared:    } &     0.928   \\\\\n",
       "\\textbf{Method:}           &  Least Squares   & \\textbf{  F-statistic:       } &     211.8   \\\\\n",
       "\\textbf{Date:}             & Thu, 02 May 2024 & \\textbf{  Prob (F-statistic):} &  6.30e-27   \\\\\n",
       "\\textbf{Time:}             &     15:03:37     & \\textbf{  Log-Likelihood:    } &   -34.438   \\\\\n",
       "\\textbf{No. Observations:} &          50      & \\textbf{  AIC:               } &     76.88   \\\\\n",
       "\\textbf{Df Residuals:}     &          46      & \\textbf{  BIC:               } &     84.52   \\\\\n",
       "\\textbf{Df Model:}         &           3      & \\textbf{                     } &             \\\\\n",
       "\\textbf{Covariance Type:}  &    nonrobust     & \\textbf{                     } &             \\\\\n",
       "\\bottomrule\n",
       "\\end{tabular}\n",
       "\\begin{tabular}{lcccccc}\n",
       "               & \\textbf{coef} & \\textbf{std err} & \\textbf{t} & \\textbf{P$> |$t$|$} & \\textbf{[0.025} & \\textbf{0.975]}  \\\\\n",
       "\\midrule\n",
       "\\textbf{x1}    &       0.4687  &        0.026     &    17.751  &         0.000        &        0.416    &        0.522     \\\\\n",
       "\\textbf{x2}    &       0.4836  &        0.104     &     4.659  &         0.000        &        0.275    &        0.693     \\\\\n",
       "\\textbf{x3}    &      -0.0174  &        0.002     &    -7.507  &         0.000        &       -0.022    &       -0.013     \\\\\n",
       "\\textbf{const} &       5.2058  &        0.171     &    30.405  &         0.000        &        4.861    &        5.550     \\\\\n",
       "\\bottomrule\n",
       "\\end{tabular}\n",
       "\\begin{tabular}{lclc}\n",
       "\\textbf{Omnibus:}       &  0.655 & \\textbf{  Durbin-Watson:     } &    2.896  \\\\\n",
       "\\textbf{Prob(Omnibus):} &  0.721 & \\textbf{  Jarque-Bera (JB):  } &    0.360  \\\\\n",
       "\\textbf{Skew:}          &  0.207 & \\textbf{  Prob(JB):          } &    0.835  \\\\\n",
       "\\textbf{Kurtosis:}      &  3.026 & \\textbf{  Cond. No.          } &     221.  \\\\\n",
       "\\bottomrule\n",
       "\\end{tabular}\n",
       "%\\caption{OLS Regression Results}\n",
       "\\end{center}\n",
       "\n",
       "Notes: \\newline\n",
       " [1] Standard Errors assume that the covariance matrix of the errors is correctly specified."
      ],
      "text/plain": [
       "<class 'statsmodels.iolib.summary.Summary'>\n",
       "\"\"\"\n",
       "                            OLS Regression Results                            \n",
       "==============================================================================\n",
       "Dep. Variable:                      y   R-squared:                       0.933\n",
       "Model:                            OLS   Adj. R-squared:                  0.928\n",
       "Method:                 Least Squares   F-statistic:                     211.8\n",
       "Date:                Thu, 02 May 2024   Prob (F-statistic):           6.30e-27\n",
       "Time:                        15:03:37   Log-Likelihood:                -34.438\n",
       "No. Observations:                  50   AIC:                             76.88\n",
       "Df Residuals:                      46   BIC:                             84.52\n",
       "Df Model:                           3                                         \n",
       "Covariance Type:            nonrobust                                         \n",
       "==============================================================================\n",
       "                 coef    std err          t      P>|t|      [0.025      0.975]\n",
       "------------------------------------------------------------------------------\n",
       "x1             0.4687      0.026     17.751      0.000       0.416       0.522\n",
       "x2             0.4836      0.104      4.659      0.000       0.275       0.693\n",
       "x3            -0.0174      0.002     -7.507      0.000      -0.022      -0.013\n",
       "const          5.2058      0.171     30.405      0.000       4.861       5.550\n",
       "==============================================================================\n",
       "Omnibus:                        0.655   Durbin-Watson:                   2.896\n",
       "Prob(Omnibus):                  0.721   Jarque-Bera (JB):                0.360\n",
       "Skew:                           0.207   Prob(JB):                        0.835\n",
       "Kurtosis:                       3.026   Cond. No.                         221.\n",
       "==============================================================================\n",
       "\n",
       "Notes:\n",
       "[1] Standard Errors assume that the covariance matrix of the errors is correctly specified.\n",
       "\"\"\""
      ]
     },
     "execution_count": 8,
     "metadata": {},
     "output_type": "execute_result"
    }
   ],
   "source": [
    "res = sm.OLS(y, X).fit()\n",
    "res.summary()"
   ]
  },
  {
   "cell_type": "code",
   "execution_count": 9,
   "id": "ed1de82f-ecac-4be7-9b3c-b52af25c790c",
   "metadata": {},
   "outputs": [
    {
     "name": "stdout",
     "output_type": "stream",
     "text": [
      "Prameters: [ 0.46872448  0.48360119 -0.01740479  5.20584496]\n",
      "Standard Errors: [0.02640602 0.10380518 0.00231847 0.17121765]\n",
      "Predicted values:\n",
      " [ 4.77072516  5.22213464  5.63620761  5.98658823  6.25643234  6.44117491\n",
      "  6.54928009  6.60085051  6.62432454  6.6518039   6.71377946  6.83412169\n",
      "  7.02615877  7.29048685  7.61487206  7.97626054  8.34456611  8.68761335\n",
      "  8.97642389  9.18997755  9.31866582  9.36587056  9.34740836  9.28893189\n",
      "  9.22171529  9.17751587  9.1833565   9.25708583  9.40444579  9.61812821\n",
      "  9.87897556 10.15912843 10.42660281 10.65054491 10.8063004  10.87946503\n",
      " 10.86825119 10.78378163 10.64826203 10.49133265 10.34519853 10.23933827\n",
      " 10.19566084 10.22490593 10.32487947 10.48081414 10.66779556 10.85485568\n",
      " 11.01006072 11.10575781]\n"
     ]
    }
   ],
   "source": [
    "print(\"Prameters:\", res.params)\n",
    "print(\"Standard Errors:\", res.bse)\n",
    "print(\"Predicted values:\\n\", res.predict())"
   ]
  },
  {
   "cell_type": "markdown",
   "id": "aa97622a-6cb1-4bf3-92e5-0ce5867981fc",
   "metadata": {},
   "source": [
    "## Draw a plot\n",
    "> Confidence intervals around the predictions are built using the \"wls_prediction_std\" command."
   ]
  },
  {
   "cell_type": "code",
   "execution_count": 10,
   "id": "c2591884-e0f6-4e00-84e0-332f86467d92",
   "metadata": {},
   "outputs": [
    {
     "data": {
      "text/plain": [
       "<matplotlib.legend.Legend at 0x241f392d5b0>"
      ]
     },
     "execution_count": 10,
     "metadata": {},
     "output_type": "execute_result"
    },
    {
     "data": {
      "image/png": "[encoded data removed]",
      "text/plain": [
       "<Figure size 800x600 with 1 Axes>"
      ]
     },
     "metadata": {},
     "output_type": "display_data"
    }
   ],
   "source": [
    "pred_ols = res.get_prediction()\n",
    "iv_l = pred_ols.summary_frame()[\"obs_ci_lower\"]\n",
    "iv_u = pred_ols.summary_frame()[\"obs_ci_upper\"]\n",
    "\n",
    "fig, ax = plt.subplots(figsize = (8, 6))\n",
    "\n",
    "ax.plot(x, y, \"o\", label = \"data\")\n",
    "ax.plot(x, y_true, \"b-\", label = \"True y\")\n",
    "ax.plot(x, res.fittedvalues, \"r--\", label = \"OLS\")\n",
    "ax.plot(x, iv_u, \"r--\")\n",
    "ax.plot(x, iv_l, \"r--\")\n",
    "ax.legend(loc = \"best\")"
   ]
  },
  {
   "cell_type": "markdown",
   "id": "fea8e76f-a337-4f2d-b524-a5d14d782fe8",
   "metadata": {},
   "source": [
    "# OLS with dummy variables"
   ]
  },
  {
   "cell_type": "code",
   "execution_count": 11,
   "id": "d88a06e6-c3ff-46a9-9112-79630e6b1e88",
   "metadata": {},
   "outputs": [],
   "source": [
    "n = 50\n",
    "groups = np.zeros(n, int)\n",
    "groups[20:40] = 1\n",
    "groups[40:] = 2\n",
    "\n",
    "dummy = pd.get_dummies(groups).values\n",
    "x = np.linspace(0, 20, n)\n",
    "\n",
    "# Drop reference category\n",
    "X = np.column_stack((x, dummy[:, 1:]))\n",
    "X = sm.add_constant(X, prepend = False)\n",
    "\n",
    "beta = [1, 3, -3, 10]\n",
    "y_true = np.dot(X, beta)\n",
    "e = np.random.normal(size = n)\n",
    "y = y_true + e"
   ]
  },
  {
   "cell_type": "code",
   "execution_count": 12,
   "id": "44f30131-5fb6-4857-8e8c-697c848f0e99",
   "metadata": {},
   "outputs": [
    {
     "data": {
      "text/html": [
       "<div>\n",
       "<style scoped>\n",
       "    .dataframe tbody tr th:only-of-type {\n",
       "        vertical-align: middle;\n",
       "    }\n",
       "\n",
       "    .dataframe tbody tr th {\n",
       "        vertical-align: top;\n",
       "    }\n",
       "\n",
       "    .dataframe thead th {\n",
       "        text-align: right;\n",
       "    }\n",
       "</style>\n",
       "<table border=\"1\" class=\"dataframe\">\n",
       "  <thead>\n",
       "    <tr style=\"text-align: right;\">\n",
       "      <th></th>\n",
       "      <th>x</th>\n",
       "      <th>dummy1</th>\n",
       "      <th>dummy2</th>\n",
       "      <th>y</th>\n",
       "    </tr>\n",
       "  </thead>\n",
       "  <tbody>\n",
       "    <tr>\n",
       "      <th>count</th>\n",
       "      <td>50.000000</td>\n",
       "      <td>50.000000</td>\n",
       "      <td>50.000000</td>\n",
       "      <td>50.000000</td>\n",
       "    </tr>\n",
       "    <tr>\n",
       "      <th>mean</th>\n",
       "      <td>10.000000</td>\n",
       "      <td>0.400000</td>\n",
       "      <td>0.200000</td>\n",
       "      <td>20.613962</td>\n",
       "    </tr>\n",
       "    <tr>\n",
       "      <th>std</th>\n",
       "      <td>5.949951</td>\n",
       "      <td>0.494872</td>\n",
       "      <td>0.404061</td>\n",
       "      <td>5.960692</td>\n",
       "    </tr>\n",
       "    <tr>\n",
       "      <th>min</th>\n",
       "      <td>0.000000</td>\n",
       "      <td>0.000000</td>\n",
       "      <td>0.000000</td>\n",
       "      <td>9.282233</td>\n",
       "    </tr>\n",
       "    <tr>\n",
       "      <th>25%</th>\n",
       "      <td>5.000000</td>\n",
       "      <td>0.000000</td>\n",
       "      <td>0.000000</td>\n",
       "      <td>14.928072</td>\n",
       "    </tr>\n",
       "    <tr>\n",
       "      <th>50%</th>\n",
       "      <td>10.000000</td>\n",
       "      <td>0.000000</td>\n",
       "      <td>0.000000</td>\n",
       "      <td>22.356774</td>\n",
       "    </tr>\n",
       "    <tr>\n",
       "      <th>75%</th>\n",
       "      <td>15.000000</td>\n",
       "      <td>1.000000</td>\n",
       "      <td>0.000000</td>\n",
       "      <td>25.852375</td>\n",
       "    </tr>\n",
       "    <tr>\n",
       "      <th>max</th>\n",
       "      <td>20.000000</td>\n",
       "      <td>1.000000</td>\n",
       "      <td>1.000000</td>\n",
       "      <td>29.646338</td>\n",
       "    </tr>\n",
       "  </tbody>\n",
       "</table>\n",
       "</div>"
      ],
      "text/plain": [
       "               x     dummy1     dummy2          y\n",
       "count  50.000000  50.000000  50.000000  50.000000\n",
       "mean   10.000000   0.400000   0.200000  20.613962\n",
       "std     5.949951   0.494872   0.404061   5.960692\n",
       "min     0.000000   0.000000   0.000000   9.282233\n",
       "25%     5.000000   0.000000   0.000000  14.928072\n",
       "50%    10.000000   0.000000   0.000000  22.356774\n",
       "75%    15.000000   1.000000   0.000000  25.852375\n",
       "max    20.000000   1.000000   1.000000  29.646338"
      ]
     },
     "execution_count": 12,
     "metadata": {},
     "output_type": "execute_result"
    }
   ],
   "source": [
    "pd.DataFrame({\"x\": X[:,0],\n",
    "              \"dummy1\": X[:,1],\n",
    "              \"dummy2\": X[:,2],\n",
    "              \"y\": y}\n",
    "            ).describe()"
   ]
  },
  {
   "cell_type": "code",
   "execution_count": 13,
   "id": "e5f8f573-7bd8-4442-b0db-cbc87a47a5bf",
   "metadata": {},
   "outputs": [
    {
     "data": {
      "text/html": [
       "<div>\n",
       "<style scoped>\n",
       "    .dataframe tbody tr th:only-of-type {\n",
       "        vertical-align: middle;\n",
       "    }\n",
       "\n",
       "    .dataframe tbody tr th {\n",
       "        vertical-align: top;\n",
       "    }\n",
       "\n",
       "    .dataframe thead th {\n",
       "        text-align: right;\n",
       "    }\n",
       "</style>\n",
       "<table border=\"1\" class=\"dataframe\">\n",
       "  <thead>\n",
       "    <tr style=\"text-align: right;\">\n",
       "      <th></th>\n",
       "      <th>x</th>\n",
       "      <th>dummy</th>\n",
       "      <th>dummy2</th>\n",
       "      <th>y</th>\n",
       "    </tr>\n",
       "  </thead>\n",
       "  <tbody>\n",
       "    <tr>\n",
       "      <th>0</th>\n",
       "      <td>0.000000</td>\n",
       "      <td>0.0</td>\n",
       "      <td>0.0</td>\n",
       "      <td>9.282233</td>\n",
       "    </tr>\n",
       "    <tr>\n",
       "      <th>1</th>\n",
       "      <td>0.408163</td>\n",
       "      <td>0.0</td>\n",
       "      <td>0.0</td>\n",
       "      <td>10.504819</td>\n",
       "    </tr>\n",
       "    <tr>\n",
       "      <th>2</th>\n",
       "      <td>0.816327</td>\n",
       "      <td>0.0</td>\n",
       "      <td>0.0</td>\n",
       "      <td>11.843892</td>\n",
       "    </tr>\n",
       "    <tr>\n",
       "      <th>3</th>\n",
       "      <td>1.224490</td>\n",
       "      <td>0.0</td>\n",
       "      <td>0.0</td>\n",
       "      <td>10.385084</td>\n",
       "    </tr>\n",
       "    <tr>\n",
       "      <th>4</th>\n",
       "      <td>1.632653</td>\n",
       "      <td>0.0</td>\n",
       "      <td>0.0</td>\n",
       "      <td>12.379420</td>\n",
       "    </tr>\n",
       "  </tbody>\n",
       "</table>\n",
       "</div>"
      ],
      "text/plain": [
       "          x  dummy  dummy2          y\n",
       "0  0.000000    0.0     0.0   9.282233\n",
       "1  0.408163    0.0     0.0  10.504819\n",
       "2  0.816327    0.0     0.0  11.843892\n",
       "3  1.224490    0.0     0.0  10.385084\n",
       "4  1.632653    0.0     0.0  12.379420"
      ]
     },
     "execution_count": 13,
     "metadata": {},
     "output_type": "execute_result"
    }
   ],
   "source": [
    "pd.DataFrame({\"x\": X[:,0],\n",
    "              \"dummy\": X[:,1],\n",
    "              \"dummy2\": X[:,2],\n",
    "              \"y\": y}\n",
    "            ).head()"
   ]
  },
  {
   "cell_type": "code",
   "execution_count": 14,
   "id": "45380f6b-cd09-4813-90a7-8e9882fbc945",
   "metadata": {},
   "outputs": [
    {
     "data": {
      "text/html": [
       "<div>\n",
       "<style scoped>\n",
       "    .dataframe tbody tr th:only-of-type {\n",
       "        vertical-align: middle;\n",
       "    }\n",
       "\n",
       "    .dataframe tbody tr th {\n",
       "        vertical-align: top;\n",
       "    }\n",
       "\n",
       "    .dataframe thead th {\n",
       "        text-align: right;\n",
       "    }\n",
       "</style>\n",
       "<table border=\"1\" class=\"dataframe\">\n",
       "  <thead>\n",
       "    <tr style=\"text-align: right;\">\n",
       "      <th></th>\n",
       "      <th>0</th>\n",
       "      <th>1</th>\n",
       "      <th>2</th>\n",
       "    </tr>\n",
       "  </thead>\n",
       "  <tbody>\n",
       "    <tr>\n",
       "      <th>0</th>\n",
       "      <td>True</td>\n",
       "      <td>False</td>\n",
       "      <td>False</td>\n",
       "    </tr>\n",
       "    <tr>\n",
       "      <th>1</th>\n",
       "      <td>True</td>\n",
       "      <td>False</td>\n",
       "      <td>False</td>\n",
       "    </tr>\n",
       "    <tr>\n",
       "      <th>2</th>\n",
       "      <td>True</td>\n",
       "      <td>False</td>\n",
       "      <td>False</td>\n",
       "    </tr>\n",
       "    <tr>\n",
       "      <th>3</th>\n",
       "      <td>True</td>\n",
       "      <td>False</td>\n",
       "      <td>False</td>\n",
       "    </tr>\n",
       "    <tr>\n",
       "      <th>4</th>\n",
       "      <td>True</td>\n",
       "      <td>False</td>\n",
       "      <td>False</td>\n",
       "    </tr>\n",
       "  </tbody>\n",
       "</table>\n",
       "</div>"
      ],
      "text/plain": [
       "      0      1      2\n",
       "0  True  False  False\n",
       "1  True  False  False\n",
       "2  True  False  False\n",
       "3  True  False  False\n",
       "4  True  False  False"
      ]
     },
     "execution_count": 14,
     "metadata": {},
     "output_type": "execute_result"
    }
   ],
   "source": [
    "pd.DataFrame(dummy).head()"
   ]
  },
  {
   "cell_type": "code",
   "execution_count": 15,
   "id": "2e7ff2bc-afd1-4172-a038-e7efb79d0d98",
   "metadata": {},
   "outputs": [
    {
     "data": {
      "text/html": [
       "<table class=\"simpletable\">\n",
       "<caption>OLS Regression Results</caption>\n",
       "<tr>\n",
       "  <th>Dep. Variable:</th>            <td>y</td>        <th>  R-squared:         </th> <td>   0.978</td>\n",
       "</tr>\n",
       "<tr>\n",
       "  <th>Model:</th>                   <td>OLS</td>       <th>  Adj. R-squared:    </th> <td>   0.976</td>\n",
       "</tr>\n",
       "<tr>\n",
       "  <th>Method:</th>             <td>Least Squares</td>  <th>  F-statistic:       </th> <td>   671.7</td>\n",
       "</tr>\n",
       "<tr>\n",
       "  <th>Date:</th>             <td>Thu, 02 May 2024</td> <th>  Prob (F-statistic):</th> <td>5.69e-38</td>\n",
       "</tr>\n",
       "<tr>\n",
       "  <th>Time:</th>                 <td>15:03:37</td>     <th>  Log-Likelihood:    </th> <td> -64.643</td>\n",
       "</tr>\n",
       "<tr>\n",
       "  <th>No. Observations:</th>      <td>    50</td>      <th>  AIC:               </th> <td>   137.3</td>\n",
       "</tr>\n",
       "<tr>\n",
       "  <th>Df Residuals:</th>          <td>    46</td>      <th>  BIC:               </th> <td>   144.9</td>\n",
       "</tr>\n",
       "<tr>\n",
       "  <th>Df Model:</th>              <td>     3</td>      <th>                     </th>     <td> </td>   \n",
       "</tr>\n",
       "<tr>\n",
       "  <th>Covariance Type:</th>      <td>nonrobust</td>    <th>                     </th>     <td> </td>   \n",
       "</tr>\n",
       "</table>\n",
       "<table class=\"simpletable\">\n",
       "<tr>\n",
       "    <td></td>       <th>coef</th>     <th>std err</th>      <th>t</th>      <th>P>|t|</th>  <th>[0.025</th>    <th>0.975]</th>  \n",
       "</tr>\n",
       "<tr>\n",
       "  <th>x1</th>    <td>    0.9999</td> <td>    0.060</td> <td>   16.689</td> <td> 0.000</td> <td>    0.879</td> <td>    1.121</td>\n",
       "</tr>\n",
       "<tr>\n",
       "  <th>x2</th>    <td>    2.8909</td> <td>    0.569</td> <td>    5.081</td> <td> 0.000</td> <td>    1.746</td> <td>    4.036</td>\n",
       "</tr>\n",
       "<tr>\n",
       "  <th>x3</th>    <td>   -3.2232</td> <td>    0.927</td> <td>   -3.477</td> <td> 0.001</td> <td>   -5.089</td> <td>   -1.357</td>\n",
       "</tr>\n",
       "<tr>\n",
       "  <th>const</th> <td>   10.1031</td> <td>    0.310</td> <td>   32.573</td> <td> 0.000</td> <td>    9.479</td> <td>   10.727</td>\n",
       "</tr>\n",
       "</table>\n",
       "<table class=\"simpletable\">\n",
       "<tr>\n",
       "  <th>Omnibus:</th>       <td> 2.831</td> <th>  Durbin-Watson:     </th> <td>   1.998</td>\n",
       "</tr>\n",
       "<tr>\n",
       "  <th>Prob(Omnibus):</th> <td> 0.243</td> <th>  Jarque-Bera (JB):  </th> <td>   1.927</td>\n",
       "</tr>\n",
       "<tr>\n",
       "  <th>Skew:</th>          <td>-0.279</td> <th>  Prob(JB):          </th> <td>   0.382</td>\n",
       "</tr>\n",
       "<tr>\n",
       "  <th>Kurtosis:</th>      <td> 2.217</td> <th>  Cond. No.          </th> <td>    96.3</td>\n",
       "</tr>\n",
       "</table><br/><br/>Notes:<br/>[1] Standard Errors assume that the covariance matrix of the errors is correctly specified."
      ],
      "text/latex": [
       "\\begin{center}\n",
       "\\begin{tabular}{lclc}\n",
       "\\toprule\n",
       "\\textbf{Dep. Variable:}    &        y         & \\textbf{  R-squared:         } &     0.978   \\\\\n",
       "\\textbf{Model:}            &       OLS        & \\textbf{  Adj. R-squared:    } &     0.976   \\\\\n",
       "\\textbf{Method:}           &  Least Squares   & \\textbf{  F-statistic:       } &     671.7   \\\\\n",
       "\\textbf{Date:}             & Thu, 02 May 2024 & \\textbf{  Prob (F-statistic):} &  5.69e-38   \\\\\n",
       "\\textbf{Time:}             &     15:03:37     & \\textbf{  Log-Likelihood:    } &   -64.643   \\\\\n",
       "\\textbf{No. Observations:} &          50      & \\textbf{  AIC:               } &     137.3   \\\\\n",
       "\\textbf{Df Residuals:}     &          46      & \\textbf{  BIC:               } &     144.9   \\\\\n",
       "\\textbf{Df Model:}         &           3      & \\textbf{                     } &             \\\\\n",
       "\\textbf{Covariance Type:}  &    nonrobust     & \\textbf{                     } &             \\\\\n",
       "\\bottomrule\n",
       "\\end{tabular}\n",
       "\\begin{tabular}{lcccccc}\n",
       "               & \\textbf{coef} & \\textbf{std err} & \\textbf{t} & \\textbf{P$> |$t$|$} & \\textbf{[0.025} & \\textbf{0.975]}  \\\\\n",
       "\\midrule\n",
       "\\textbf{x1}    &       0.9999  &        0.060     &    16.689  &         0.000        &        0.879    &        1.121     \\\\\n",
       "\\textbf{x2}    &       2.8909  &        0.569     &     5.081  &         0.000        &        1.746    &        4.036     \\\\\n",
       "\\textbf{x3}    &      -3.2232  &        0.927     &    -3.477  &         0.001        &       -5.089    &       -1.357     \\\\\n",
       "\\textbf{const} &      10.1031  &        0.310     &    32.573  &         0.000        &        9.479    &       10.727     \\\\\n",
       "\\bottomrule\n",
       "\\end{tabular}\n",
       "\\begin{tabular}{lclc}\n",
       "\\textbf{Omnibus:}       &  2.831 & \\textbf{  Durbin-Watson:     } &    1.998  \\\\\n",
       "\\textbf{Prob(Omnibus):} &  0.243 & \\textbf{  Jarque-Bera (JB):  } &    1.927  \\\\\n",
       "\\textbf{Skew:}          & -0.279 & \\textbf{  Prob(JB):          } &    0.382  \\\\\n",
       "\\textbf{Kurtosis:}      &  2.217 & \\textbf{  Cond. No.          } &     96.3  \\\\\n",
       "\\bottomrule\n",
       "\\end{tabular}\n",
       "%\\caption{OLS Regression Results}\n",
       "\\end{center}\n",
       "\n",
       "Notes: \\newline\n",
       " [1] Standard Errors assume that the covariance matrix of the errors is correctly specified."
      ],
      "text/plain": [
       "<class 'statsmodels.iolib.summary.Summary'>\n",
       "\"\"\"\n",
       "                            OLS Regression Results                            \n",
       "==============================================================================\n",
       "Dep. Variable:                      y   R-squared:                       0.978\n",
       "Model:                            OLS   Adj. R-squared:                  0.976\n",
       "Method:                 Least Squares   F-statistic:                     671.7\n",
       "Date:                Thu, 02 May 2024   Prob (F-statistic):           5.69e-38\n",
       "Time:                        15:03:37   Log-Likelihood:                -64.643\n",
       "No. Observations:                  50   AIC:                             137.3\n",
       "Df Residuals:                      46   BIC:                             144.9\n",
       "Df Model:                           3                                         \n",
       "Covariance Type:            nonrobust                                         \n",
       "==============================================================================\n",
       "                 coef    std err          t      P>|t|      [0.025      0.975]\n",
       "------------------------------------------------------------------------------\n",
       "x1             0.9999      0.060     16.689      0.000       0.879       1.121\n",
       "x2             2.8909      0.569      5.081      0.000       1.746       4.036\n",
       "x3            -3.2232      0.927     -3.477      0.001      -5.089      -1.357\n",
       "const         10.1031      0.310     32.573      0.000       9.479      10.727\n",
       "==============================================================================\n",
       "Omnibus:                        2.831   Durbin-Watson:                   1.998\n",
       "Prob(Omnibus):                  0.243   Jarque-Bera (JB):                1.927\n",
       "Skew:                          -0.279   Prob(JB):                        0.382\n",
       "Kurtosis:                       2.217   Cond. No.                         96.3\n",
       "==============================================================================\n",
       "\n",
       "Notes:\n",
       "[1] Standard Errors assume that the covariance matrix of the errors is correctly specified.\n",
       "\"\"\""
      ]
     },
     "execution_count": 15,
     "metadata": {},
     "output_type": "execute_result"
    }
   ],
   "source": [
    "res2 = sm.OLS(y, X).fit()\n",
    "res2.summary()"
   ]
  },
  {
   "cell_type": "code",
   "execution_count": 16,
   "id": "2f1c2252-3790-4498-847d-93a7b7a8dfc1",
   "metadata": {},
   "outputs": [
    {
     "data": {
      "image/png": "[encoded data removed]",
      "text/plain": [
       "<Figure size 800x600 with 1 Axes>"
      ]
     },
     "metadata": {},
     "output_type": "display_data"
    }
   ],
   "source": [
    "pred_ols2 = res2.get_prediction()\n",
    "CI_lower = pred_ols2.summary_frame()[\"obs_ci_lower\"]\n",
    "CI_upper = pred_ols2.summary_frame()[\"obs_ci_upper\"]\n",
    "\n",
    "fig, ax = plt.subplots(figsize = (8, 6))\n",
    "\n",
    "ax.plot(x, y, \"o\", label = \"Data\")\n",
    "ax.plot(x, y_true, \"b-\", label = \"True y\")\n",
    "ax.plot(x, res2.fittedvalues, \"r--.\", label = \"Predicted\")\n",
    "ax.plot(x, CI_upper, \"r--\")\n",
    "ax.plot(x, CI_lower, \"r--\")\n",
    "legend = ax.legend(loc = \"best\")"
   ]
  },
  {
   "cell_type": "markdown",
   "id": "49de3d0f-6647-4816-91e9-b7badc8da17d",
   "metadata": {},
   "source": [
    "## F test"
   ]
  },
  {
   "cell_type": "code",
   "execution_count": 17,
   "id": "8d1f7d32-4a10-4c5d-881a-47eb05d70b0b",
   "metadata": {},
   "outputs": [
    {
     "name": "stdout",
     "output_type": "stream",
     "text": [
      "[[0 1 0 0]\n",
      " [0 0 1 0]]\n",
      "<F test: F=145.49268198028102, p=1.2834419617280512e-20, df_denom=46, df_num=2>\n"
     ]
    }
   ],
   "source": [
    "R = [\n",
    "    [0, 1, 0, 0],\n",
    "    [0, 0, 1, 0]\n",
    "]\n",
    "print(np.array(R))\n",
    "print(res2.f_test(R))"
   ]
  },
  {
   "cell_type": "code",
   "execution_count": 18,
   "id": "844314ef-6997-46c6-a8cc-2dba6e493f34",
   "metadata": {},
   "outputs": [
    {
     "name": "stdout",
     "output_type": "stream",
     "text": [
      "<F test: F=145.49268198028074, p=1.2834419617280974e-20, df_denom=46, df_num=2>\n"
     ]
    }
   ],
   "source": [
    "print(res2.f_test(\"x2 = x3 = 0\"))"
   ]
  },
  {
   "cell_type": "markdown",
   "id": "cc495efa-ca79-4214-a8cc-2b297f6ef285",
   "metadata": {},
   "source": [
    "## Samller group effects"
   ]
  },
  {
   "cell_type": "code",
   "execution_count": 19,
   "id": "663c97c6-a627-4420-8101-e446e5c48826",
   "metadata": {},
   "outputs": [],
   "source": [
    "beta = [1, 0.3, -0, 10]\n",
    "y_true = np.dot(X, beta)\n",
    "y = y_true + np.random.normal(size = n)\n",
    "\n",
    "res3 = sm.OLS(y,X).fit()"
   ]
  },
  {
   "cell_type": "code",
   "execution_count": 20,
   "id": "654932e6-eb93-4369-9fce-814086f39b85",
   "metadata": {},
   "outputs": [
    {
     "name": "stdout",
     "output_type": "stream",
     "text": [
      "<F test: F=1.224911192540921, p=0.30318644106311926, df_denom=46, df_num=2>\n"
     ]
    }
   ],
   "source": [
    "print(res3.f_test(R))"
   ]
  },
  {
   "cell_type": "code",
   "execution_count": 21,
   "id": "d8e4c6d1-9909-4912-a6af-3668ef0ef9c9",
   "metadata": {},
   "outputs": [
    {
     "name": "stdout",
     "output_type": "stream",
     "text": [
      "<F test: F=1.2249111925409215, p=0.30318644106311926, df_denom=46, df_num=2>\n"
     ]
    }
   ],
   "source": [
    "print(res3.f_test(\"x2 = x3 = 0\"))"
   ]
  },
  {
   "cell_type": "code",
   "execution_count": 22,
   "id": "33a7e766-18d8-4bba-90cb-bfbd48646dc0",
   "metadata": {},
   "outputs": [
    {
     "data": {
      "text/plain": [
       "<class 'statsmodels.stats.contrast.ContrastResults'>\n",
       "<F test: F=204.3064803728582, p=1.544731962023745e-18, df_denom=46, df_num=1>"
      ]
     },
     "execution_count": 22,
     "metadata": {},
     "output_type": "execute_result"
    }
   ],
   "source": [
    "res3.f_test(\"x1 = 0\")"
   ]
  },
  {
   "cell_type": "markdown",
   "id": "c54e89a1-7b22-4dd7-a34a-423e80432943",
   "metadata": {},
   "source": [
    "# Multicollinearity\n",
    "> The Longley dataset is well known to have high multicollinearity. <br>\n",
    "That is, the exogenous predictors are highly correlated.\n",
    "> <br>This is problematic because it can affect the stability of coefficient estimates."
   ]
  },
  {
   "cell_type": "code",
   "execution_count": 23,
   "id": "72800b4e-6196-4bb6-9116-d84b9fa2a5fc",
   "metadata": {},
   "outputs": [],
   "source": [
    "from statsmodels.datasets.longley import load_pandas\n",
    "y = load_pandas().endog\n",
    "X = load_pandas().exog"
   ]
  },
  {
   "cell_type": "code",
   "execution_count": 24,
   "id": "c8e41fef-590a-48e9-901f-c712ad8c469c",
   "metadata": {},
   "outputs": [
    {
     "data": {
      "text/plain": [
       "'TOTEMP'"
      ]
     },
     "execution_count": 24,
     "metadata": {},
     "output_type": "execute_result"
    }
   ],
   "source": [
    "y.name"
   ]
  },
  {
   "cell_type": "code",
   "execution_count": 25,
   "id": "1336ad36-d47c-4eeb-b13b-f2a32d55bbe4",
   "metadata": {},
   "outputs": [
    {
     "data": {
      "text/html": [
       "<div>\n",
       "<style scoped>\n",
       "    .dataframe tbody tr th:only-of-type {\n",
       "        vertical-align: middle;\n",
       "    }\n",
       "\n",
       "    .dataframe tbody tr th {\n",
       "        vertical-align: top;\n",
       "    }\n",
       "\n",
       "    .dataframe thead th {\n",
       "        text-align: right;\n",
       "    }\n",
       "</style>\n",
       "<table border=\"1\" class=\"dataframe\">\n",
       "  <thead>\n",
       "    <tr style=\"text-align: right;\">\n",
       "      <th></th>\n",
       "      <th>GNPDEFL</th>\n",
       "      <th>GNP</th>\n",
       "      <th>UNEMP</th>\n",
       "      <th>ARMED</th>\n",
       "      <th>POP</th>\n",
       "      <th>YEAR</th>\n",
       "    </tr>\n",
       "  </thead>\n",
       "  <tbody>\n",
       "    <tr>\n",
       "      <th>count</th>\n",
       "      <td>16.000000</td>\n",
       "      <td>16.000000</td>\n",
       "      <td>16.000000</td>\n",
       "      <td>16.000000</td>\n",
       "      <td>16.000000</td>\n",
       "      <td>16.000000</td>\n",
       "    </tr>\n",
       "    <tr>\n",
       "      <th>mean</th>\n",
       "      <td>101.681250</td>\n",
       "      <td>387698.437500</td>\n",
       "      <td>3193.312500</td>\n",
       "      <td>2606.687500</td>\n",
       "      <td>117424.000000</td>\n",
       "      <td>1954.500000</td>\n",
       "    </tr>\n",
       "    <tr>\n",
       "      <th>std</th>\n",
       "      <td>10.791553</td>\n",
       "      <td>99394.937795</td>\n",
       "      <td>934.464247</td>\n",
       "      <td>695.919604</td>\n",
       "      <td>6956.101561</td>\n",
       "      <td>4.760952</td>\n",
       "    </tr>\n",
       "    <tr>\n",
       "      <th>min</th>\n",
       "      <td>83.000000</td>\n",
       "      <td>234289.000000</td>\n",
       "      <td>1870.000000</td>\n",
       "      <td>1456.000000</td>\n",
       "      <td>107608.000000</td>\n",
       "      <td>1947.000000</td>\n",
       "    </tr>\n",
       "    <tr>\n",
       "      <th>25%</th>\n",
       "      <td>94.525000</td>\n",
       "      <td>317881.000000</td>\n",
       "      <td>2348.250000</td>\n",
       "      <td>2298.000000</td>\n",
       "      <td>111788.500000</td>\n",
       "      <td>1950.750000</td>\n",
       "    </tr>\n",
       "    <tr>\n",
       "      <th>50%</th>\n",
       "      <td>100.600000</td>\n",
       "      <td>381427.000000</td>\n",
       "      <td>3143.500000</td>\n",
       "      <td>2717.500000</td>\n",
       "      <td>116803.500000</td>\n",
       "      <td>1954.500000</td>\n",
       "    </tr>\n",
       "    <tr>\n",
       "      <th>75%</th>\n",
       "      <td>111.250000</td>\n",
       "      <td>454085.500000</td>\n",
       "      <td>3842.500000</td>\n",
       "      <td>3060.750000</td>\n",
       "      <td>122304.000000</td>\n",
       "      <td>1958.250000</td>\n",
       "    </tr>\n",
       "    <tr>\n",
       "      <th>max</th>\n",
       "      <td>116.900000</td>\n",
       "      <td>554894.000000</td>\n",
       "      <td>4806.000000</td>\n",
       "      <td>3594.000000</td>\n",
       "      <td>130081.000000</td>\n",
       "      <td>1962.000000</td>\n",
       "    </tr>\n",
       "  </tbody>\n",
       "</table>\n",
       "</div>"
      ],
      "text/plain": [
       "          GNPDEFL            GNP        UNEMP        ARMED            POP  \\\n",
       "count   16.000000      16.000000    16.000000    16.000000      16.000000   \n",
       "mean   101.681250  387698.437500  3193.312500  2606.687500  117424.000000   \n",
       "std     10.791553   99394.937795   934.464247   695.919604    6956.101561   \n",
       "min     83.000000  234289.000000  1870.000000  1456.000000  107608.000000   \n",
       "25%     94.525000  317881.000000  2348.250000  2298.000000  111788.500000   \n",
       "50%    100.600000  381427.000000  3143.500000  2717.500000  116803.500000   \n",
       "75%    111.250000  454085.500000  3842.500000  3060.750000  122304.000000   \n",
       "max    116.900000  554894.000000  4806.000000  3594.000000  130081.000000   \n",
       "\n",
       "              YEAR  \n",
       "count    16.000000  \n",
       "mean   1954.500000  \n",
       "std       4.760952  \n",
       "min    1947.000000  \n",
       "25%    1950.750000  \n",
       "50%    1954.500000  \n",
       "75%    1958.250000  \n",
       "max    1962.000000  "
      ]
     },
     "execution_count": 25,
     "metadata": {},
     "output_type": "execute_result"
    }
   ],
   "source": [
    "X.describe()"
   ]
  },
  {
   "cell_type": "code",
   "execution_count": 26,
   "id": "7db5036a-f737-485a-9ec8-aea1fec1be7d",
   "metadata": {},
   "outputs": [
    {
     "data": {
      "text/plain": [
       "Index(['GNPDEFL', 'GNP', 'UNEMP', 'ARMED', 'POP', 'YEAR'], dtype='object')"
      ]
     },
     "execution_count": 26,
     "metadata": {},
     "output_type": "execute_result"
    }
   ],
   "source": [
    "X.columns"
   ]
  },
  {
   "cell_type": "code",
   "execution_count": 27,
   "id": "69b612da-9376-40ac-868f-fb416578037e",
   "metadata": {},
   "outputs": [
    {
     "name": "stderr",
     "output_type": "stream",
     "text": [
      "C:\\Users\\user\\anaconda3\\envs\\notebook\\Lib\\site-packages\\scipy\\stats\\_axis_nan_policy.py:531: UserWarning: kurtosistest only valid for n>=20 ... continuing anyway, n=16\n",
      "  res = hypotest_fun_out(*samples, **kwds)\n"
     ]
    },
    {
     "data": {
      "text/html": [
       "<table class=\"simpletable\">\n",
       "<caption>OLS Regression Results</caption>\n",
       "<tr>\n",
       "  <th>Dep. Variable:</th>         <td>TOTEMP</td>      <th>  R-squared:         </th> <td>   0.995</td>\n",
       "</tr>\n",
       "<tr>\n",
       "  <th>Model:</th>                   <td>OLS</td>       <th>  Adj. R-squared:    </th> <td>   0.992</td>\n",
       "</tr>\n",
       "<tr>\n",
       "  <th>Method:</th>             <td>Least Squares</td>  <th>  F-statistic:       </th> <td>   330.3</td>\n",
       "</tr>\n",
       "<tr>\n",
       "  <th>Date:</th>             <td>Thu, 02 May 2024</td> <th>  Prob (F-statistic):</th> <td>4.98e-10</td>\n",
       "</tr>\n",
       "<tr>\n",
       "  <th>Time:</th>                 <td>15:03:38</td>     <th>  Log-Likelihood:    </th> <td> -109.62</td>\n",
       "</tr>\n",
       "<tr>\n",
       "  <th>No. Observations:</th>      <td>    16</td>      <th>  AIC:               </th> <td>   233.2</td>\n",
       "</tr>\n",
       "<tr>\n",
       "  <th>Df Residuals:</th>          <td>     9</td>      <th>  BIC:               </th> <td>   238.6</td>\n",
       "</tr>\n",
       "<tr>\n",
       "  <th>Df Model:</th>              <td>     6</td>      <th>                     </th>     <td> </td>   \n",
       "</tr>\n",
       "<tr>\n",
       "  <th>Covariance Type:</th>      <td>nonrobust</td>    <th>                     </th>     <td> </td>   \n",
       "</tr>\n",
       "</table>\n",
       "<table class=\"simpletable\">\n",
       "<tr>\n",
       "      <td></td>         <th>coef</th>     <th>std err</th>      <th>t</th>      <th>P>|t|</th>  <th>[0.025</th>    <th>0.975]</th>  \n",
       "</tr>\n",
       "<tr>\n",
       "  <th>Intercept</th> <td>-3.482e+06</td> <td>  8.9e+05</td> <td>   -3.911</td> <td> 0.004</td> <td> -5.5e+06</td> <td>-1.47e+06</td>\n",
       "</tr>\n",
       "<tr>\n",
       "  <th>GNPDEFL</th>   <td>   15.0619</td> <td>   84.915</td> <td>    0.177</td> <td> 0.863</td> <td> -177.029</td> <td>  207.153</td>\n",
       "</tr>\n",
       "<tr>\n",
       "  <th>GNP</th>       <td>   -0.0358</td> <td>    0.033</td> <td>   -1.070</td> <td> 0.313</td> <td>   -0.112</td> <td>    0.040</td>\n",
       "</tr>\n",
       "<tr>\n",
       "  <th>UNEMP</th>     <td>   -2.0202</td> <td>    0.488</td> <td>   -4.136</td> <td> 0.003</td> <td>   -3.125</td> <td>   -0.915</td>\n",
       "</tr>\n",
       "<tr>\n",
       "  <th>ARMED</th>     <td>   -1.0332</td> <td>    0.214</td> <td>   -4.822</td> <td> 0.001</td> <td>   -1.518</td> <td>   -0.549</td>\n",
       "</tr>\n",
       "<tr>\n",
       "  <th>POP</th>       <td>   -0.0511</td> <td>    0.226</td> <td>   -0.226</td> <td> 0.826</td> <td>   -0.563</td> <td>    0.460</td>\n",
       "</tr>\n",
       "<tr>\n",
       "  <th>YEAR</th>      <td> 1829.1515</td> <td>  455.478</td> <td>    4.016</td> <td> 0.003</td> <td>  798.788</td> <td> 2859.515</td>\n",
       "</tr>\n",
       "</table>\n",
       "<table class=\"simpletable\">\n",
       "<tr>\n",
       "  <th>Omnibus:</th>       <td> 0.749</td> <th>  Durbin-Watson:     </th> <td>   2.559</td>\n",
       "</tr>\n",
       "<tr>\n",
       "  <th>Prob(Omnibus):</th> <td> 0.688</td> <th>  Jarque-Bera (JB):  </th> <td>   0.684</td>\n",
       "</tr>\n",
       "<tr>\n",
       "  <th>Skew:</th>          <td> 0.420</td> <th>  Prob(JB):          </th> <td>   0.710</td>\n",
       "</tr>\n",
       "<tr>\n",
       "  <th>Kurtosis:</th>      <td> 2.434</td> <th>  Cond. No.          </th> <td>4.86e+09</td>\n",
       "</tr>\n",
       "</table><br/><br/>Notes:<br/>[1] Standard Errors assume that the covariance matrix of the errors is correctly specified.<br/>[2] The condition number is large, 4.86e+09. This might indicate that there are<br/>strong multicollinearity or other numerical problems."
      ],
      "text/latex": [
       "\\begin{center}\n",
       "\\begin{tabular}{lclc}\n",
       "\\toprule\n",
       "\\textbf{Dep. Variable:}    &      TOTEMP      & \\textbf{  R-squared:         } &     0.995   \\\\\n",
       "\\textbf{Model:}            &       OLS        & \\textbf{  Adj. R-squared:    } &     0.992   \\\\\n",
       "\\textbf{Method:}           &  Least Squares   & \\textbf{  F-statistic:       } &     330.3   \\\\\n",
       "\\textbf{Date:}             & Thu, 02 May 2024 & \\textbf{  Prob (F-statistic):} &  4.98e-10   \\\\\n",
       "\\textbf{Time:}             &     15:03:38     & \\textbf{  Log-Likelihood:    } &   -109.62   \\\\\n",
       "\\textbf{No. Observations:} &          16      & \\textbf{  AIC:               } &     233.2   \\\\\n",
       "\\textbf{Df Residuals:}     &           9      & \\textbf{  BIC:               } &     238.6   \\\\\n",
       "\\textbf{Df Model:}         &           6      & \\textbf{                     } &             \\\\\n",
       "\\textbf{Covariance Type:}  &    nonrobust     & \\textbf{                     } &             \\\\\n",
       "\\bottomrule\n",
       "\\end{tabular}\n",
       "\\begin{tabular}{lcccccc}\n",
       "                   & \\textbf{coef} & \\textbf{std err} & \\textbf{t} & \\textbf{P$> |$t$|$} & \\textbf{[0.025} & \\textbf{0.975]}  \\\\\n",
       "\\midrule\n",
       "\\textbf{Intercept} &   -3.482e+06  &      8.9e+05     &    -3.911  &         0.004        &     -5.5e+06    &    -1.47e+06     \\\\\n",
       "\\textbf{GNPDEFL}   &      15.0619  &       84.915     &     0.177  &         0.863        &     -177.029    &      207.153     \\\\\n",
       "\\textbf{GNP}       &      -0.0358  &        0.033     &    -1.070  &         0.313        &       -0.112    &        0.040     \\\\\n",
       "\\textbf{UNEMP}     &      -2.0202  &        0.488     &    -4.136  &         0.003        &       -3.125    &       -0.915     \\\\\n",
       "\\textbf{ARMED}     &      -1.0332  &        0.214     &    -4.822  &         0.001        &       -1.518    &       -0.549     \\\\\n",
       "\\textbf{POP}       &      -0.0511  &        0.226     &    -0.226  &         0.826        &       -0.563    &        0.460     \\\\\n",
       "\\textbf{YEAR}      &    1829.1515  &      455.478     &     4.016  &         0.003        &      798.788    &     2859.515     \\\\\n",
       "\\bottomrule\n",
       "\\end{tabular}\n",
       "\\begin{tabular}{lclc}\n",
       "\\textbf{Omnibus:}       &  0.749 & \\textbf{  Durbin-Watson:     } &    2.559  \\\\\n",
       "\\textbf{Prob(Omnibus):} &  0.688 & \\textbf{  Jarque-Bera (JB):  } &    0.684  \\\\\n",
       "\\textbf{Skew:}          &  0.420 & \\textbf{  Prob(JB):          } &    0.710  \\\\\n",
       "\\textbf{Kurtosis:}      &  2.434 & \\textbf{  Cond. No.          } & 4.86e+09  \\\\\n",
       "\\bottomrule\n",
       "\\end{tabular}\n",
       "%\\caption{OLS Regression Results}\n",
       "\\end{center}\n",
       "\n",
       "Notes: \\newline\n",
       " [1] Standard Errors assume that the covariance matrix of the errors is correctly specified. \\newline\n",
       " [2] The condition number is large, 4.86e+09. This might indicate that there are \\newline\n",
       " strong multicollinearity or other numerical problems."
      ],
      "text/plain": [
       "<class 'statsmodels.iolib.summary.Summary'>\n",
       "\"\"\"\n",
       "                            OLS Regression Results                            \n",
       "==============================================================================\n",
       "Dep. Variable:                 TOTEMP   R-squared:                       0.995\n",
       "Model:                            OLS   Adj. R-squared:                  0.992\n",
       "Method:                 Least Squares   F-statistic:                     330.3\n",
       "Date:                Thu, 02 May 2024   Prob (F-statistic):           4.98e-10\n",
       "Time:                        15:03:38   Log-Likelihood:                -109.62\n",
       "No. Observations:                  16   AIC:                             233.2\n",
       "Df Residuals:                       9   BIC:                             238.6\n",
       "Df Model:                           6                                         \n",
       "Covariance Type:            nonrobust                                         \n",
       "==============================================================================\n",
       "                 coef    std err          t      P>|t|      [0.025      0.975]\n",
       "------------------------------------------------------------------------------\n",
       "Intercept  -3.482e+06    8.9e+05     -3.911      0.004    -5.5e+06   -1.47e+06\n",
       "GNPDEFL       15.0619     84.915      0.177      0.863    -177.029     207.153\n",
       "GNP           -0.0358      0.033     -1.070      0.313      -0.112       0.040\n",
       "UNEMP         -2.0202      0.488     -4.136      0.003      -3.125      -0.915\n",
       "ARMED         -1.0332      0.214     -4.822      0.001      -1.518      -0.549\n",
       "POP           -0.0511      0.226     -0.226      0.826      -0.563       0.460\n",
       "YEAR        1829.1515    455.478      4.016      0.003     798.788    2859.515\n",
       "==============================================================================\n",
       "Omnibus:                        0.749   Durbin-Watson:                   2.559\n",
       "Prob(Omnibus):                  0.688   Jarque-Bera (JB):                0.684\n",
       "Skew:                           0.420   Prob(JB):                        0.710\n",
       "Kurtosis:                       2.434   Cond. No.                     4.86e+09\n",
       "==============================================================================\n",
       "\n",
       "Notes:\n",
       "[1] Standard Errors assume that the covariance matrix of the errors is correctly specified.\n",
       "[2] The condition number is large, 4.86e+09. This might indicate that there are\n",
       "strong multicollinearity or other numerical problems.\n",
       "\"\"\""
      ]
     },
     "execution_count": 27,
     "metadata": {},
     "output_type": "execute_result"
    }
   ],
   "source": [
    "import statsmodels.formula.api as smf\n",
    "dat = pd.concat([X, y], axis = 1)\n",
    "\n",
    "smf.ols(\"TOTEMP ~ GNPDEFL + GNP + UNEMP + ARMED + POP + YEAR\",\n",
    "        data = dat).fit().summary()"
   ]
  },
  {
   "cell_type": "markdown",
   "id": "cceedc19-e23e-4a99-b39e-4a3f699a0dac",
   "metadata": {},
   "source": [
    "## Condition number\n",
    "> One way to assess multicollinearity is to compute the condition number. <br>\n",
    "> Values over 20 are worrisome.<br>\n",
    "> The first step is to normalize the indipendent variables to have unit length."
   ]
  },
  {
   "cell_type": "code",
   "execution_count": 30,
   "id": "293bf9d8-abb0-4346-a85c-a6d79b48403f",
   "metadata": {},
   "outputs": [
    {
     "name": "stdout",
     "output_type": "stream",
     "text": [
      "[[1.         0.98988128 0.97438017 0.97499386 0.99886091 0.99499773]\n",
      " [0.98988128 1.         0.97347171 0.96657635 0.98262563 0.97110798]\n",
      " [0.97438017 0.97347171 1.         0.91940178 0.97126392 0.96255219]\n",
      " [0.97499386 0.96657635 0.91940178 1.         0.97180982 0.9684195 ]\n",
      " [0.99886091 0.98262563 0.97126392 0.97180982 1.         0.99849054]\n",
      " [0.99499773 0.97110798 0.96255219 0.9684195  0.99849054 1.        ]]\n"
     ]
    }
   ],
   "source": [
    "norm_x = X.values\n",
    "\n",
    "for i, name in enumerate(X):\n",
    "    if name == \"const\": \n",
    "        continue\n",
    "    norm_x[:, i] = X[name] / np.linalg.norm(X[name])\n",
    "\n",
    "norm_xtx = np.dot(norm_x.T, norm_x)\n",
    "print(norm_xtx)"
   ]
  },
  {
   "cell_type": "markdown",
   "id": "843c1eb4-3454-4868-9597-a10b533f7e37",
   "metadata": {},
   "source": [
    "> Then we take the square root of the ratio of the biggest to the smallest eigenvalues."
   ]
  },
  {
   "cell_type": "code",
   "execution_count": 31,
   "id": "52b499d9-0aad-4c5d-9d61-85723a5a70c9",
   "metadata": {},
   "outputs": [
    {
     "data": {
      "text/plain": [
       "1086.0170218672047"
      ]
     },
     "execution_count": 31,
     "metadata": {},
     "output_type": "execute_result"
    }
   ],
   "source": [
    "eigs = np.linalg.eigvals(norm_xtx)\n",
    "condition_number = np.sqrt(eigs.max() / eigs.min())\n",
    "condition_number"
   ]
  },
  {
   "cell_type": "code",
   "execution_count": null,
   "id": "9b7f06e0-b4d5-47c1-8262-01cfb911828c",
   "metadata": {},
   "outputs": [],
   "source": []
  }
 ],
 "metadata": {
  "kernelspec": {
   "display_name": "Python 3 (ipykernel)",
   "language": "python",
   "name": "python3"
  },
  "language_info": {
   "codemirror_mode": {
    "name": "ipython",
    "version": 3
   },
   "file_extension": ".py",
   "mimetype": "text/x-python",
   "name": "python",
   "nbconvert_exporter": "python",
   "pygments_lexer": "ipython3",
   "version": "3.12.3"
  }
 },
 "nbformat": 4,
 "nbformat_minor": 5
}
