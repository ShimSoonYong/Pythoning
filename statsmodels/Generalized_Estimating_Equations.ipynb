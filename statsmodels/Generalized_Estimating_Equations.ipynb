{
 "cells": [
  {
   "cell_type": "markdown",
   "id": "7d05d3b9-c76c-4a86-8cfb-ae2cb693562e",
   "metadata": {},
   "source": [
    "# 설명\n",
    "일반화 추정 방정식(GEE)은 <font color=\"blue\">일반화선형모형(GLM)</font>을 패널, 군집 또는 반복 측정 데이터에 대해 추정한다. 이 모형은 하나의 __군집 내에선 상관되었을__ 가능성을 가정하지만, __군집 간에선 관련이 없음을__ 가정한다. 또한 이 모형은 GLM과 같은 <font color=\"red\">일모수 지수족 분포</font>의 추정을 지원한다."
   ]
  },
  {
   "cell_type": "markdown",
   "id": "f0a20df4-a937-4989-88a6-87ae328417ea",
   "metadata": {},
   "source": [
    "# 예제\n",
    "간질 발작 데이터에 대한 포아송 회귀<br>\n",
    "데이터 군집 간에 교환 가능한 상관관계를 가정한다."
   ]
  },
  {
   "cell_type": "code",
   "execution_count": 4,
   "id": "1576eaa4-32eb-40ab-8dcf-6357d0e22fa1",
   "metadata": {},
   "outputs": [
    {
     "data": {
      "text/html": [
       "<table class=\"simpletable\">\n",
       "<caption>GEE Regression Results</caption>\n",
       "<tr>\n",
       "  <th>Dep. Variable:</th>                  <td>y</td>          <th>  No. Observations:  </th>    <td>236</td>  \n",
       "</tr>\n",
       "<tr>\n",
       "  <th>Model:</th>                         <td>GEE</td>         <th>  No. clusters:      </th>    <td>59</td>   \n",
       "</tr>\n",
       "<tr>\n",
       "  <th>Method:</th>                    <td>Generalized</td>     <th>  Min. cluster size: </th>     <td>4</td>   \n",
       "</tr>\n",
       "<tr>\n",
       "  <th></th>                      <td>Estimating Equations</td> <th>  Max. cluster size: </th>     <td>4</td>   \n",
       "</tr>\n",
       "<tr>\n",
       "  <th>Family:</th>                      <td>Poisson</td>       <th>  Mean cluster size: </th>    <td>4.0</td>  \n",
       "</tr>\n",
       "<tr>\n",
       "  <th>Dependence structure:</th>     <td>Exchangeable</td>     <th>  Num. iterations:   </th>     <td>2</td>   \n",
       "</tr>\n",
       "<tr>\n",
       "  <th>Date:</th>                   <td>Sun, 12 May 2024</td>   <th>  Scale:             </th>   <td>1.000</td> \n",
       "</tr>\n",
       "<tr>\n",
       "  <th>Covariance type: </th>            <td>robust</td>        <th>  Time:              </th> <td>12:17:23</td>\n",
       "</tr>\n",
       "</table>\n",
       "<table class=\"simpletable\">\n",
       "<tr>\n",
       "          <td></td>            <th>coef</th>     <th>std err</th>      <th>z</th>      <th>P>|z|</th>  <th>[0.025</th>    <th>0.975]</th>  \n",
       "</tr>\n",
       "<tr>\n",
       "  <th>Intercept</th>        <td>    0.5730</td> <td>    0.361</td> <td>    1.589</td> <td> 0.112</td> <td>   -0.134</td> <td>    1.280</td>\n",
       "</tr>\n",
       "<tr>\n",
       "  <th>trt[T.progabide]</th> <td>   -0.1519</td> <td>    0.171</td> <td>   -0.888</td> <td> 0.375</td> <td>   -0.487</td> <td>    0.183</td>\n",
       "</tr>\n",
       "<tr>\n",
       "  <th>age</th>              <td>    0.0223</td> <td>    0.011</td> <td>    1.960</td> <td> 0.050</td> <td> 2.11e-06</td> <td>    0.045</td>\n",
       "</tr>\n",
       "<tr>\n",
       "  <th>base</th>             <td>    0.0226</td> <td>    0.001</td> <td>   18.451</td> <td> 0.000</td> <td>    0.020</td> <td>    0.025</td>\n",
       "</tr>\n",
       "</table>\n",
       "<table class=\"simpletable\">\n",
       "<tr>\n",
       "  <th>Skew:</th>          <td>      3.7823</td> <th>  Kurtosis:          </th> <td>     28.6672</td>\n",
       "</tr>\n",
       "<tr>\n",
       "  <th>Centered skew:</th> <td>      2.7597</td> <th>  Centered kurtosis: </th> <td>     21.9865</td>\n",
       "</tr>\n",
       "</table>"
      ],
      "text/latex": [
       "\\begin{center}\n",
       "\\begin{tabular}{lclc}\n",
       "\\toprule\n",
       "\\textbf{Dep. Variable:}        &          y           & \\textbf{  No. Observations:  } &     236       \\\\\n",
       "\\textbf{Model:}                &         GEE          & \\textbf{  No. clusters:      } &      59       \\\\\n",
       "\\textbf{Method:}               &     Generalized      & \\textbf{  Min. cluster size: } &      4        \\\\\n",
       "\\textbf{}                      & Estimating Equations & \\textbf{  Max. cluster size: } &      4        \\\\\n",
       "\\textbf{Family:}               &       Poisson        & \\textbf{  Mean cluster size: } &     4.0       \\\\\n",
       "\\textbf{Dependence structure:} &     Exchangeable     & \\textbf{  Num. iterations:   } &      2        \\\\\n",
       "\\textbf{Date:}                 &   Sun, 12 May 2024   & \\textbf{  Scale:             } &    1.000      \\\\\n",
       "\\textbf{Covariance type: }     &        robust        & \\textbf{  Time:              } &   12:17:23    \\\\\n",
       "\\bottomrule\n",
       "\\end{tabular}\n",
       "\\begin{tabular}{lcccccc}\n",
       "                          & \\textbf{coef} & \\textbf{std err} & \\textbf{z} & \\textbf{P$> |$z$|$} & \\textbf{[0.025} & \\textbf{0.975]}  \\\\\n",
       "\\midrule\n",
       "\\textbf{Intercept}        &       0.5730  &        0.361     &     1.589  &         0.112        &       -0.134    &        1.280     \\\\\n",
       "\\textbf{trt[T.progabide]} &      -0.1519  &        0.171     &    -0.888  &         0.375        &       -0.487    &        0.183     \\\\\n",
       "\\textbf{age}              &       0.0223  &        0.011     &     1.960  &         0.050        &     2.11e-06    &        0.045     \\\\\n",
       "\\textbf{base}             &       0.0226  &        0.001     &    18.451  &         0.000        &        0.020    &        0.025     \\\\\n",
       "\\bottomrule\n",
       "\\end{tabular}\n",
       "\\begin{tabular}{lclc}\n",
       "\\textbf{Skew:}          &       3.7823 & \\textbf{  Kurtosis:          } &      28.6672  \\\\\n",
       "\\textbf{Centered skew:} &       2.7597 & \\textbf{  Centered kurtosis: } &      21.9865  \\\\\n",
       "\\bottomrule\n",
       "\\end{tabular}\n",
       "%\\caption{GEE Regression Results}\n",
       "\\end{center}"
      ],
      "text/plain": [
       "<class 'statsmodels.iolib.summary.Summary'>\n",
       "\"\"\"\n",
       "                               GEE Regression Results                              \n",
       "===================================================================================\n",
       "Dep. Variable:                           y   No. Observations:                  236\n",
       "Model:                                 GEE   No. clusters:                       59\n",
       "Method:                        Generalized   Min. cluster size:                   4\n",
       "                      Estimating Equations   Max. cluster size:                   4\n",
       "Family:                            Poisson   Mean cluster size:                 4.0\n",
       "Dependence structure:         Exchangeable   Num. iterations:                     2\n",
       "Date:                     Sun, 12 May 2024   Scale:                           1.000\n",
       "Covariance type:                    robust   Time:                         12:17:23\n",
       "====================================================================================\n",
       "                       coef    std err          z      P>|z|      [0.025      0.975]\n",
       "------------------------------------------------------------------------------------\n",
       "Intercept            0.5730      0.361      1.589      0.112      -0.134       1.280\n",
       "trt[T.progabide]    -0.1519      0.171     -0.888      0.375      -0.487       0.183\n",
       "age                  0.0223      0.011      1.960      0.050    2.11e-06       0.045\n",
       "base                 0.0226      0.001     18.451      0.000       0.020       0.025\n",
       "==============================================================================\n",
       "Skew:                          3.7823   Kurtosis:                      28.6672\n",
       "Centered skew:                 2.7597   Centered kurtosis:             21.9865\n",
       "==============================================================================\n",
       "\"\"\""
      ]
     },
     "execution_count": 4,
     "metadata": {},
     "output_type": "execute_result"
    }
   ],
   "source": [
    "import statsmodels.api as sm\n",
    "import statsmodels.formula.api as smf\n",
    "\n",
    "data = sm.datasets.get_rdataset(\"epil\", package=\"MASS\").data\n",
    "\n",
    "fam = sm.families.Poisson()\n",
    "\n",
    "ind = sm.cov_struct.Exchangeable()\n",
    "\n",
    "mod = smf.gee(\"y ~ age + trt + base\", \"subject\", data, cov_struct=ind, family=fam)\n",
    "res = mod.fit()\n",
    "\n",
    "res.summary()"
   ]
  },
  {
   "cell_type": "markdown",
   "id": "b2c4d74c-e27c-411a-9cee-1291df22f691",
   "metadata": {},
   "source": [
    "# 모듈 설명"
   ]
  },
  {
   "cell_type": "markdown",
   "id": "967f99f7-fcc6-4923-ade6-52419be52501",
   "metadata": {},
   "source": [
    "## 모델 클래스\n",
    "|코드|설명|\n",
    "|-------------|------------------|\n",
    "|<font color=\"blue\">GEE</font>(endog, exog, groups[,time, family...])|GEE를 활용한 회귀모형|\n",
    "|<font color=\"blue\">NominalGEE</font>(endog, exog, groups[,time, ...])|GEE를 활용한 명목형 반응변수에 대한 회귀모형|\n",
    "|<font color=\"blue\">OrdinalGEE</font>(endog, exog, groups[, time, ...])|GEE를 활용한 순서형 반응변수에 대한 회귀모형|\n",
    "|<font color=\"blue\">QIF</font>(endog, exog, gorups[, family, ...])|이차 추론 함수를 활용한 회귀모형 적합(소표본에서 유리)|"
   ]
  },
  {
   "cell_type": "markdown",
   "id": "4b019b88-75d3-46e8-84d5-c4c694a4821a",
   "metadata": {},
   "source": [
    "## 결과 클래스\n",
    "|코드|설명|\n",
    "|----|----|\n",
    "|<font color = \"blue\">GEEResults</font>(model, params, cov_params, scale)|GEE를 활용한 회귀모형의 적합 결과를 요약하는 클래스|\n",
    "|<font color=\"blue\">GEEMargins</font>(results, args[,kwargs])|GEE로 적합된 회귀모형의 추정 한계 효과|\n",
    "|<font color=\"blue\">QIFResults</font>(model, params, cov_params, scale)|이차 추론 함수 회귀의 결과 클래스|"
   ]
  },
  {
   "cell_type": "markdown",
   "id": "e3762af4-e087-4c8c-8f23-b7d0c1802a7e",
   "metadata": {},
   "source": [
    "## 분포족\n",
    "|코드|설명|\n",
    "|---|---|\n",
    "|<font color=\"blue\">Family</font>(link, variance[, check_link])|일모수 지수족 분포의 부모 클래스|\n",
    "|<font color=\"blue\">Binomial</font>([link, check_link])|이항 지수족 분포|\n",
    "|<font color=\"blue\">Gamma</font>([link, chech_link])|감마 지수족 분포|\n",
    "|<font color=\"blue\">Gaussian</font>([link, check_link])|가우스 지수족 분포|\n",
    "|<font color=\"blue\">InverseGaussian</font>([link, check_linl])|역 가우스 지수족 분포|\n",
    "|<font color=\"blue\">NegativeBinomial</font>([link, alpha, chech_link])|음이항 지수족 분포|\n",
    "|<font color=\"blue\">Poisson</font>([link, check_link])|포아송 지수족 분포|\n",
    "|<font color=\"blue\">Tweedie</font>([link, var_power, eql, check_linl])|트위디 분포|"
   ]
  },
  {
   "cell_type": "markdown",
   "id": "63633f4c-b0c0-42d7-beb5-19fb7f81253c",
   "metadata": {},
   "source": [
    "## 연결함수\n",
    "연결함수들은 GLM의 것과 동일하다. 하지만 모든 연결함수가 모든 분포족에 적용 가능하지 않음에 주의해야 한다. 분포별 가능한 연결함수는 아래의 코드로 확인할 수 있다."
   ]
  },
  {
   "cell_type": "code",
   "execution_count": 6,
   "id": "2cab9230-f7d5-429f-99cd-f5d2dc54bce5",
   "metadata": {},
   "outputs": [
    {
     "data": {
      "text/plain": [
       "[statsmodels.genmod.families.links.Logit,\n",
       " statsmodels.genmod.families.links.Probit,\n",
       " statsmodels.genmod.families.links.Cauchy,\n",
       " statsmodels.genmod.families.links.Log,\n",
       " statsmodels.genmod.families.links.LogC,\n",
       " statsmodels.genmod.families.links.CLogLog,\n",
       " statsmodels.genmod.families.links.LogLog,\n",
       " statsmodels.genmod.families.links.Identity]"
      ]
     },
     "execution_count": 6,
     "metadata": {},
     "output_type": "execute_result"
    }
   ],
   "source": [
    "sm.families.family.Binomial.links"
   ]
  },
  {
   "cell_type": "code",
   "execution_count": 7,
   "id": "ab7116b4-cddf-490f-afba-dba73b1bfac5",
   "metadata": {},
   "outputs": [
    {
     "data": {
      "text/plain": [
       "[statsmodels.genmod.families.links.Log,\n",
       " statsmodels.genmod.families.links.Identity,\n",
       " statsmodels.genmod.families.links.InversePower]"
      ]
     },
     "execution_count": 7,
     "metadata": {},
     "output_type": "execute_result"
    }
   ],
   "source": [
    "sm.families.family.Gamma.links"
   ]
  },
  {
   "cell_type": "code",
   "execution_count": 8,
   "id": "b4047f0c-0d43-420d-b0e4-14a0750a6f58",
   "metadata": {},
   "outputs": [
    {
     "data": {
      "text/plain": [
       "[statsmodels.genmod.families.links.Log,\n",
       " statsmodels.genmod.families.links.Identity,\n",
       " statsmodels.genmod.families.links.InversePower]"
      ]
     },
     "execution_count": 8,
     "metadata": {},
     "output_type": "execute_result"
    }
   ],
   "source": [
    "sm.families.family.Gaussian.links"
   ]
  },
  {
   "cell_type": "code",
   "execution_count": 9,
   "id": "3c929ac2-886c-4c74-807c-a7871444d3e5",
   "metadata": {},
   "outputs": [
    {
     "data": {
      "text/plain": [
       "[statsmodels.genmod.families.links.InverseSquared,\n",
       " statsmodels.genmod.families.links.InversePower,\n",
       " statsmodels.genmod.families.links.Identity,\n",
       " statsmodels.genmod.families.links.Log]"
      ]
     },
     "execution_count": 9,
     "metadata": {},
     "output_type": "execute_result"
    }
   ],
   "source": [
    "sm.families.family.InverseGaussian.links"
   ]
  },
  {
   "cell_type": "code",
   "execution_count": 10,
   "id": "6f9d7109-0b36-4c04-80d8-39da42420f4e",
   "metadata": {},
   "outputs": [
    {
     "data": {
      "text/plain": [
       "[statsmodels.genmod.families.links.Log,\n",
       " statsmodels.genmod.families.links.CLogLog,\n",
       " statsmodels.genmod.families.links.Identity,\n",
       " statsmodels.genmod.families.links.NegativeBinomial,\n",
       " statsmodels.genmod.families.links.Power]"
      ]
     },
     "execution_count": 10,
     "metadata": {},
     "output_type": "execute_result"
    }
   ],
   "source": [
    "sm.families.family.NegativeBinomial.links"
   ]
  },
  {
   "cell_type": "code",
   "execution_count": 11,
   "id": "bb48b43d-b1cd-437b-89b5-4783295aca0a",
   "metadata": {},
   "outputs": [
    {
     "data": {
      "text/plain": [
       "[statsmodels.genmod.families.links.Log,\n",
       " statsmodels.genmod.families.links.Identity,\n",
       " statsmodels.genmod.families.links.Sqrt]"
      ]
     },
     "execution_count": 11,
     "metadata": {},
     "output_type": "execute_result"
    }
   ],
   "source": [
    "sm.families.family.Poisson.links"
   ]
  },
  {
   "cell_type": "code",
   "execution_count": 12,
   "id": "a32e3980-e70e-4911-96f1-2c9831cc1f35",
   "metadata": {},
   "outputs": [
    {
     "data": {
      "text/plain": [
       "[statsmodels.genmod.families.links.Log,\n",
       " statsmodels.genmod.families.links.Power]"
      ]
     },
     "execution_count": 12,
     "metadata": {},
     "output_type": "execute_result"
    }
   ],
   "source": [
    "sm.families.family.Tweedie.links"
   ]
  }
 ],
 "metadata": {
  "kernelspec": {
   "display_name": "Python 3 (ipykernel)",
   "language": "python",
   "name": "python3"
  },
  "language_info": {
   "codemirror_mode": {
    "name": "ipython",
    "version": 3
   },
   "file_extension": ".py",
   "mimetype": "text/x-python",
   "name": "python",
   "nbconvert_exporter": "python",
   "pygments_lexer": "ipython3",
   "version": "3.12.3"
  }
 },
 "nbformat": 4,
 "nbformat_minor": 5
}
