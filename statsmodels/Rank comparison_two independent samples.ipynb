{
 "cells": [
  {
   "cell_type": "code",
   "execution_count": 4,
   "id": "f67a98d1-75c6-434b-8e46-f0b4c541999f",
   "metadata": {},
   "outputs": [],
   "source": [
    "import numpy as np\n",
    "\n",
    "from statsmodels.stats.nonparametric import (\n",
    "    rank_compare_2indep, rank_compare_2ordinal, prob_larger_continuous,\n",
    "    cohensd2problarger)\n"
   ]
  },
  {
   "cell_type": "code",
   "execution_count": 5,
   "id": "32995e92-a6c4-4c64-80bd-e596e8cde9a4",
   "metadata": {},
   "outputs": [
    {
     "data": {
      "text/plain": [
       "(array([24, 37, 21, 19,  6], dtype=int64),\n",
       " array([11, 51, 22, 21,  7], dtype=int64))"
      ]
     },
     "execution_count": 5,
     "metadata": {},
     "output_type": "execute_result"
    }
   ],
   "source": [
    "levels = [-2, -1, 0, 1, 2]\n",
    "new = [24, 37, 21, 19, 6]\n",
    "active = [11, 51, 22, 21, 7]\n",
    "\n",
    "x1 = np.repeat(levels, new)\n",
    "x2 = np.repeat(levels, active)\n",
    "np.bincount(x1 + 2), np.bincount(x2 + 2)\n"
   ]
  },
  {
   "cell_type": "code",
   "execution_count": 6,
   "id": "73401762-3f2f-4314-8351-f86be6c0c1b5",
   "metadata": {},
   "outputs": [
    {
     "data": {
      "text/plain": [
       "<class 'statsmodels.stats.nonparametric.RankCompareResult'>\n",
       "statistic = -1.1757561456581607\n",
       "pvalue = 0.24106066495471642\n",
       "s1 = 1164.3327014635863\n",
       "s2 = 701.9050836550837\n",
       "var1 = 0.09281989010392111\n",
       "var2 = 0.06130710836361985\n",
       "var = 0.3098544504968025\n",
       "var_prob = 0.0014148605045516095\n",
       "nobs1 = 107\n",
       "nobs2 = 112\n",
       "nobs = 219\n",
       "mean1 = 105.04672897196262\n",
       "mean2 = 114.73214285714286\n",
       "prob1 = 0.4557743658210948\n",
       "prob2 = 0.5442256341789052\n",
       "somersd1 = -0.08845126835781036\n",
       "somersd2 = 0.08845126835781048\n",
       "df = 204.29842398679557\n",
       "use_t = True\n",
       "tuple = (-1.1757561456581607, 0.24106066495471642)"
      ]
     },
     "execution_count": 6,
     "metadata": {},
     "output_type": "execute_result"
    }
   ],
   "source": [
    "res = rank_compare_2indep(x1, x2) #, use_t=False)\n",
    "res\n"
   ]
  },
  {
   "cell_type": "code",
   "execution_count": 7,
   "id": "94c4c8bb-662f-4270-9d0d-1b6e75fcc5b7",
   "metadata": {},
   "outputs": [
    {
     "data": {
      "text/plain": [
       "['conf_int',\n",
       " 'confint_lintransf',\n",
       " 'effectsize_normal',\n",
       " 'summary',\n",
       " 'test_prob_superior',\n",
       " 'tost_prob_superior']"
      ]
     },
     "execution_count": 7,
     "metadata": {},
     "output_type": "execute_result"
    }
   ],
   "source": [
    "[i for i in dir(res) if not i.startswith(\"_\") and callable(getattr(res, i))]"
   ]
  },
  {
   "cell_type": "code",
   "execution_count": 8,
   "id": "8dff8d0e-1507-409e-a486-81e3d220992d",
   "metadata": {},
   "outputs": [
    {
     "name": "stdout",
     "output_type": "stream",
     "text": [
      "                  Probability sample 1 is stochastically larger                   \n",
      "==================================================================================\n",
      "                     coef    std err          t      P>|t|      [0.025      0.975]\n",
      "----------------------------------------------------------------------------------\n",
      "prob(x1>x2) c0     0.4558      0.038     -1.176      0.241       0.382       0.530\n",
      "==================================================================================\n"
     ]
    }
   ],
   "source": [
    "print(res.summary())  # returns SimpleTable"
   ]
  },
  {
   "cell_type": "code",
   "execution_count": 9,
   "id": "2e94261e-a20e-42f0-950b-9eabca820cba",
   "metadata": {},
   "outputs": [
    {
     "data": {
      "text/plain": [
       "(0.3816117144128266, 0.529937017229363)"
      ]
     },
     "execution_count": 9,
     "metadata": {},
     "output_type": "execute_result"
    }
   ],
   "source": [
    "ci = res.conf_int()\n",
    "ci"
   ]
  },
  {
   "cell_type": "code",
   "execution_count": 10,
   "id": "95c2fef1-3542-40e2-907e-348abdd970dc",
   "metadata": {},
   "outputs": [
    {
     "data": {
      "text/plain": [
       "<class 'statsmodels.stats.base.HolderTuple'>\n",
       "statistic = -1.1757561456581602\n",
       "pvalue = 0.24106066495471665\n",
       "df = 204.29842398679557\n",
       "distribution = 't'\n",
       "tuple = (-1.1757561456581602, 0.24106066495471665)"
      ]
     },
     "execution_count": 10,
     "metadata": {},
     "output_type": "execute_result"
    }
   ],
   "source": [
    "res.test_prob_superior()"
   ]
  },
  {
   "cell_type": "code",
   "execution_count": 11,
   "id": "6cb2b0b4-b8a2-4ab6-91cb-bad3da33f3fa",
   "metadata": {},
   "outputs": [
    {
     "data": {
      "text/plain": [
       "<class 'statsmodels.stats.base.HolderTuple'>\n",
       "statistic = -2.505026112598482\n",
       "pvalue = 0.006512753894336686\n",
       "df = 204.29842398679557\n",
       "distribution = 't'\n",
       "tuple = (-2.505026112598482, 0.006512753894336686)"
      ]
     },
     "execution_count": 11,
     "metadata": {},
     "output_type": "execute_result"
    }
   ],
   "source": [
    "res.test_prob_superior(value=0.55, alternative=\"smaller\")\n"
   ]
  },
  {
   "cell_type": "code",
   "execution_count": 12,
   "id": "03b539cf-5a9a-46ab-8980-1315d586741c",
   "metadata": {},
   "outputs": [
    {
     "data": {
      "text/plain": [
       "<class 'statsmodels.stats.base.HolderTuple'>\n",
       "statistic = 0.15351382128216023\n",
       "pvalue = 0.43907230923278956\n",
       "df = 204.29842398679557\n",
       "distribution = 't'\n",
       "tuple = (0.15351382128216023, 0.43907230923278956)"
      ]
     },
     "execution_count": 12,
     "metadata": {},
     "output_type": "execute_result"
    }
   ],
   "source": [
    "res.test_prob_superior(value=0.45, alternative=\"larger\")\n"
   ]
  },
  {
   "cell_type": "code",
   "execution_count": 13,
   "id": "626c23f3-98a4-4fa4-9a78-dbace3164211",
   "metadata": {},
   "outputs": [
    {
     "data": {
      "text/plain": [
       "<class 'statsmodels.stats.base.HolderTuple'>\n",
       "statistic = 0.15351382128216023\n",
       "pvalue = 0.43907230923278956\n",
       "results_larger = <class 'statsmodels.stats.base.HolderTuple'>\n",
       "    statistic = 0.15351382128216023\n",
       "    pvalue = 0.43907230923278956\n",
       "    df = 204.29842398679557\n",
       "    distribution = 't'\n",
       "    tuple = (0.15351382128216023, 0.43907230923278956)\n",
       "results_smaller = <class 'statsmodels.stats.base.HolderTuple'>\n",
       "    statistic = -2.505026112598482\n",
       "    pvalue = 0.006512753894336686\n",
       "    df = 204.29842398679557\n",
       "    distribution = 't'\n",
       "    tuple = (-2.505026112598482, 0.006512753894336686)\n",
       "title = 'Equivalence test for Prob(x1 > x2) + 0.5 Prob(x1 = x2) '\n",
       "tuple = (0.15351382128216023, 0.43907230923278956)"
      ]
     },
     "execution_count": 13,
     "metadata": {},
     "output_type": "execute_result"
    }
   ],
   "source": [
    "res.tost_prob_superior(low=0.45, upp=0.55)\n"
   ]
  },
  {
   "cell_type": "code",
   "execution_count": 14,
   "id": "4b4c7349-d8d6-4f1d-8dc0-15ec33b2cf2e",
   "metadata": {},
   "outputs": [
    {
     "data": {
      "text/plain": [
       "<class 'statsmodels.stats.base.HolderTuple'>\n",
       "statistic = -2.505026112598482\n",
       "pvalue = 0.006512753894336686\n",
       "df = 204.29842398679557\n",
       "distribution = 't'\n",
       "tuple = (-2.505026112598482, 0.006512753894336686)"
      ]
     },
     "execution_count": 14,
     "metadata": {},
     "output_type": "execute_result"
    }
   ],
   "source": [
    "res.test_prob_superior(value=0.55, alternative=\"smaller\")\n"
   ]
  },
  {
   "cell_type": "code",
   "execution_count": 15,
   "id": "b3ac3e45-5978-40a8-94d2-78c9cf243b69",
   "metadata": {},
   "outputs": [
    {
     "data": {
      "text/plain": [
       "<class 'statsmodels.stats.base.HolderTuple'>\n",
       "statistic = -3.834296079538801\n",
       "pvalue = 0.9999161566635063\n",
       "df = 204.29842398679557\n",
       "distribution = 't'\n",
       "tuple = (-3.834296079538801, 0.9999161566635063)"
      ]
     },
     "execution_count": 15,
     "metadata": {},
     "output_type": "execute_result"
    }
   ],
   "source": [
    "res.test_prob_superior(value=0.6, alternative=\"larger\")\n"
   ]
  },
  {
   "cell_type": "code",
   "execution_count": 16,
   "id": "5ce3e661-2b9e-4847-a564-1ef4f9d39c2f",
   "metadata": {},
   "outputs": [
    {
     "data": {
      "text/plain": [
       "<class 'statsmodels.stats.base.HolderTuple'>\n",
       "statistic = -1.9716432456640076\n",
       "pvalue = 0.02500002636314127\n",
       "df = 204.29842398679557\n",
       "distribution = 't'\n",
       "tuple = (-1.9716432456640076, 0.02500002636314127)"
      ]
     },
     "execution_count": 16,
     "metadata": {},
     "output_type": "execute_result"
    }
   ],
   "source": [
    "res.test_prob_superior(value=0.529937, alternative=\"smaller\")\n"
   ]
  },
  {
   "cell_type": "code",
   "execution_count": 17,
   "id": "1cf0c5bc-fa34-44f9-922b-bd8d23a7b4c0",
   "metadata": {},
   "outputs": [
    {
     "data": {
      "text/plain": [
       "<class 'statsmodels.stats.base.HolderTuple'>\n",
       "statistic = -1.9716436976157954\n",
       "pvalue = 0.025000000351072277\n",
       "df = 204.29842398679557\n",
       "distribution = 't'\n",
       "tuple = (-1.9716436976157954, 0.025000000351072277)"
      ]
     },
     "execution_count": 17,
     "metadata": {},
     "output_type": "execute_result"
    }
   ],
   "source": [
    "res.test_prob_superior(value=0.529937017, alternative=\"smaller\")\n"
   ]
  },
  {
   "cell_type": "code",
   "execution_count": 18,
   "id": "79a6669f-64f3-49ba-a7f1-c856af961abd",
   "metadata": {},
   "outputs": [
    {
     "data": {
      "text/plain": [
       "(0.3816117144128266, 0.529937017229363)"
      ]
     },
     "execution_count": 18,
     "metadata": {},
     "output_type": "execute_result"
    }
   ],
   "source": [
    "res.conf_int()\n"
   ]
  },
  {
   "cell_type": "code",
   "execution_count": 19,
   "id": "dc7fd2da-939b-4e74-9411-7915a45e2d98",
   "metadata": {},
   "outputs": [
    {
     "data": {
      "text/plain": [
       "<class 'statsmodels.stats.nonparametric.RankCompareResult'>\n",
       "statistic = 1.1757561456581607\n",
       "pvalue = 0.24106066495471642\n",
       "s1 = 701.9050836550837\n",
       "s2 = 1164.3327014635863\n",
       "var1 = 0.06130710836361985\n",
       "var2 = 0.09281989010392111\n",
       "var = 0.3098544504968025\n",
       "var_prob = 0.0014148605045516095\n",
       "nobs1 = 112\n",
       "nobs2 = 107\n",
       "nobs = 219\n",
       "mean1 = 114.73214285714286\n",
       "mean2 = 105.04672897196262\n",
       "prob1 = 0.5442256341789052\n",
       "prob2 = 0.4557743658210948\n",
       "somersd1 = 0.08845126835781048\n",
       "somersd2 = -0.08845126835781036\n",
       "df = 204.29842398679557\n",
       "use_t = True\n",
       "tuple = (1.1757561456581607, 0.24106066495471642)"
      ]
     },
     "execution_count": 19,
     "metadata": {},
     "output_type": "execute_result"
    }
   ],
   "source": [
    "res = rank_compare_2indep(x2, x1) #, use_t=False)\n",
    "res\n"
   ]
  },
  {
   "cell_type": "code",
   "execution_count": 20,
   "id": "8b1de29f-74de-4909-8789-a4964b87302b",
   "metadata": {},
   "outputs": [
    {
     "data": {
      "text/plain": [
       "(0.470062982770637, 0.6183882855871734)"
      ]
     },
     "execution_count": 20,
     "metadata": {},
     "output_type": "execute_result"
    }
   ],
   "source": [
    "res.conf_int()\n"
   ]
  },
  {
   "cell_type": "code",
   "execution_count": 21,
   "id": "79c50cbc-1460-476a-b0c0-585433068003",
   "metadata": {},
   "outputs": [
    {
     "data": {
      "text/html": [
       "<table class=\"simpletable\">\n",
       "<caption>Probability sample 1 is stochastically larger</caption>\n",
       "<tr>\n",
       "         <td></td>           <th>coef</th>     <th>std err</th>      <th>t</th>      <th>P>|t|</th>  <th>[0.025</th>    <th>0.975]</th>  \n",
       "</tr>\n",
       "<tr>\n",
       "  <th>prob(x1>x2) c0</th> <td>    0.5442</td> <td>    0.038</td> <td>    1.176</td> <td> 0.241</td> <td>    0.470</td> <td>    0.618</td>\n",
       "</tr>\n",
       "</table>"
      ],
      "text/latex": [
       "\\begin{center}\n",
       "\\begin{tabular}{lcccccc}\n",
       "\\toprule\n",
       "                          & \\textbf{coef} & \\textbf{std err} & \\textbf{t} & \\textbf{P$> |$t$|$} & \\textbf{[0.025} & \\textbf{0.975]}  \\\\\n",
       "\\midrule\n",
       "\\textbf{prob(x1$>$x2) c0} &       0.5442  &        0.038     &     1.176  &         0.241        &        0.470    &        0.618     \\\\\n",
       "\\bottomrule\n",
       "\\end{tabular}\n",
       "%\\caption{Probability sample 1 is stochastically larger}\n",
       "\\end{center}"
      ],
      "text/plain": [
       "<class 'statsmodels.iolib.table.SimpleTable'>"
      ]
     },
     "execution_count": 21,
     "metadata": {},
     "output_type": "execute_result"
    }
   ],
   "source": [
    "st = res.summary()\n",
    "st\n"
   ]
  },
  {
   "cell_type": "code",
   "execution_count": 22,
   "id": "21fbf08a-f8a5-4356-a077-be384caeb813",
   "metadata": {},
   "outputs": [
    {
     "data": {
      "text/plain": [
       "([24, 37, 21, 19, 6], [11, 51, 22, 21, 7])"
      ]
     },
     "execution_count": 22,
     "metadata": {},
     "output_type": "execute_result"
    }
   ],
   "source": [
    "new, active\n"
   ]
  },
  {
   "cell_type": "code",
   "execution_count": 23,
   "id": "e662b008-3d9f-4336-bee9-01cf1c9dd8c3",
   "metadata": {},
   "outputs": [
    {
     "data": {
      "text/html": [
       "<table class=\"simpletable\">\n",
       "<caption>Probability sample 1 is stochastically larger</caption>\n",
       "<tr>\n",
       "         <td></td>           <th>coef</th>     <th>std err</th>      <th>t</th>      <th>P>|t|</th>  <th>[0.025</th>    <th>0.975]</th>  \n",
       "</tr>\n",
       "<tr>\n",
       "  <th>prob(x1>x2) c0</th> <td>    0.4558</td> <td>    0.038</td> <td>   -1.176</td> <td> 0.241</td> <td>    0.382</td> <td>    0.530</td>\n",
       "</tr>\n",
       "</table>"
      ],
      "text/latex": [
       "\\begin{center}\n",
       "\\begin{tabular}{lcccccc}\n",
       "\\toprule\n",
       "                          & \\textbf{coef} & \\textbf{std err} & \\textbf{t} & \\textbf{P$> |$t$|$} & \\textbf{[0.025} & \\textbf{0.975]}  \\\\\n",
       "\\midrule\n",
       "\\textbf{prob(x1$>$x2) c0} &       0.4558  &        0.038     &    -1.176  &         0.241        &        0.382    &        0.530     \\\\\n",
       "\\bottomrule\n",
       "\\end{tabular}\n",
       "%\\caption{Probability sample 1 is stochastically larger}\n",
       "\\end{center}"
      ],
      "text/plain": [
       "<class 'statsmodels.iolib.table.SimpleTable'>"
      ]
     },
     "execution_count": 23,
     "metadata": {},
     "output_type": "execute_result"
    }
   ],
   "source": [
    "res_o = rank_compare_2ordinal(new, active)\n",
    "res_o.summary()\n"
   ]
  },
  {
   "cell_type": "code",
   "execution_count": 24,
   "id": "37116f24-5fe6-463b-8b81-ce368fd2d07a",
   "metadata": {},
   "outputs": [
    {
     "data": {
      "text/plain": [
       "<class 'statsmodels.stats.nonparametric.RankCompareResult'>\n",
       "statistic = None\n",
       "pvalue = None\n",
       "s1 = None\n",
       "s2 = None\n",
       "var1 = 0.0919524144954732\n",
       "var2 = 0.06075972346751607\n",
       "var = 0.3098544504968023\n",
       "var_prob = 0.0014148605045516088\n",
       "nobs1 = 107\n",
       "nobs2 = 112\n",
       "nobs = 219\n",
       "mean1 = None\n",
       "mean2 = None\n",
       "prob1 = 0.4557743658210948\n",
       "prob2 = 0.5442256341789052\n",
       "somersd1 = -0.08845126835781036\n",
       "somersd2 = 0.08845126835781048\n",
       "df = 204.29842398679557\n",
       "use_t = True\n",
       "tuple = (None, None)"
      ]
     },
     "execution_count": 24,
     "metadata": {},
     "output_type": "execute_result"
    }
   ],
   "source": [
    "res_o\n"
   ]
  },
  {
   "cell_type": "code",
   "execution_count": 25,
   "id": "3b475777-daf0-4acd-8895-3e073a345b68",
   "metadata": {},
   "outputs": [
    {
     "data": {
      "text/plain": [
       "<class 'statsmodels.stats.nonparametric.RankCompareResult'>\n",
       "statistic = -1.1757561456581607\n",
       "pvalue = 0.24106066495471642\n",
       "s1 = 1164.3327014635863\n",
       "s2 = 701.9050836550837\n",
       "var1 = 0.09281989010392111\n",
       "var2 = 0.06130710836361985\n",
       "var = 0.3098544504968025\n",
       "var_prob = 0.0014148605045516095\n",
       "nobs1 = 107\n",
       "nobs2 = 112\n",
       "nobs = 219\n",
       "mean1 = 105.04672897196262\n",
       "mean2 = 114.73214285714286\n",
       "prob1 = 0.4557743658210948\n",
       "prob2 = 0.5442256341789052\n",
       "somersd1 = -0.08845126835781036\n",
       "somersd2 = 0.08845126835781048\n",
       "df = 204.29842398679557\n",
       "use_t = True\n",
       "tuple = (-1.1757561456581607, 0.24106066495471642)"
      ]
     },
     "execution_count": 25,
     "metadata": {},
     "output_type": "execute_result"
    }
   ],
   "source": [
    "res = rank_compare_2indep(x1, x2)\n",
    "res\n"
   ]
  },
  {
   "cell_type": "code",
   "execution_count": 26,
   "id": "28da0847-5fd1-4389-a6c3-c0520611131a",
   "metadata": {},
   "outputs": [
    {
     "data": {
      "text/plain": [
       "<class 'statsmodels.stats.base.HolderTuple'>\n",
       "statistic = -1.1757561456581607\n",
       "pvalue = 0.24106066495471642\n",
       "df = 204.29842398679557\n",
       "distribution = 't'\n",
       "tuple = (-1.1757561456581607, 0.24106066495471642)"
      ]
     },
     "execution_count": 26,
     "metadata": {},
     "output_type": "execute_result"
    }
   ],
   "source": [
    "res_o.test_prob_superior()\n"
   ]
  },
  {
   "cell_type": "code",
   "execution_count": 27,
   "id": "24f4880a-8589-484b-8247-e8d909027ba2",
   "metadata": {},
   "outputs": [
    {
     "data": {
      "text/plain": [
       "<class 'statsmodels.stats.base.HolderTuple'>\n",
       "statistic = -1.1757561456581602\n",
       "pvalue = 0.24106066495471665\n",
       "df = 204.29842398679557\n",
       "distribution = 't'\n",
       "tuple = (-1.1757561456581602, 0.24106066495471665)"
      ]
     },
     "execution_count": 27,
     "metadata": {},
     "output_type": "execute_result"
    }
   ],
   "source": [
    "res.test_prob_superior()\n"
   ]
  },
  {
   "cell_type": "code",
   "execution_count": 28,
   "id": "f70e1fa1-b78e-4fcf-9de0-de02d6270df9",
   "metadata": {},
   "outputs": [
    {
     "data": {
      "text/plain": [
       "((0.38161171441282665, 0.529937017229363),\n",
       " (0.3816117144128266, 0.529937017229363))"
      ]
     },
     "execution_count": 28,
     "metadata": {},
     "output_type": "execute_result"
    }
   ],
   "source": [
    "res_o.conf_int(), res.conf_int()\n"
   ]
  }
 ],
 "metadata": {
  "kernelspec": {
   "display_name": "Python 3 (ipykernel)",
   "language": "python",
   "name": "python3"
  },
  "language_info": {
   "codemirror_mode": {
    "name": "ipython",
    "version": 3
   },
   "file_extension": ".py",
   "mimetype": "text/x-python",
   "name": "python",
   "nbconvert_exporter": "python",
   "pygments_lexer": "ipython3",
   "version": "3.12.3"
  }
 },
 "nbformat": 4,
 "nbformat_minor": 5
}
