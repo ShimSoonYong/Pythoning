{
 "cells": [
  {
   "cell_type": "markdown",
   "id": "773bded7-85fe-4216-836e-c34ef48cd85a",
   "metadata": {},
   "source": [
    "# Source Code Encoding\n",
    "> To declare an encoding other than the default one, a special comment line should be added as the first line of the file. The syntax is as follows:"
   ]
  },
  {
   "cell_type": "code",
   "execution_count": 5,
   "id": "1e124e1e-22f4-4306-80be-8483ea0270c1",
   "metadata": {},
   "outputs": [],
   "source": [
    "# -*- coding: encoding -*-"
   ]
  },
  {
   "cell_type": "markdown",
   "id": "708bcac4-a218-4fdb-b0f4-575dbbea652d",
   "metadata": {},
   "source": [
    "# 파이썬 개요"
   ]
  },
  {
   "cell_type": "markdown",
   "id": "07f7fc74-4a22-44f5-b593-fbced5929c17",
   "metadata": {},
   "source": [
    "## 파이썬 계산기로 쓰기!"
   ]
  },
  {
   "cell_type": "code",
   "execution_count": 80,
   "id": "5d4111a7-f689-4770-8f65-536d9d5828b9",
   "metadata": {},
   "outputs": [
    {
     "data": {
      "text/plain": [
       "4"
      ]
     },
     "execution_count": 80,
     "metadata": {},
     "output_type": "execute_result"
    }
   ],
   "source": [
    "2+2"
   ]
  },
  {
   "cell_type": "code",
   "execution_count": 81,
   "id": "11cefdfd-ea41-48b3-84f7-43ef1750049b",
   "metadata": {},
   "outputs": [
    {
     "data": {
      "text/plain": [
       "20"
      ]
     },
     "execution_count": 81,
     "metadata": {},
     "output_type": "execute_result"
    }
   ],
   "source": [
    "50-5*6"
   ]
  },
  {
   "cell_type": "code",
   "execution_count": 82,
   "id": "f07e0e91-0622-4028-ac7f-7b674be08637",
   "metadata": {},
   "outputs": [
    {
     "data": {
      "text/plain": [
       "5.0"
      ]
     },
     "execution_count": 82,
     "metadata": {},
     "output_type": "execute_result"
    }
   ],
   "source": [
    "(50-5*6)/4"
   ]
  },
  {
   "cell_type": "code",
   "execution_count": 83,
   "id": "59788393-25fc-4e18-8d44-c00f60a2bbb9",
   "metadata": {},
   "outputs": [
    {
     "data": {
      "text/plain": [
       "1.6"
      ]
     },
     "execution_count": 83,
     "metadata": {},
     "output_type": "execute_result"
    }
   ],
   "source": [
    "8/5"
   ]
  },
  {
   "cell_type": "markdown",
   "id": "32ed97ed-6eb4-4bbd-a8b7-f5eca71e576a",
   "metadata": {},
   "source": [
    "정수(e.g. 2, 4, 20)는 int 자료형이고, 실수는 (e.g. 5.0, 1.6) float 자료형이다."
   ]
  },
  {
   "cell_type": "code",
   "execution_count": 84,
   "id": "22a37006-f7f6-41af-bad0-492a69f8ec94",
   "metadata": {},
   "outputs": [
    {
     "data": {
      "text/plain": [
       "8.5"
      ]
     },
     "execution_count": 84,
     "metadata": {},
     "output_type": "execute_result"
    }
   ],
   "source": [
    "17/2 # Classic division returns a float"
   ]
  },
  {
   "cell_type": "code",
   "execution_count": 85,
   "id": "78e137e2-dfb4-4364-9f30-08b3d6b68b7d",
   "metadata": {},
   "outputs": [
    {
     "data": {
      "text/plain": [
       "5"
      ]
     },
     "execution_count": 85,
     "metadata": {},
     "output_type": "execute_result"
    }
   ],
   "source": [
    "17//3 # Floor division discards the fractional part"
   ]
  },
  {
   "cell_type": "code",
   "execution_count": 86,
   "id": "92726c5d-4c7b-4613-9458-53ff304bc9aa",
   "metadata": {},
   "outputs": [
    {
     "data": {
      "text/plain": [
       "2"
      ]
     },
     "execution_count": 86,
     "metadata": {},
     "output_type": "execute_result"
    }
   ],
   "source": [
    "17%3 # The % operator returns the remainder of the division"
   ]
  },
  {
   "cell_type": "code",
   "execution_count": 87,
   "id": "f537afa6-f715-42a0-8b82-2c86b4928045",
   "metadata": {},
   "outputs": [
    {
     "data": {
      "text/plain": [
       "17"
      ]
     },
     "execution_count": 87,
     "metadata": {},
     "output_type": "execute_result"
    }
   ],
   "source": [
    "5*3+2 # # Floored quotient times divisor plus remainder"
   ]
  },
  {
   "cell_type": "markdown",
   "id": "efe45b37-3ed3-4e81-a6ce-1a171d854271",
   "metadata": {},
   "source": [
    "별 두개 (**)는 파이썬에서 제곱 기호이다."
   ]
  },
  {
   "cell_type": "code",
   "execution_count": 88,
   "id": "ace182e6-01fc-450c-a14e-d05c9b603d57",
   "metadata": {},
   "outputs": [
    {
     "data": {
      "text/plain": [
       "25"
      ]
     },
     "execution_count": 88,
     "metadata": {},
     "output_type": "execute_result"
    }
   ],
   "source": [
    "5**2"
   ]
  },
  {
   "cell_type": "code",
   "execution_count": 89,
   "id": "73c84f7d-3dd4-499d-aecd-cc2c97f8a25a",
   "metadata": {},
   "outputs": [
    {
     "data": {
      "text/plain": [
       "128"
      ]
     },
     "execution_count": 89,
     "metadata": {},
     "output_type": "execute_result"
    }
   ],
   "source": [
    "2**7"
   ]
  },
  {
   "cell_type": "markdown",
   "id": "2a970e35-f426-4797-8ab0-919efba116d9",
   "metadata": {},
   "source": [
    "등호(=)는 할당 연산자이다.\n",
    "<br>할당 연산자는 기본적으로 출력을 하지 않는다."
   ]
  },
  {
   "cell_type": "code",
   "execution_count": 90,
   "id": "034d2d40-54a6-4dde-a6e3-dd49a38f3e79",
   "metadata": {},
   "outputs": [
    {
     "data": {
      "text/plain": [
       "900"
      ]
     },
     "execution_count": 90,
     "metadata": {},
     "output_type": "execute_result"
    }
   ],
   "source": [
    "width=20\n",
    "height=5*9\n",
    "width*height"
   ]
  },
  {
   "cell_type": "markdown",
   "id": "041a7556-dfd8-4768-9799-5148e578644f",
   "metadata": {},
   "source": [
    "값이 할당되지 않은(정의되지 않은) 변수를 호출하면 오류가 난다."
   ]
  },
  {
   "cell_type": "code",
   "execution_count": 91,
   "id": "19c073ef-0fe4-4d66-93ab-e2bf002a7a73",
   "metadata": {},
   "outputs": [
    {
     "ename": "NameError",
     "evalue": "name 'n' is not defined",
     "output_type": "error",
     "traceback": [
      "\u001b[1;31m---------------------------------------------------------------------------\u001b[0m",
      "\u001b[1;31mNameError\u001b[0m                                 Traceback (most recent call last)",
      "Cell \u001b[1;32mIn[91], line 1\u001b[0m\n\u001b[1;32m----> 1\u001b[0m n\n",
      "\u001b[1;31mNameError\u001b[0m: name 'n' is not defined"
     ]
    }
   ],
   "source": [
    "n  # try to access an undefined variable"
   ]
  },
  {
   "cell_type": "markdown",
   "id": "86e49f1c-1f9c-4281-b0e6-cccadb19bdc9",
   "metadata": {},
   "source": [
    "정수와 실수 피연산자들을 섞어서 쓰면 실수로 결과가 나온다."
   ]
  },
  {
   "cell_type": "code",
   "execution_count": 92,
   "id": "5d63d165-2309-4053-b760-79901e30deef",
   "metadata": {},
   "outputs": [
    {
     "data": {
      "text/plain": [
       "14.0"
      ]
     },
     "execution_count": 92,
     "metadata": {},
     "output_type": "execute_result"
    }
   ],
   "source": [
    "4*3.75-1"
   ]
  },
  {
   "cell_type": "markdown",
   "id": "ecfa27b2-b27f-4678-8d63-0d667111bd24",
   "metadata": {},
   "source": [
    "인터렉티브 모드(콘솔 창)에선 마지막 계산 결과가 언더스코어(_)에 자동 저장된다."
   ]
  },
  {
   "cell_type": "code",
   "execution_count": 93,
   "id": "708fba7b-51bb-4269-80b0-b96362123d83",
   "metadata": {},
   "outputs": [
    {
     "data": {
      "text/plain": [
       "14.0"
      ]
     },
     "execution_count": 93,
     "metadata": {},
     "output_type": "execute_result"
    }
   ],
   "source": [
    "_"
   ]
  },
  {
   "cell_type": "code",
   "execution_count": 94,
   "id": "3410b2d8-e92f-4baa-be1e-b3e042412450",
   "metadata": {},
   "outputs": [],
   "source": [
    "tax=12.5/100"
   ]
  },
  {
   "cell_type": "code",
   "execution_count": 95,
   "id": "b08d58e3-475b-485a-b6f3-872d8b5f0d1b",
   "metadata": {},
   "outputs": [],
   "source": [
    "price=100.50"
   ]
  },
  {
   "cell_type": "code",
   "execution_count": 96,
   "id": "7e4222dc-aa01-4093-8afe-fc1d66a72620",
   "metadata": {},
   "outputs": [
    {
     "data": {
      "text/plain": [
       "12.5625"
      ]
     },
     "execution_count": 96,
     "metadata": {},
     "output_type": "execute_result"
    }
   ],
   "source": [
    "price*tax"
   ]
  },
  {
   "cell_type": "code",
   "execution_count": 97,
   "id": "22441c29-503e-4272-80bb-f02aeb1ec300",
   "metadata": {},
   "outputs": [
    {
     "data": {
      "text/plain": [
       "113.0625"
      ]
     },
     "execution_count": 97,
     "metadata": {},
     "output_type": "execute_result"
    }
   ],
   "source": [
    "price+_"
   ]
  },
  {
   "cell_type": "code",
   "execution_count": 98,
   "id": "669f468a-0b88-4247-9de3-ab4f647f57a2",
   "metadata": {},
   "outputs": [
    {
     "data": {
      "text/plain": [
       "113.06"
      ]
     },
     "execution_count": 98,
     "metadata": {},
     "output_type": "execute_result"
    }
   ],
   "source": [
    "round(_,2)"
   ]
  },
  {
   "cell_type": "markdown",
   "id": "41629cff-e644-414e-b8eb-38718dfbcf18",
   "metadata": {},
   "source": [
    "## 파이썬의 기본 문자 처리"
   ]
  },
  {
   "cell_type": "code",
   "execution_count": 99,
   "id": "1587c1db-e3c5-45db-abcc-9ed76946f01a",
   "metadata": {},
   "outputs": [
    {
     "data": {
      "text/plain": [
       "'spam eggs'"
      ]
     },
     "execution_count": 99,
     "metadata": {},
     "output_type": "execute_result"
    }
   ],
   "source": [
    "'spam eggs'"
   ]
  },
  {
   "cell_type": "code",
   "execution_count": 100,
   "id": "f353cc1c-42c2-4aa9-8400-5e810e8c5d5d",
   "metadata": {},
   "outputs": [
    {
     "data": {
      "text/plain": [
       "'Paris rabbit got your back :)! Yay!'"
      ]
     },
     "execution_count": 100,
     "metadata": {},
     "output_type": "execute_result"
    }
   ],
   "source": [
    "\"Paris rabbit got your back :)! Yay!\""
   ]
  },
  {
   "cell_type": "code",
   "execution_count": 101,
   "id": "0594ca23-7a1f-42dd-8db3-ac686834a465",
   "metadata": {},
   "outputs": [
    {
     "data": {
      "text/plain": [
       "'1975'"
      ]
     },
     "execution_count": 101,
     "metadata": {},
     "output_type": "execute_result"
    }
   ],
   "source": [
    "'1975'"
   ]
  },
  {
   "cell_type": "markdown",
   "id": "a347e776-2eae-4bc6-ba7b-d0be35cdea5c",
   "metadata": {},
   "source": [
    "### 인용 기호(따옴표)를 문자열에 넣기 위해선, \\\\를 사용해 이스케이프 문자열로 만들어야 한다. 아니면 그냥 다른 따옴표를 사용해도 된다.\n",
    "|따옴표 종류|기호|\n",
    "|----------|----|\n",
    "|작은따옴표|'text'|\n",
    "|큰따옴표|\"text\"|\n",
    "|큰따옴표 세 개|\"\"\"text\"\"\"|\n",
    "|작은따옴표 세 개|'''text'''|"
   ]
  },
  {
   "cell_type": "code",
   "execution_count": 28,
   "id": "35c8cfae-ef14-4e77-8eb7-be3d45c5a563",
   "metadata": {},
   "outputs": [
    {
     "data": {
      "text/plain": [
       "\"doesn't\""
      ]
     },
     "execution_count": 28,
     "metadata": {},
     "output_type": "execute_result"
    }
   ],
   "source": [
    "'doesn\\'t'"
   ]
  },
  {
   "cell_type": "code",
   "execution_count": 29,
   "id": "ff3aace0-c980-4139-beac-09f48f4d7148",
   "metadata": {},
   "outputs": [
    {
     "data": {
      "text/plain": [
       "\"doesn't\""
      ]
     },
     "execution_count": 29,
     "metadata": {},
     "output_type": "execute_result"
    }
   ],
   "source": [
    "\"doesn't\""
   ]
  },
  {
   "cell_type": "code",
   "execution_count": 30,
   "id": "c6c2d72d-2d8b-441c-8aa5-896242b3f295",
   "metadata": {},
   "outputs": [
    {
     "data": {
      "text/plain": [
       "'\"Yes,\" they said.'"
      ]
     },
     "execution_count": 30,
     "metadata": {},
     "output_type": "execute_result"
    }
   ],
   "source": [
    "'\"Yes,\" they said.'"
   ]
  },
  {
   "cell_type": "code",
   "execution_count": 31,
   "id": "c329206a-9c01-4472-831d-24fec1dcbfd9",
   "metadata": {},
   "outputs": [
    {
     "data": {
      "text/plain": [
       "'\"Yes,\" they said.'"
      ]
     },
     "execution_count": 31,
     "metadata": {},
     "output_type": "execute_result"
    }
   ],
   "source": [
    "\"\\\"Yes,\\\" they said.\""
   ]
  },
  {
   "cell_type": "code",
   "execution_count": 32,
   "id": "666a6384-d381-4658-b470-2ded31c72796",
   "metadata": {},
   "outputs": [
    {
     "data": {
      "text/plain": [
       "'\"Isn\\'t,\" they said.'"
      ]
     },
     "execution_count": 32,
     "metadata": {},
     "output_type": "execute_result"
    }
   ],
   "source": [
    "'\"Isn\\'t,\" they said.'"
   ]
  },
  {
   "cell_type": "markdown",
   "id": "8e359a18-78a0-433d-b0d4-5e13d417c98b",
   "metadata": {},
   "source": [
    "print()함수는 자동으로 문자열 처리를 도우는 함수로, 문자열을 닫는(문자열을 정의하는) 인용 기호를 제거하고 이스케이프 문자열과 특수문자를 출력해 준다."
   ]
  },
  {
   "cell_type": "code",
   "execution_count": 102,
   "id": "fe517f4a-8d65-4893-9119-543e8abc8e35",
   "metadata": {},
   "outputs": [
    {
     "data": {
      "text/plain": [
       "'First line.\\nSecond line.'"
      ]
     },
     "execution_count": 102,
     "metadata": {},
     "output_type": "execute_result"
    }
   ],
   "source": [
    "s=\"First line.\\nSecond line.\"\n",
    "s"
   ]
  },
  {
   "cell_type": "code",
   "execution_count": 103,
   "id": "ab357dfc-8861-4ac7-9938-75efc58f34a0",
   "metadata": {},
   "outputs": [
    {
     "name": "stdout",
     "output_type": "stream",
     "text": [
      "First line.\n",
      "Second line.\n"
     ]
    }
   ],
   "source": [
    "print(s)"
   ]
  },
  {
   "cell_type": "markdown",
   "id": "6f29fc53-842e-49f5-b0a8-2c04b54ff0be",
   "metadata": {},
   "source": [
    "\\기호를 특수문자로 처리하고 싶지 않을 경우, 인용구 시작 지점의 따옴표에 r을 붙여서 raw string형태로 출력할 수 있다."
   ]
  },
  {
   "cell_type": "code",
   "execution_count": 104,
   "id": "f7abcb49-4755-4e7a-8515-4c7b0ffbc833",
   "metadata": {},
   "outputs": [
    {
     "name": "stdout",
     "output_type": "stream",
     "text": [
      "C:\\some\n",
      "ame\n"
     ]
    },
    {
     "name": "stderr",
     "output_type": "stream",
     "text": [
      "<>:1: SyntaxWarning: invalid escape sequence '\\s'\n",
      "<>:1: SyntaxWarning: invalid escape sequence '\\s'\n",
      "C:\\Users\\user\\AppData\\Local\\Temp\\ipykernel_20348\\3722566993.py:1: SyntaxWarning: invalid escape sequence '\\s'\n",
      "  print(\"C:\\some\\name\")\n"
     ]
    }
   ],
   "source": [
    "print(\"C:\\some\\name\")"
   ]
  },
  {
   "cell_type": "code",
   "execution_count": 105,
   "id": "a1b26721-57fa-4ad1-b8ce-9af9fed3c0de",
   "metadata": {},
   "outputs": [
    {
     "name": "stdout",
     "output_type": "stream",
     "text": [
      "C:\\some\\name\n"
     ]
    }
   ],
   "source": [
    "print(r\"C:\\some\\name\")"
   ]
  },
  {
   "cell_type": "markdown",
   "id": "b75bf628-d022-4f84-a246-716aeba8fe59",
   "metadata": {},
   "source": [
    "문자열은 여러 줄로 출력될 수 있다. 한 방법은 세 개의 따옴표를 사용하는 것이다: \"\"\"...\"\"\" 이나 '''...'''. 줄바꿈이 원래 자동으로 출력 결과에 반영되지만, \\를 줄 끝에 추가하여 줄 바꿈을 안 할 수도 있다. 예시:"
   ]
  },
  {
   "cell_type": "code",
   "execution_count": 106,
   "id": "2d7ccf59-7bfa-4e5c-8ac9-5d5ace74e7aa",
   "metadata": {},
   "outputs": [
    {
     "name": "stdout",
     "output_type": "stream",
     "text": [
      "Usage: thingy [OPTIONS]\n",
      "     -h                        Display this usage message\n",
      "     -H hostname               Hostname to connect to\n",
      "\n"
     ]
    }
   ],
   "source": [
    "print(\"\"\"\\\n",
    "Usage: thingy [OPTIONS]\n",
    "     -h                        Display this usage message\n",
    "     -H hostname               Hostname to connect to\n",
    "\"\"\")"
   ]
  },
  {
   "cell_type": "markdown",
   "id": "7a47ffcb-d6fc-4326-87e0-4ec7f8ec2ba5",
   "metadata": {},
   "source": [
    "문자열에 +를 사용하면 연이어서 결합되고, *(곱셈 기호)를 사용하면 반복할 수 있다:"
   ]
  },
  {
   "cell_type": "code",
   "execution_count": 107,
   "id": "f0e09bd6-423d-4aa5-afc1-0172789bbc80",
   "metadata": {},
   "outputs": [
    {
     "data": {
      "text/plain": [
       "'unununium'"
      ]
     },
     "execution_count": 107,
     "metadata": {},
     "output_type": "execute_result"
    }
   ],
   "source": [
    "3*\"un\"+\"ium\""
   ]
  },
  {
   "cell_type": "markdown",
   "id": "adc157a1-8219-4b5a-9f28-15dafd7bdfc6",
   "metadata": {},
   "source": [
    "연이어 입력한 복수의 문자열은 자동 결합된다."
   ]
  },
  {
   "cell_type": "code",
   "execution_count": 108,
   "id": "1837cc52-cf4a-486d-bd06-d68abcda4c48",
   "metadata": {},
   "outputs": [
    {
     "data": {
      "text/plain": [
       "'PyTorch'"
      ]
     },
     "execution_count": 108,
     "metadata": {},
     "output_type": "execute_result"
    }
   ],
   "source": [
    "\"Py\" \"Torch\""
   ]
  },
  {
   "cell_type": "code",
   "execution_count": 109,
   "id": "49205589-71f3-4581-9397-a2aafe3e3cae",
   "metadata": {},
   "outputs": [
    {
     "data": {
      "text/plain": [
       "'Put several strings within parenthese to have tem joined together'"
      ]
     },
     "execution_count": 109,
     "metadata": {},
     "output_type": "execute_result"
    }
   ],
   "source": [
    "text=(\"Put several strings within parenthese \"\n",
    "      \"to have tem joined together\")\n",
    "text"
   ]
  },
  {
   "cell_type": "markdown",
   "id": "85fed7f5-9e99-4e4e-b062-67229e56aa8c",
   "metadata": {},
   "source": [
    "하지만 이건 순수 문자열에만 가능하고, 변수에 할당된 문자열이나 +, * 등의 기호가 들어간 수식에는 사용할 수 없다."
   ]
  },
  {
   "cell_type": "code",
   "execution_count": 110,
   "id": "34ff6eb7-8ca2-4cf6-9b7b-deef0ecc2091",
   "metadata": {},
   "outputs": [
    {
     "ename": "SyntaxError",
     "evalue": "invalid syntax (3011270258.py, line 2)",
     "output_type": "error",
     "traceback": [
      "\u001b[1;36m  Cell \u001b[1;32mIn[110], line 2\u001b[1;36m\u001b[0m\n\u001b[1;33m    prefix \"thon\"\u001b[0m\n\u001b[1;37m           ^\u001b[0m\n\u001b[1;31mSyntaxError\u001b[0m\u001b[1;31m:\u001b[0m invalid syntax\n"
     ]
    }
   ],
   "source": [
    "prefix=\"Py\"\n",
    "prefix \"thon\""
   ]
  },
  {
   "cell_type": "code",
   "execution_count": 111,
   "id": "63fdf9fe-d98d-4dc5-8648-4221822e3f2f",
   "metadata": {},
   "outputs": [
    {
     "ename": "SyntaxError",
     "evalue": "invalid syntax (1197186915.py, line 1)",
     "output_type": "error",
     "traceback": [
      "\u001b[1;36m  Cell \u001b[1;32mIn[111], line 1\u001b[1;36m\u001b[0m\n\u001b[1;33m    (\"un\"*3)\"ium\"\u001b[0m\n\u001b[1;37m            ^\u001b[0m\n\u001b[1;31mSyntaxError\u001b[0m\u001b[1;31m:\u001b[0m invalid syntax\n"
     ]
    }
   ],
   "source": [
    "(\"un\"*3)\"ium\""
   ]
  },
  {
   "cell_type": "code",
   "execution_count": 112,
   "id": "cd3b9b8a-0c72-4a06-88f8-75a27c8409ff",
   "metadata": {},
   "outputs": [
    {
     "data": {
      "text/plain": [
       "'PyTorch'"
      ]
     },
     "execution_count": 112,
     "metadata": {},
     "output_type": "execute_result"
    }
   ],
   "source": [
    "prefix+\"Torch\""
   ]
  },
  {
   "cell_type": "markdown",
   "id": "bd84a27b-c86a-4a56-a048-982fae8903d5",
   "metadata": {},
   "source": [
    "문자열은 인덱싱으로 일부만 참조할 수 있는데, 첫 번째 문자의 인덱스는 0이다. 파이썬에선 단일 문자형(character type)이 없고, 크기가 1인 문자열(string type)만 있다."
   ]
  },
  {
   "cell_type": "code",
   "execution_count": 113,
   "id": "de71de16-3238-4221-9e1a-c6fa27ed979f",
   "metadata": {},
   "outputs": [
    {
     "name": "stdout",
     "output_type": "stream",
     "text": [
      "s\n",
      "t\n"
     ]
    }
   ],
   "source": [
    "word=\"scikit-learn\"\n",
    "print(word[0])\n",
    "print(word[5])"
   ]
  },
  {
   "cell_type": "code",
   "execution_count": 114,
   "id": "8878400b-5ae2-4055-89b8-52dc6615f876",
   "metadata": {},
   "outputs": [
    {
     "name": "stdout",
     "output_type": "stream",
     "text": [
      "n\n",
      "r\n",
      "-\n"
     ]
    }
   ],
   "source": [
    "print(word[-1])\n",
    "print(word[-2])\n",
    "print(word[-6])"
   ]
  },
  {
   "cell_type": "code",
   "execution_count": 115,
   "id": "e2b20c32-2a79-4e17-a3a6-f404d916d95f",
   "metadata": {},
   "outputs": [
    {
     "data": {
      "text/plain": [
       "'sc'"
      ]
     },
     "execution_count": 115,
     "metadata": {},
     "output_type": "execute_result"
    }
   ],
   "source": [
    "word[0:2]"
   ]
  },
  {
   "cell_type": "code",
   "execution_count": 116,
   "id": "10d0e9e8-7291-41e3-8184-7c355f98d81b",
   "metadata": {},
   "outputs": [
    {
     "data": {
      "text/plain": [
       "'iki'"
      ]
     },
     "execution_count": 116,
     "metadata": {},
     "output_type": "execute_result"
    }
   ],
   "source": [
    "word[2:5]"
   ]
  },
  {
   "cell_type": "code",
   "execution_count": 117,
   "id": "a434a1d4-b1b7-40bc-9783-e8ddf1db0596",
   "metadata": {},
   "outputs": [
    {
     "name": "stdout",
     "output_type": "stream",
     "text": [
      "sc\n",
      "it-learn\n",
      "rn\n"
     ]
    }
   ],
   "source": [
    "print(word[:2])\n",
    "print(word[4:])\n",
    "print(word[-2:])"
   ]
  },
  {
   "cell_type": "code",
   "execution_count": 118,
   "id": "aecfb9be-ed42-414c-bf9c-7f16abcd0932",
   "metadata": {},
   "outputs": [
    {
     "name": "stdout",
     "output_type": "stream",
     "text": [
      "scikit-learn\n"
     ]
    }
   ],
   "source": [
    "print(word[-len(word):])"
   ]
  },
  {
   "cell_type": "markdown",
   "id": "a080e54b-6251-409d-9745-26ff28a9a900",
   "metadata": {},
   "source": [
    "시작점은 항상 포함되고, 끝점은 항상 제외된다. <br>\n",
    "이러면 st[a : ]+st[ : a]가 항상 st로 나오게 된다."
   ]
  },
  {
   "cell_type": "code",
   "execution_count": 119,
   "id": "a150145c-8fbe-46ac-bdc9-0cd8ada441a2",
   "metadata": {},
   "outputs": [
    {
     "name": "stdout",
     "output_type": "stream",
     "text": [
      "scikit-learn\n",
      "scikit-learn\n"
     ]
    }
   ],
   "source": [
    "print(word[:2]+word[2:])\n",
    "print(word[:5]+word[5:])"
   ]
  },
  {
   "cell_type": "code",
   "execution_count": null,
   "id": "1153ec81-e3c2-4370-9913-8752368dd862",
   "metadata": {},
   "outputs": [],
   "source": [
    " +---+---+---+---+---+---+\n",
    " | P | y | t | h | o | n |\n",
    " +---+---+---+---+---+---+\n",
    " 0   1   2   3   4   5   6\n",
    "-6  -5  -4  -3  -2  -1"
   ]
  },
  {
   "cell_type": "markdown",
   "id": "ec54026c-ea60-4d78-b2e7-f33bfbb5e315",
   "metadata": {},
   "source": [
    "최대/최소 길이를 벗어난 인덱싱은 오류를 발생시킨다."
   ]
  },
  {
   "cell_type": "code",
   "execution_count": 120,
   "id": "a508eb18-74bb-442a-86b1-6bd05f2e5e45",
   "metadata": {},
   "outputs": [
    {
     "ename": "IndexError",
     "evalue": "string index out of range",
     "output_type": "error",
     "traceback": [
      "\u001b[1;31m---------------------------------------------------------------------------\u001b[0m",
      "\u001b[1;31mIndexError\u001b[0m                                Traceback (most recent call last)",
      "Cell \u001b[1;32mIn[120], line 1\u001b[0m\n\u001b[1;32m----> 1\u001b[0m word[\u001b[38;5;241m42\u001b[39m]\n",
      "\u001b[1;31mIndexError\u001b[0m: string index out of range"
     ]
    }
   ],
   "source": [
    "word[42]"
   ]
  },
  {
   "cell_type": "markdown",
   "id": "0195dbf2-9e60-42e7-8f68-35bfc2ffef0a",
   "metadata": {},
   "source": [
    "하지만 슬라이싱은 가능하다!"
   ]
  },
  {
   "cell_type": "code",
   "execution_count": 123,
   "id": "00c62b80-1368-43fc-b4bb-e9e204205ba9",
   "metadata": {},
   "outputs": [
    {
     "data": {
      "text/plain": [
       "'it-learn'"
      ]
     },
     "execution_count": 123,
     "metadata": {},
     "output_type": "execute_result"
    }
   ],
   "source": [
    "word[4:42]"
   ]
  },
  {
   "cell_type": "code",
   "execution_count": 124,
   "id": "6bdd0a6b-4ff4-40db-9e77-a6d41ee74d75",
   "metadata": {},
   "outputs": [
    {
     "data": {
      "text/plain": [
       "''"
      ]
     },
     "execution_count": 124,
     "metadata": {},
     "output_type": "execute_result"
    }
   ],
   "source": [
    "word[42:]"
   ]
  },
  {
   "cell_type": "markdown",
   "id": "2023a979-6264-4001-bead-b0a2a84e9dd5",
   "metadata": {},
   "source": [
    "파이썬 문자열은 immutable 자료형으로, 내부의 원소를 수정할 수 없다. 따라서, 일부를 참조해 거기에 새 문자를 넣으면 오류가 난다."
   ]
  },
  {
   "cell_type": "code",
   "execution_count": 125,
   "id": "38399f05-3f0c-4bd9-b5d7-8defcfb53be1",
   "metadata": {},
   "outputs": [
    {
     "ename": "TypeError",
     "evalue": "'str' object does not support item assignment",
     "output_type": "error",
     "traceback": [
      "\u001b[1;31m---------------------------------------------------------------------------\u001b[0m",
      "\u001b[1;31mTypeError\u001b[0m                                 Traceback (most recent call last)",
      "Cell \u001b[1;32mIn[125], line 1\u001b[0m\n\u001b[1;32m----> 1\u001b[0m word[\u001b[38;5;241m0\u001b[39m]\u001b[38;5;241m=\u001b[39m\u001b[38;5;124m\"\u001b[39m\u001b[38;5;124mJ\u001b[39m\u001b[38;5;124m\"\u001b[39m\n",
      "\u001b[1;31mTypeError\u001b[0m: 'str' object does not support item assignment"
     ]
    }
   ],
   "source": [
    "word[0]=\"J\""
   ]
  },
  {
   "cell_type": "code",
   "execution_count": 126,
   "id": "48917719-4e08-4a47-904d-badcc3d841e6",
   "metadata": {},
   "outputs": [
    {
     "ename": "TypeError",
     "evalue": "'str' object does not support item assignment",
     "output_type": "error",
     "traceback": [
      "\u001b[1;31m---------------------------------------------------------------------------\u001b[0m",
      "\u001b[1;31mTypeError\u001b[0m                                 Traceback (most recent call last)",
      "Cell \u001b[1;32mIn[126], line 1\u001b[0m\n\u001b[1;32m----> 1\u001b[0m word[\u001b[38;5;241m2\u001b[39m:]\u001b[38;5;241m=\u001b[39m\u001b[38;5;124m\"\u001b[39m\u001b[38;5;124mpy\u001b[39m\u001b[38;5;124m\"\u001b[39m\n",
      "\u001b[1;31mTypeError\u001b[0m: 'str' object does not support item assignment"
     ]
    }
   ],
   "source": [
    "word[2:]=\"py\""
   ]
  },
  {
   "cell_type": "markdown",
   "id": "93dc6669-e026-4df4-8bf8-241ad3edfbbc",
   "metadata": {},
   "source": [
    "수정을 원하면 완전히 새로운 문자열을 생성해야 한다. 기존 변수에 할당할 수도 있지만, 새 변수를 생성하여 아래와 같이 작업할 수도 있다."
   ]
  },
  {
   "cell_type": "code",
   "execution_count": 127,
   "id": "5df7a0b8-88e6-44ca-a81c-dd3397db487f",
   "metadata": {},
   "outputs": [
    {
     "data": {
      "text/plain": [
       "'Jcikit-learn'"
      ]
     },
     "execution_count": 127,
     "metadata": {},
     "output_type": "execute_result"
    }
   ],
   "source": [
    "\"J\"+word[1:]"
   ]
  },
  {
   "cell_type": "code",
   "execution_count": 73,
   "id": "9a166856-ecaa-4436-baf5-1a86df9bda60",
   "metadata": {},
   "outputs": [
    {
     "data": {
      "text/plain": [
       "'scipy'"
      ]
     },
     "execution_count": 73,
     "metadata": {},
     "output_type": "execute_result"
    }
   ],
   "source": [
    "word[:3]+\"py\""
   ]
  },
  {
   "cell_type": "code",
   "execution_count": 128,
   "id": "5462e381-a113-4c84-9265-b9da10af4e40",
   "metadata": {},
   "outputs": [
    {
     "ename": "SyntaxError",
     "evalue": "invalid syntax (837349187.py, line 1)",
     "output_type": "error",
     "traceback": [
      "\u001b[1;36m  Cell \u001b[1;32mIn[128], line 1\u001b[1;36m\u001b[0m\n\u001b[1;33m    파이썬의 기본 내장 함수 len()은 문자열의 길이를 측정하여 반환한다.\u001b[0m\n\u001b[1;37m         ^\u001b[0m\n\u001b[1;31mSyntaxError\u001b[0m\u001b[1;31m:\u001b[0m invalid syntax\n"
     ]
    }
   ],
   "source": [
    "파이썬의 기본 내장 함수 len()은 문자열의 길이를 측정하여 반환한다."
   ]
  },
  {
   "cell_type": "code",
   "execution_count": 129,
   "id": "ffe461ad-5a7f-4b81-b984-ad0d21b150b0",
   "metadata": {},
   "outputs": [
    {
     "data": {
      "text/plain": [
       "34"
      ]
     },
     "execution_count": 129,
     "metadata": {},
     "output_type": "execute_result"
    }
   ],
   "source": [
    "s = 'supercalifragilisticexpialidocious'\n",
    "len(s)"
   ]
  },
  {
   "cell_type": "markdown",
   "id": "2c24b098-0013-4a0b-9cf2-cfd58b4fdaa3",
   "metadata": {},
   "source": [
    "## 리스트\n",
    "파이썬은 여러 값을 묶는 군집자료형을 다룰 수 있다. <br>\n",
    "가장 자주 쓰이는 것은 리스트(list)로, 대괄호([ ])에 콤마로 값을 구분해 작성할 수 있다([val_1, val_2]). <br>\n",
    "리스트에는 서로 다른 자료형의 값이 들어갈 수 있지만, 보통 같은 자료형을 가진 값을 넣는다."
   ]
  },
  {
   "cell_type": "code",
   "execution_count": 75,
   "id": "7bfb85d4-6a5a-4b92-b386-c036418bd8a3",
   "metadata": {},
   "outputs": [
    {
     "data": {
      "text/plain": [
       "[1, 4, 9, 16, 25]"
      ]
     },
     "execution_count": 75,
     "metadata": {},
     "output_type": "execute_result"
    }
   ],
   "source": [
    "squares=[1,4,9,16,25]\n",
    "squares"
   ]
  },
  {
   "cell_type": "code",
   "execution_count": 76,
   "id": "78c0b0cc-9cc3-411e-a10a-01428fceb1b3",
   "metadata": {},
   "outputs": [
    {
     "name": "stdout",
     "output_type": "stream",
     "text": [
      "1\n",
      "25\n",
      "[9, 16, 25]\n"
     ]
    }
   ],
   "source": [
    "print(squares[0])\n",
    "print(squares[-1])\n",
    "print(squares[-3:])"
   ]
  },
  {
   "cell_type": "markdown",
   "id": "c6bfc46c-1be8-4b9d-be31-88d6279eebb7",
   "metadata": {},
   "source": [
    "문자열과는 달리 리스트는 mutable한 자료형이다. 쉽게 말해 내부의 원소를 인덱싱과 슬라이싱으로 직접 접근해 수정할 수 있다."
   ]
  },
  {
   "cell_type": "code",
   "execution_count": 130,
   "id": "f9eb3ec2-bc0d-42b7-a0bc-9f4deae593ff",
   "metadata": {},
   "outputs": [
    {
     "data": {
      "text/plain": [
       "64"
      ]
     },
     "execution_count": 130,
     "metadata": {},
     "output_type": "execute_result"
    }
   ],
   "source": [
    "cubes=[1,8,27,65,125]\n",
    "4**3"
   ]
  },
  {
   "cell_type": "code",
   "execution_count": 131,
   "id": "1f77bd85-01eb-4bdb-9be5-2c579a916a26",
   "metadata": {},
   "outputs": [
    {
     "data": {
      "text/plain": [
       "[1, 8, 27, 64, 125]"
      ]
     },
     "execution_count": 131,
     "metadata": {},
     "output_type": "execute_result"
    }
   ],
   "source": [
    "cubes[3]=64\n",
    "cubes"
   ]
  },
  {
   "cell_type": "markdown",
   "id": "0e0daa81-4fe8-46a6-8830-c35bc381711c",
   "metadata": {},
   "source": [
    "list.append() 메소드는 리스트 객체 내부에 내장된 함수로서, 괄호 안의 값을 리스트 객체의 맨 끝에 추가한다."
   ]
  },
  {
   "cell_type": "code",
   "execution_count": 79,
   "id": "af931066-5dd0-49fd-a75e-c21da38021f8",
   "metadata": {},
   "outputs": [
    {
     "data": {
      "text/plain": [
       "[1, 8, 27, 64, 125, 216, 343]"
      ]
     },
     "execution_count": 79,
     "metadata": {},
     "output_type": "execute_result"
    }
   ],
   "source": [
    "cubes.append(6**3)\n",
    "cubes.append(7**3)\n",
    "cubes"
   ]
  },
  {
   "cell_type": "markdown",
   "id": "6984ab12-a8c8-4573-9745-c0fb1741e516",
   "metadata": {},
   "source": [
    "변수를 변수에 할당할 경우, 우리의 직관과는 달리 파이썬은 자료를 복사해서 할당해주지 않는다.<br>\n",
    "리스트 변수를 새 변수에 할당하면, 그 변수는 이미 존재하는 리스트를 참조한다.<br>\n",
    "만약 그렇게 리스트 변수들을 만들었으면, 하나만 바꿔도 나머지 변수들이 다 동일하게 바뀐다. "
   ]
  },
  {
   "cell_type": "code",
   "execution_count": 138,
   "id": "3841a69f-2492-486a-b77f-11d7eec15cf7",
   "metadata": {},
   "outputs": [
    {
     "data": {
      "text/plain": [
       "True"
      ]
     },
     "execution_count": 138,
     "metadata": {},
     "output_type": "execute_result"
    }
   ],
   "source": [
    "rgb=[\"Red\",\"Green\",\"Blue\"]\n",
    "rgba=rgb\n",
    "id(rgb)==id(rgba) # 같은 객체 참조"
   ]
  },
  {
   "cell_type": "code",
   "execution_count": 139,
   "id": "2cae1987-3ec7-40ba-afd5-73b64b5852e8",
   "metadata": {},
   "outputs": [
    {
     "data": {
      "text/plain": [
       "['Red', 'Green', 'Blue', 'Alph']"
      ]
     },
     "execution_count": 139,
     "metadata": {},
     "output_type": "execute_result"
    }
   ],
   "source": [
    "rgba.append(\"Alph\") # rgba 변수를 수정\n",
    "rgb # rgb 변수도 변화"
   ]
  },
  {
   "cell_type": "markdown",
   "id": "2e0c528e-05e6-44df-b545-8fc22c24889c",
   "metadata": {},
   "source": [
    "하지만 모든 슬라이싱 연산은 요청된 요소들을 담은 새로운 리스트 객체를 반환한다.<br>\n",
    "그러니까 슬라이싱은 리스트를 복사해서 주는 것이고, 따라서 슬라이싱해서 할당하면 서로 다른 객체를 참조하는 두 변수를 만들 수 있다."
   ]
  },
  {
   "cell_type": "code",
   "execution_count": 142,
   "id": "649e6226-5505-4274-81ba-7a3b67b597cb",
   "metadata": {},
   "outputs": [
    {
     "data": {
      "text/plain": [
       "['Red', 'Green', 'Blue', 'Alpha']"
      ]
     },
     "execution_count": 142,
     "metadata": {},
     "output_type": "execute_result"
    }
   ],
   "source": [
    "correct_rgba=rgba[:]\n",
    "correct_rgba[-1]=\"Alpha\"\n",
    "correct_rgba"
   ]
  },
  {
   "cell_type": "code",
   "execution_count": 143,
   "id": "f3acd0cd-1dc8-415b-987f-2d56415a12f6",
   "metadata": {},
   "outputs": [
    {
     "data": {
      "text/plain": [
       "['Red', 'Green', 'Blue', 'Alph']"
      ]
     },
     "execution_count": 143,
     "metadata": {},
     "output_type": "execute_result"
    }
   ],
   "source": [
    "rgba"
   ]
  },
  {
   "cell_type": "markdown",
   "id": "39abeb47-bad9-4ddf-9644-ce19a177cfa6",
   "metadata": {},
   "source": [
    "슬라이싱된 리스트 객체에 새 값을 할당하는 것도 가능하다.<br>\n",
    "그리고 이 연산은 리스트의 크기와 상관없이 가능하기 때문에 리스트가 더 커지거나 작아질 수도 있고, 아예 빈 리스트로 만들 수도 있다."
   ]
  },
  {
   "cell_type": "code",
   "execution_count": 144,
   "id": "c3228abf-77d7-4c3b-8600-b7e37ebf81f9",
   "metadata": {},
   "outputs": [
    {
     "data": {
      "text/plain": [
       "['a', 'b', 'c', 'd', 'e', 'f', 'g']"
      ]
     },
     "execution_count": 144,
     "metadata": {},
     "output_type": "execute_result"
    }
   ],
   "source": [
    "letters=[\"a\",\"b\",'c','d','e','f','g']\n",
    "letters"
   ]
  },
  {
   "cell_type": "code",
   "execution_count": 145,
   "id": "f0e6a5bc-6260-42af-bd88-aa162a9d476a",
   "metadata": {},
   "outputs": [
    {
     "data": {
      "text/plain": [
       "['a', 'b', 'C', 'D', 'E', 'f', 'g']"
      ]
     },
     "execution_count": 145,
     "metadata": {},
     "output_type": "execute_result"
    }
   ],
   "source": [
    "letters[2:5]=[\"C\",\"D\",\"E\"]\n",
    "letters"
   ]
  },
  {
   "cell_type": "code",
   "execution_count": 146,
   "id": "33be2755-b490-48bc-8c92-0a212a35b542",
   "metadata": {},
   "outputs": [
    {
     "data": {
      "text/plain": [
       "['a', 'b', 'f', 'g']"
      ]
     },
     "execution_count": 146,
     "metadata": {},
     "output_type": "execute_result"
    }
   ],
   "source": [
    "letters[2:5]=[]\n",
    "letters"
   ]
  },
  {
   "cell_type": "code",
   "execution_count": 147,
   "id": "381a3034-4a24-4663-a864-fbd8ecd0ee94",
   "metadata": {},
   "outputs": [
    {
     "data": {
      "text/plain": [
       "[]"
      ]
     },
     "execution_count": 147,
     "metadata": {},
     "output_type": "execute_result"
    }
   ],
   "source": [
    "# Clear all!\n",
    "letters[:]=[]\n",
    "letters"
   ]
  },
  {
   "cell_type": "markdown",
   "id": "6db17aef-aa1a-4162-ac14-8f25a55fe695",
   "metadata": {},
   "source": [
    "len() 함수는 리스트에도 사용 가능하다."
   ]
  },
  {
   "cell_type": "code",
   "execution_count": 148,
   "id": "c69bba19-4ce8-4431-829a-68a8be1d7ad0",
   "metadata": {},
   "outputs": [
    {
     "data": {
      "text/plain": [
       "4"
      ]
     },
     "execution_count": 148,
     "metadata": {},
     "output_type": "execute_result"
    }
   ],
   "source": [
    "letters=[\"a\",\"b\",\"c\",\"d\"]\n",
    "len(letters)"
   ]
  },
  {
   "cell_type": "markdown",
   "id": "e78f3dbc-bc65-4cda-b9da-22f3f9b38e99",
   "metadata": {},
   "source": [
    "중첩 리스트 객체를 만드는 것도 가능하다."
   ]
  },
  {
   "cell_type": "code",
   "execution_count": 149,
   "id": "fdc881cc-a7cd-443f-95c8-69259c244bc9",
   "metadata": {},
   "outputs": [
    {
     "data": {
      "text/plain": [
       "[['a', 'b', 'c'], [1, 2, 3]]"
      ]
     },
     "execution_count": 149,
     "metadata": {},
     "output_type": "execute_result"
    }
   ],
   "source": [
    "a=[\"a\",\"b\",\"c\"]\n",
    "n=[1,2,3]\n",
    "x=[a,n]\n",
    "x"
   ]
  },
  {
   "cell_type": "code",
   "execution_count": 150,
   "id": "7d1cc727-9277-4ba3-ae51-e82e4248f66b",
   "metadata": {},
   "outputs": [
    {
     "data": {
      "text/plain": [
       "['a', 'b', 'c']"
      ]
     },
     "execution_count": 150,
     "metadata": {},
     "output_type": "execute_result"
    }
   ],
   "source": [
    "x[0]"
   ]
  },
  {
   "cell_type": "code",
   "execution_count": 151,
   "id": "4aedc4e6-ec60-4eb4-b759-446d633b89d2",
   "metadata": {},
   "outputs": [
    {
     "data": {
      "text/plain": [
       "'b'"
      ]
     },
     "execution_count": 151,
     "metadata": {},
     "output_type": "execute_result"
    }
   ],
   "source": [
    "x[0][1] # x의 첫 번째 값 중 두 번쨰 값"
   ]
  },
  {
   "cell_type": "markdown",
   "id": "86d34969-5bc6-4e12-bc1a-790da00ab595",
   "metadata": {},
   "source": [
    "# 파이썬의 기초 프로그래밍"
   ]
  },
  {
   "cell_type": "code",
   "execution_count": 158,
   "id": "777faf27-3809-4d57-804d-772ecc2d805c",
   "metadata": {},
   "outputs": [
    {
     "name": "stdout",
     "output_type": "stream",
     "text": [
      "0\n",
      "1\n",
      "1\n",
      "2\n",
      "3\n",
      "5\n",
      "8\n"
     ]
    }
   ],
   "source": [
    "# 피보나치 수열\n",
    "a, b = 0, 1\n",
    "while a<10:\n",
    "    print(a)\n",
    "    a, b=b, a+b"
   ]
  },
  {
   "cell_type": "markdown",
   "id": "b94341d8-322a-4cac-be55-634268e65ed0",
   "metadata": {},
   "source": [
    "print 함수는 출력 형식을 자동으로 보기 좋게 만들어 주고, 보다 세밀한 조정도 가능하다."
   ]
  },
  {
   "cell_type": "code",
   "execution_count": 155,
   "id": "63a92f8d-4019-491d-9feb-f8ab78fd941d",
   "metadata": {},
   "outputs": [
    {
     "name": "stdout",
     "output_type": "stream",
     "text": [
      "The value of i is 65536\n"
     ]
    }
   ],
   "source": [
    "i=256*256\n",
    "print(\"The value of i is\",i)"
   ]
  },
  {
   "cell_type": "markdown",
   "id": "b0be7ee8-fc3c-4d5b-9824-8628ba7ff082",
   "metadata": {},
   "source": [
    "print 함수의 키워드 선언인 end= 는 출력 후 자동 개행되는 것을 막을 수 있고, 출력의 마지막에 다른 문자를 삽입하도록 할 수도 있다."
   ]
  },
  {
   "cell_type": "code",
   "execution_count": 161,
   "id": "d79c5fcb-13a4-41ba-b6fd-6790676370a5",
   "metadata": {},
   "outputs": [
    {
     "name": "stdout",
     "output_type": "stream",
     "text": [
      "0,1,1,2,3,5,8,13,21,34,55,89,144,233,377,610,987,1597,2584,4181,6765,10946,17711,28657,46368,75025,121393,196418,317811,514229,832040,"
     ]
    }
   ],
   "source": [
    "a,b=0,1\n",
    "while a<1000000:\n",
    "    print(a,end=\",\")\n",
    "    a,b=b,a+b"
   ]
  }
 ],
 "metadata": {
  "kernelspec": {
   "display_name": "Python 3 (ipykernel)",
   "language": "python",
   "name": "python3"
  },
  "language_info": {
   "codemirror_mode": {
    "name": "ipython",
    "version": 3
   },
   "file_extension": ".py",
   "mimetype": "text/x-python",
   "name": "python",
   "nbconvert_exporter": "python",
   "pygments_lexer": "ipython3",
   "version": "3.12.3"
  }
 },
 "nbformat": 4,
 "nbformat_minor": 5
}
