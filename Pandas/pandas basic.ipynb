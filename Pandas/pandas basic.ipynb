{
 "cells": [
  {
   "cell_type": "markdown",
   "id": "3f166261-2a27-498e-bb6f-3ff20617f026",
   "metadata": {},
   "source": [
    "# Basic data structures in pandas\n",
    "\n",
    ">Series: a one-dimensional labeled array holding data of any type<br>\n",
    ">DataFrame: a two-dimensional data structure that holds data like a two-dimension array or a table with rows and columns"
   ]
  },
  {
   "cell_type": "code",
   "execution_count": 7,
   "id": "aff2976c-fdb7-499c-83f0-29fcbbe62e3c",
   "metadata": {},
   "outputs": [],
   "source": [
    "import pandas as pd\n",
    "import numpy as np"
   ]
  },
  {
   "cell_type": "markdown",
   "id": "a75fc41a-57e6-46c6-a8a8-6b9079be3d76",
   "metadata": {},
   "source": [
    "## Object creation"
   ]
  },
  {
   "cell_type": "code",
   "execution_count": 9,
   "id": "4a601b8e-fb29-43e7-9332-bd614474dcc3",
   "metadata": {},
   "outputs": [
    {
     "data": {
      "text/plain": [
       "0    1.0\n",
       "1    3.0\n",
       "2    5.0\n",
       "3    NaN\n",
       "4    6.0\n",
       "5    8.0\n",
       "dtype: float64"
      ]
     },
     "execution_count": 9,
     "metadata": {},
     "output_type": "execute_result"
    }
   ],
   "source": [
    "s=pd.Series([1,3,5,np.nan, 6,8])\n",
    "s"
   ]
  },
  {
   "cell_type": "markdown",
   "id": "f675f1bc-c435-4e43-905c-f9a107a93716",
   "metadata": {},
   "source": [
    "#### Creating a DataFrame by passing a NumPy array with a datetime index using date_range() and labeled columns"
   ]
  },
  {
   "cell_type": "code",
   "execution_count": 13,
   "id": "cdad6d1a-d2e5-4159-a00d-a96766148d65",
   "metadata": {},
   "outputs": [
    {
     "data": {
      "text/plain": [
       "DatetimeIndex(['2013-01-01', '2013-01-02', '2013-01-03', '2013-01-04',\n",
       "               '2013-01-05', '2013-01-06'],\n",
       "              dtype='datetime64[ns]', freq='D')"
      ]
     },
     "execution_count": 13,
     "metadata": {},
     "output_type": "execute_result"
    }
   ],
   "source": [
    "dates=pd.date_range(\"20130101\",periods=6)\n",
    "dates"
   ]
  },
  {
   "cell_type": "code",
   "execution_count": 14,
   "id": "44e54eb3-4f1f-4443-a89f-cf76ce0688cb",
   "metadata": {},
   "outputs": [
    {
     "data": {
      "text/html": [
       "<div>\n",
       "<style scoped>\n",
       "    .dataframe tbody tr th:only-of-type {\n",
       "        vertical-align: middle;\n",
       "    }\n",
       "\n",
       "    .dataframe tbody tr th {\n",
       "        vertical-align: top;\n",
       "    }\n",
       "\n",
       "    .dataframe thead th {\n",
       "        text-align: right;\n",
       "    }\n",
       "</style>\n",
       "<table border=\"1\" class=\"dataframe\">\n",
       "  <thead>\n",
       "    <tr style=\"text-align: right;\">\n",
       "      <th></th>\n",
       "      <th>A</th>\n",
       "      <th>B</th>\n",
       "      <th>C</th>\n",
       "      <th>D</th>\n",
       "    </tr>\n",
       "  </thead>\n",
       "  <tbody>\n",
       "    <tr>\n",
       "      <th>2013-01-01</th>\n",
       "      <td>0.161765</td>\n",
       "      <td>-1.326880</td>\n",
       "      <td>2.539908</td>\n",
       "      <td>2.209767</td>\n",
       "    </tr>\n",
       "    <tr>\n",
       "      <th>2013-01-02</th>\n",
       "      <td>-1.316262</td>\n",
       "      <td>0.562353</td>\n",
       "      <td>-0.711617</td>\n",
       "      <td>0.088388</td>\n",
       "    </tr>\n",
       "    <tr>\n",
       "      <th>2013-01-03</th>\n",
       "      <td>0.381568</td>\n",
       "      <td>0.487226</td>\n",
       "      <td>1.768664</td>\n",
       "      <td>-0.311650</td>\n",
       "    </tr>\n",
       "    <tr>\n",
       "      <th>2013-01-04</th>\n",
       "      <td>0.585803</td>\n",
       "      <td>-0.615299</td>\n",
       "      <td>-1.619969</td>\n",
       "      <td>0.244345</td>\n",
       "    </tr>\n",
       "    <tr>\n",
       "      <th>2013-01-05</th>\n",
       "      <td>-0.829749</td>\n",
       "      <td>-0.643868</td>\n",
       "      <td>-0.458280</td>\n",
       "      <td>-0.358616</td>\n",
       "    </tr>\n",
       "    <tr>\n",
       "      <th>2013-01-06</th>\n",
       "      <td>0.339891</td>\n",
       "      <td>0.243163</td>\n",
       "      <td>-0.480762</td>\n",
       "      <td>-2.685433</td>\n",
       "    </tr>\n",
       "  </tbody>\n",
       "</table>\n",
       "</div>"
      ],
      "text/plain": [
       "                   A         B         C         D\n",
       "2013-01-01  0.161765 -1.326880  2.539908  2.209767\n",
       "2013-01-02 -1.316262  0.562353 -0.711617  0.088388\n",
       "2013-01-03  0.381568  0.487226  1.768664 -0.311650\n",
       "2013-01-04  0.585803 -0.615299 -1.619969  0.244345\n",
       "2013-01-05 -0.829749 -0.643868 -0.458280 -0.358616\n",
       "2013-01-06  0.339891  0.243163 -0.480762 -2.685433"
      ]
     },
     "execution_count": 14,
     "metadata": {},
     "output_type": "execute_result"
    }
   ],
   "source": [
    "df=pd.DataFrame(np.random.randn(6,4),index=dates, columns=list(\"ABCD\"))\n",
    "df"
   ]
  },
  {
   "cell_type": "markdown",
   "id": "8333d879-1e42-4922-b14c-3e2f3c2c8581",
   "metadata": {},
   "source": [
    "#### Creating a DataFrame by passing a dictionary of objects where the keys are the column labels and the values are the column values."
   ]
  },
  {
   "cell_type": "code",
   "execution_count": 15,
   "id": "d75180ce-440d-4c89-ae55-711e625ac30b",
   "metadata": {},
   "outputs": [
    {
     "data": {
      "text/html": [
       "<div>\n",
       "<style scoped>\n",
       "    .dataframe tbody tr th:only-of-type {\n",
       "        vertical-align: middle;\n",
       "    }\n",
       "\n",
       "    .dataframe tbody tr th {\n",
       "        vertical-align: top;\n",
       "    }\n",
       "\n",
       "    .dataframe thead th {\n",
       "        text-align: right;\n",
       "    }\n",
       "</style>\n",
       "<table border=\"1\" class=\"dataframe\">\n",
       "  <thead>\n",
       "    <tr style=\"text-align: right;\">\n",
       "      <th></th>\n",
       "      <th>A</th>\n",
       "      <th>B</th>\n",
       "      <th>C</th>\n",
       "      <th>D</th>\n",
       "      <th>E</th>\n",
       "      <th>F</th>\n",
       "    </tr>\n",
       "  </thead>\n",
       "  <tbody>\n",
       "    <tr>\n",
       "      <th>0</th>\n",
       "      <td>1.0</td>\n",
       "      <td>2024-04-25</td>\n",
       "      <td>1.0</td>\n",
       "      <td>3</td>\n",
       "      <td>test</td>\n",
       "      <td>Foo</td>\n",
       "    </tr>\n",
       "    <tr>\n",
       "      <th>1</th>\n",
       "      <td>1.0</td>\n",
       "      <td>2024-04-25</td>\n",
       "      <td>1.0</td>\n",
       "      <td>3</td>\n",
       "      <td>train</td>\n",
       "      <td>Foo</td>\n",
       "    </tr>\n",
       "    <tr>\n",
       "      <th>2</th>\n",
       "      <td>1.0</td>\n",
       "      <td>2024-04-25</td>\n",
       "      <td>1.0</td>\n",
       "      <td>3</td>\n",
       "      <td>test</td>\n",
       "      <td>Foo</td>\n",
       "    </tr>\n",
       "    <tr>\n",
       "      <th>3</th>\n",
       "      <td>1.0</td>\n",
       "      <td>2024-04-25</td>\n",
       "      <td>1.0</td>\n",
       "      <td>3</td>\n",
       "      <td>train</td>\n",
       "      <td>Foo</td>\n",
       "    </tr>\n",
       "  </tbody>\n",
       "</table>\n",
       "</div>"
      ],
      "text/plain": [
       "     A          B    C  D      E    F\n",
       "0  1.0 2024-04-25  1.0  3   test  Foo\n",
       "1  1.0 2024-04-25  1.0  3  train  Foo\n",
       "2  1.0 2024-04-25  1.0  3   test  Foo\n",
       "3  1.0 2024-04-25  1.0  3  train  Foo"
      ]
     },
     "execution_count": 15,
     "metadata": {},
     "output_type": "execute_result"
    }
   ],
   "source": [
    "df2=pd.DataFrame(\n",
    "    {\n",
    "        \"A\":1.0,\n",
    "        \"B\":pd.Timestamp(\"20240425\"),\n",
    "        \"C\":pd.Series(1,index=list(range(4)),dtype=\"float32\"),\n",
    "        \"D\":np.array([3]*4, dtype=\"int32\"),\n",
    "        \"E\":pd.Categorical([\"test\",\"train\",\"test\",\"train\"]),\n",
    "        \"F\":\"Foo\",\n",
    "    }\n",
    ")\n",
    "df2"
   ]
  },
  {
   "cell_type": "code",
   "execution_count": 16,
   "id": "a424f516-8eb2-4f34-9120-48ea0db764b7",
   "metadata": {},
   "outputs": [
    {
     "data": {
      "text/plain": [
       "A          float64\n",
       "B    datetime64[s]\n",
       "C          float32\n",
       "D            int32\n",
       "E         category\n",
       "F           object\n",
       "dtype: object"
      ]
     },
     "execution_count": 16,
     "metadata": {},
     "output_type": "execute_result"
    }
   ],
   "source": [
    "df2.dtypes"
   ]
  },
  {
   "cell_type": "markdown",
   "id": "913a1ce2-2362-47ad-91a9-cc7f5a4410de",
   "metadata": {},
   "source": [
    "## Viewing data"
   ]
  },
  {
   "cell_type": "code",
   "execution_count": 19,
   "id": "067f199a-7c1c-471c-b95d-b247b35eefa3",
   "metadata": {},
   "outputs": [
    {
     "data": {
      "text/html": [
       "<div>\n",
       "<style scoped>\n",
       "    .dataframe tbody tr th:only-of-type {\n",
       "        vertical-align: middle;\n",
       "    }\n",
       "\n",
       "    .dataframe tbody tr th {\n",
       "        vertical-align: top;\n",
       "    }\n",
       "\n",
       "    .dataframe thead th {\n",
       "        text-align: right;\n",
       "    }\n",
       "</style>\n",
       "<table border=\"1\" class=\"dataframe\">\n",
       "  <thead>\n",
       "    <tr style=\"text-align: right;\">\n",
       "      <th></th>\n",
       "      <th>A</th>\n",
       "      <th>B</th>\n",
       "      <th>C</th>\n",
       "      <th>D</th>\n",
       "    </tr>\n",
       "  </thead>\n",
       "  <tbody>\n",
       "    <tr>\n",
       "      <th>2013-01-01</th>\n",
       "      <td>0.161765</td>\n",
       "      <td>-1.326880</td>\n",
       "      <td>2.539908</td>\n",
       "      <td>2.209767</td>\n",
       "    </tr>\n",
       "    <tr>\n",
       "      <th>2013-01-02</th>\n",
       "      <td>-1.316262</td>\n",
       "      <td>0.562353</td>\n",
       "      <td>-0.711617</td>\n",
       "      <td>0.088388</td>\n",
       "    </tr>\n",
       "    <tr>\n",
       "      <th>2013-01-03</th>\n",
       "      <td>0.381568</td>\n",
       "      <td>0.487226</td>\n",
       "      <td>1.768664</td>\n",
       "      <td>-0.311650</td>\n",
       "    </tr>\n",
       "    <tr>\n",
       "      <th>2013-01-04</th>\n",
       "      <td>0.585803</td>\n",
       "      <td>-0.615299</td>\n",
       "      <td>-1.619969</td>\n",
       "      <td>0.244345</td>\n",
       "    </tr>\n",
       "    <tr>\n",
       "      <th>2013-01-05</th>\n",
       "      <td>-0.829749</td>\n",
       "      <td>-0.643868</td>\n",
       "      <td>-0.458280</td>\n",
       "      <td>-0.358616</td>\n",
       "    </tr>\n",
       "  </tbody>\n",
       "</table>\n",
       "</div>"
      ],
      "text/plain": [
       "                   A         B         C         D\n",
       "2013-01-01  0.161765 -1.326880  2.539908  2.209767\n",
       "2013-01-02 -1.316262  0.562353 -0.711617  0.088388\n",
       "2013-01-03  0.381568  0.487226  1.768664 -0.311650\n",
       "2013-01-04  0.585803 -0.615299 -1.619969  0.244345\n",
       "2013-01-05 -0.829749 -0.643868 -0.458280 -0.358616"
      ]
     },
     "execution_count": 19,
     "metadata": {},
     "output_type": "execute_result"
    }
   ],
   "source": [
    "df.head()"
   ]
  },
  {
   "cell_type": "code",
   "execution_count": 20,
   "id": "309a08df-d411-445f-bec0-6050e7f2a632",
   "metadata": {},
   "outputs": [
    {
     "data": {
      "text/html": [
       "<div>\n",
       "<style scoped>\n",
       "    .dataframe tbody tr th:only-of-type {\n",
       "        vertical-align: middle;\n",
       "    }\n",
       "\n",
       "    .dataframe tbody tr th {\n",
       "        vertical-align: top;\n",
       "    }\n",
       "\n",
       "    .dataframe thead th {\n",
       "        text-align: right;\n",
       "    }\n",
       "</style>\n",
       "<table border=\"1\" class=\"dataframe\">\n",
       "  <thead>\n",
       "    <tr style=\"text-align: right;\">\n",
       "      <th></th>\n",
       "      <th>A</th>\n",
       "      <th>B</th>\n",
       "      <th>C</th>\n",
       "      <th>D</th>\n",
       "    </tr>\n",
       "  </thead>\n",
       "  <tbody>\n",
       "    <tr>\n",
       "      <th>2013-01-04</th>\n",
       "      <td>0.585803</td>\n",
       "      <td>-0.615299</td>\n",
       "      <td>-1.619969</td>\n",
       "      <td>0.244345</td>\n",
       "    </tr>\n",
       "    <tr>\n",
       "      <th>2013-01-05</th>\n",
       "      <td>-0.829749</td>\n",
       "      <td>-0.643868</td>\n",
       "      <td>-0.458280</td>\n",
       "      <td>-0.358616</td>\n",
       "    </tr>\n",
       "    <tr>\n",
       "      <th>2013-01-06</th>\n",
       "      <td>0.339891</td>\n",
       "      <td>0.243163</td>\n",
       "      <td>-0.480762</td>\n",
       "      <td>-2.685433</td>\n",
       "    </tr>\n",
       "  </tbody>\n",
       "</table>\n",
       "</div>"
      ],
      "text/plain": [
       "                   A         B         C         D\n",
       "2013-01-04  0.585803 -0.615299 -1.619969  0.244345\n",
       "2013-01-05 -0.829749 -0.643868 -0.458280 -0.358616\n",
       "2013-01-06  0.339891  0.243163 -0.480762 -2.685433"
      ]
     },
     "execution_count": 20,
     "metadata": {},
     "output_type": "execute_result"
    }
   ],
   "source": [
    "df.tail(3)"
   ]
  },
  {
   "cell_type": "code",
   "execution_count": 21,
   "id": "8b185151-2d69-4736-815f-e5f27dffa281",
   "metadata": {},
   "outputs": [
    {
     "data": {
      "text/plain": [
       "DatetimeIndex(['2013-01-01', '2013-01-02', '2013-01-03', '2013-01-04',\n",
       "               '2013-01-05', '2013-01-06'],\n",
       "              dtype='datetime64[ns]', freq='D')"
      ]
     },
     "execution_count": 21,
     "metadata": {},
     "output_type": "execute_result"
    }
   ],
   "source": [
    "df.index"
   ]
  },
  {
   "cell_type": "code",
   "execution_count": 22,
   "id": "413f4196-c073-4098-8d58-61206ba798e2",
   "metadata": {},
   "outputs": [
    {
     "data": {
      "text/plain": [
       "Index(['A', 'B', 'C', 'D'], dtype='object')"
      ]
     },
     "execution_count": 22,
     "metadata": {},
     "output_type": "execute_result"
    }
   ],
   "source": [
    "df.columns"
   ]
  },
  {
   "cell_type": "markdown",
   "id": "0abfc6f4-7cdf-4f8d-ab9b-62c784190b54",
   "metadata": {},
   "source": [
    "Returning a NumPy representation of the underlying data with DataFrame.to_numpy() without the index or column lables"
   ]
  },
  {
   "cell_type": "code",
   "execution_count": 23,
   "id": "92f96daa-ef3b-4fc7-99cb-bef772064ddd",
   "metadata": {},
   "outputs": [
    {
     "data": {
      "text/plain": [
       "array([[ 0.16176478, -1.32687987,  2.53990811,  2.20976682],\n",
       "       [-1.3162622 ,  0.56235284, -0.71161684,  0.08838819],\n",
       "       [ 0.38156823,  0.48722581,  1.76866377, -0.31164976],\n",
       "       [ 0.58580343, -0.61529854, -1.61996907,  0.24434528],\n",
       "       [-0.82974934, -0.64386835, -0.45828037, -0.35861579],\n",
       "       [ 0.33989147,  0.24316275, -0.48076188, -2.6854326 ]])"
      ]
     },
     "execution_count": 23,
     "metadata": {},
     "output_type": "execute_result"
    }
   ],
   "source": [
    "df.to_numpy()"
   ]
  },
  {
   "cell_type": "markdown",
   "id": "2e99db82-9d05-4bd2-af65-19e131e2811d",
   "metadata": {},
   "source": [
    "> NumPy arrays have one dtype for the entire array while pandas DataFrames have one dtype per column"
   ]
  },
  {
   "cell_type": "code",
   "execution_count": 24,
   "id": "224f0138-7ea2-49b0-b703-ebfd4c446256",
   "metadata": {},
   "outputs": [
    {
     "data": {
      "text/html": [
       "<div>\n",
       "<style scoped>\n",
       "    .dataframe tbody tr th:only-of-type {\n",
       "        vertical-align: middle;\n",
       "    }\n",
       "\n",
       "    .dataframe tbody tr th {\n",
       "        vertical-align: top;\n",
       "    }\n",
       "\n",
       "    .dataframe thead th {\n",
       "        text-align: right;\n",
       "    }\n",
       "</style>\n",
       "<table border=\"1\" class=\"dataframe\">\n",
       "  <thead>\n",
       "    <tr style=\"text-align: right;\">\n",
       "      <th></th>\n",
       "      <th>A</th>\n",
       "      <th>B</th>\n",
       "      <th>C</th>\n",
       "      <th>D</th>\n",
       "    </tr>\n",
       "  </thead>\n",
       "  <tbody>\n",
       "    <tr>\n",
       "      <th>count</th>\n",
       "      <td>6.000000</td>\n",
       "      <td>6.000000</td>\n",
       "      <td>6.000000</td>\n",
       "      <td>6.000000</td>\n",
       "    </tr>\n",
       "    <tr>\n",
       "      <th>mean</th>\n",
       "      <td>-0.112831</td>\n",
       "      <td>-0.215551</td>\n",
       "      <td>0.172991</td>\n",
       "      <td>-0.135533</td>\n",
       "    </tr>\n",
       "    <tr>\n",
       "      <th>std</th>\n",
       "      <td>0.771375</td>\n",
       "      <td>0.759968</td>\n",
       "      <td>1.610689</td>\n",
       "      <td>1.567013</td>\n",
       "    </tr>\n",
       "    <tr>\n",
       "      <th>min</th>\n",
       "      <td>-1.316262</td>\n",
       "      <td>-1.326880</td>\n",
       "      <td>-1.619969</td>\n",
       "      <td>-2.685433</td>\n",
       "    </tr>\n",
       "    <tr>\n",
       "      <th>25%</th>\n",
       "      <td>-0.581871</td>\n",
       "      <td>-0.636726</td>\n",
       "      <td>-0.653903</td>\n",
       "      <td>-0.346874</td>\n",
       "    </tr>\n",
       "    <tr>\n",
       "      <th>50%</th>\n",
       "      <td>0.250828</td>\n",
       "      <td>-0.186068</td>\n",
       "      <td>-0.469521</td>\n",
       "      <td>-0.111631</td>\n",
       "    </tr>\n",
       "    <tr>\n",
       "      <th>75%</th>\n",
       "      <td>0.371149</td>\n",
       "      <td>0.426210</td>\n",
       "      <td>1.211928</td>\n",
       "      <td>0.205356</td>\n",
       "    </tr>\n",
       "    <tr>\n",
       "      <th>max</th>\n",
       "      <td>0.585803</td>\n",
       "      <td>0.562353</td>\n",
       "      <td>2.539908</td>\n",
       "      <td>2.209767</td>\n",
       "    </tr>\n",
       "  </tbody>\n",
       "</table>\n",
       "</div>"
      ],
      "text/plain": [
       "              A         B         C         D\n",
       "count  6.000000  6.000000  6.000000  6.000000\n",
       "mean  -0.112831 -0.215551  0.172991 -0.135533\n",
       "std    0.771375  0.759968  1.610689  1.567013\n",
       "min   -1.316262 -1.326880 -1.619969 -2.685433\n",
       "25%   -0.581871 -0.636726 -0.653903 -0.346874\n",
       "50%    0.250828 -0.186068 -0.469521 -0.111631\n",
       "75%    0.371149  0.426210  1.211928  0.205356\n",
       "max    0.585803  0.562353  2.539908  2.209767"
      ]
     },
     "execution_count": 24,
     "metadata": {},
     "output_type": "execute_result"
    }
   ],
   "source": [
    "df.describe()"
   ]
  },
  {
   "cell_type": "code",
   "execution_count": 25,
   "id": "785bb8fc-dbb4-4dab-8bbc-5bec571a5236",
   "metadata": {},
   "outputs": [
    {
     "data": {
      "text/html": [
       "<div>\n",
       "<style scoped>\n",
       "    .dataframe tbody tr th:only-of-type {\n",
       "        vertical-align: middle;\n",
       "    }\n",
       "\n",
       "    .dataframe tbody tr th {\n",
       "        vertical-align: top;\n",
       "    }\n",
       "\n",
       "    .dataframe thead th {\n",
       "        text-align: right;\n",
       "    }\n",
       "</style>\n",
       "<table border=\"1\" class=\"dataframe\">\n",
       "  <thead>\n",
       "    <tr style=\"text-align: right;\">\n",
       "      <th></th>\n",
       "      <th>2013-01-01</th>\n",
       "      <th>2013-01-02</th>\n",
       "      <th>2013-01-03</th>\n",
       "      <th>2013-01-04</th>\n",
       "      <th>2013-01-05</th>\n",
       "      <th>2013-01-06</th>\n",
       "    </tr>\n",
       "  </thead>\n",
       "  <tbody>\n",
       "    <tr>\n",
       "      <th>A</th>\n",
       "      <td>0.161765</td>\n",
       "      <td>-1.316262</td>\n",
       "      <td>0.381568</td>\n",
       "      <td>0.585803</td>\n",
       "      <td>-0.829749</td>\n",
       "      <td>0.339891</td>\n",
       "    </tr>\n",
       "    <tr>\n",
       "      <th>B</th>\n",
       "      <td>-1.326880</td>\n",
       "      <td>0.562353</td>\n",
       "      <td>0.487226</td>\n",
       "      <td>-0.615299</td>\n",
       "      <td>-0.643868</td>\n",
       "      <td>0.243163</td>\n",
       "    </tr>\n",
       "    <tr>\n",
       "      <th>C</th>\n",
       "      <td>2.539908</td>\n",
       "      <td>-0.711617</td>\n",
       "      <td>1.768664</td>\n",
       "      <td>-1.619969</td>\n",
       "      <td>-0.458280</td>\n",
       "      <td>-0.480762</td>\n",
       "    </tr>\n",
       "    <tr>\n",
       "      <th>D</th>\n",
       "      <td>2.209767</td>\n",
       "      <td>0.088388</td>\n",
       "      <td>-0.311650</td>\n",
       "      <td>0.244345</td>\n",
       "      <td>-0.358616</td>\n",
       "      <td>-2.685433</td>\n",
       "    </tr>\n",
       "  </tbody>\n",
       "</table>\n",
       "</div>"
      ],
      "text/plain": [
       "   2013-01-01  2013-01-02  2013-01-03  2013-01-04  2013-01-05  2013-01-06\n",
       "A    0.161765   -1.316262    0.381568    0.585803   -0.829749    0.339891\n",
       "B   -1.326880    0.562353    0.487226   -0.615299   -0.643868    0.243163\n",
       "C    2.539908   -0.711617    1.768664   -1.619969   -0.458280   -0.480762\n",
       "D    2.209767    0.088388   -0.311650    0.244345   -0.358616   -2.685433"
      ]
     },
     "execution_count": 25,
     "metadata": {},
     "output_type": "execute_result"
    }
   ],
   "source": [
    "df.T"
   ]
  },
  {
   "cell_type": "code",
   "execution_count": 27,
   "id": "cfd5c4b9-9971-4b6d-9ab0-d24a37e7645c",
   "metadata": {},
   "outputs": [
    {
     "data": {
      "text/html": [
       "<div>\n",
       "<style scoped>\n",
       "    .dataframe tbody tr th:only-of-type {\n",
       "        vertical-align: middle;\n",
       "    }\n",
       "\n",
       "    .dataframe tbody tr th {\n",
       "        vertical-align: top;\n",
       "    }\n",
       "\n",
       "    .dataframe thead th {\n",
       "        text-align: right;\n",
       "    }\n",
       "</style>\n",
       "<table border=\"1\" class=\"dataframe\">\n",
       "  <thead>\n",
       "    <tr style=\"text-align: right;\">\n",
       "      <th></th>\n",
       "      <th>D</th>\n",
       "      <th>C</th>\n",
       "      <th>B</th>\n",
       "      <th>A</th>\n",
       "    </tr>\n",
       "  </thead>\n",
       "  <tbody>\n",
       "    <tr>\n",
       "      <th>2013-01-01</th>\n",
       "      <td>2.209767</td>\n",
       "      <td>2.539908</td>\n",
       "      <td>-1.326880</td>\n",
       "      <td>0.161765</td>\n",
       "    </tr>\n",
       "    <tr>\n",
       "      <th>2013-01-02</th>\n",
       "      <td>0.088388</td>\n",
       "      <td>-0.711617</td>\n",
       "      <td>0.562353</td>\n",
       "      <td>-1.316262</td>\n",
       "    </tr>\n",
       "    <tr>\n",
       "      <th>2013-01-03</th>\n",
       "      <td>-0.311650</td>\n",
       "      <td>1.768664</td>\n",
       "      <td>0.487226</td>\n",
       "      <td>0.381568</td>\n",
       "    </tr>\n",
       "    <tr>\n",
       "      <th>2013-01-04</th>\n",
       "      <td>0.244345</td>\n",
       "      <td>-1.619969</td>\n",
       "      <td>-0.615299</td>\n",
       "      <td>0.585803</td>\n",
       "    </tr>\n",
       "    <tr>\n",
       "      <th>2013-01-05</th>\n",
       "      <td>-0.358616</td>\n",
       "      <td>-0.458280</td>\n",
       "      <td>-0.643868</td>\n",
       "      <td>-0.829749</td>\n",
       "    </tr>\n",
       "    <tr>\n",
       "      <th>2013-01-06</th>\n",
       "      <td>-2.685433</td>\n",
       "      <td>-0.480762</td>\n",
       "      <td>0.243163</td>\n",
       "      <td>0.339891</td>\n",
       "    </tr>\n",
       "  </tbody>\n",
       "</table>\n",
       "</div>"
      ],
      "text/plain": [
       "                   D         C         B         A\n",
       "2013-01-01  2.209767  2.539908 -1.326880  0.161765\n",
       "2013-01-02  0.088388 -0.711617  0.562353 -1.316262\n",
       "2013-01-03 -0.311650  1.768664  0.487226  0.381568\n",
       "2013-01-04  0.244345 -1.619969 -0.615299  0.585803\n",
       "2013-01-05 -0.358616 -0.458280 -0.643868 -0.829749\n",
       "2013-01-06 -2.685433 -0.480762  0.243163  0.339891"
      ]
     },
     "execution_count": 27,
     "metadata": {},
     "output_type": "execute_result"
    }
   ],
   "source": [
    "df.sort_index(axis=1, ascending=False)"
   ]
  },
  {
   "cell_type": "code",
   "execution_count": 28,
   "id": "9facd1db-af12-416f-8bdb-8bc0ff09014d",
   "metadata": {},
   "outputs": [
    {
     "data": {
      "text/html": [
       "<div>\n",
       "<style scoped>\n",
       "    .dataframe tbody tr th:only-of-type {\n",
       "        vertical-align: middle;\n",
       "    }\n",
       "\n",
       "    .dataframe tbody tr th {\n",
       "        vertical-align: top;\n",
       "    }\n",
       "\n",
       "    .dataframe thead th {\n",
       "        text-align: right;\n",
       "    }\n",
       "</style>\n",
       "<table border=\"1\" class=\"dataframe\">\n",
       "  <thead>\n",
       "    <tr style=\"text-align: right;\">\n",
       "      <th></th>\n",
       "      <th>A</th>\n",
       "      <th>B</th>\n",
       "      <th>C</th>\n",
       "      <th>D</th>\n",
       "    </tr>\n",
       "  </thead>\n",
       "  <tbody>\n",
       "    <tr>\n",
       "      <th>2013-01-01</th>\n",
       "      <td>0.161765</td>\n",
       "      <td>-1.326880</td>\n",
       "      <td>2.539908</td>\n",
       "      <td>2.209767</td>\n",
       "    </tr>\n",
       "    <tr>\n",
       "      <th>2013-01-05</th>\n",
       "      <td>-0.829749</td>\n",
       "      <td>-0.643868</td>\n",
       "      <td>-0.458280</td>\n",
       "      <td>-0.358616</td>\n",
       "    </tr>\n",
       "    <tr>\n",
       "      <th>2013-01-04</th>\n",
       "      <td>0.585803</td>\n",
       "      <td>-0.615299</td>\n",
       "      <td>-1.619969</td>\n",
       "      <td>0.244345</td>\n",
       "    </tr>\n",
       "    <tr>\n",
       "      <th>2013-01-06</th>\n",
       "      <td>0.339891</td>\n",
       "      <td>0.243163</td>\n",
       "      <td>-0.480762</td>\n",
       "      <td>-2.685433</td>\n",
       "    </tr>\n",
       "    <tr>\n",
       "      <th>2013-01-03</th>\n",
       "      <td>0.381568</td>\n",
       "      <td>0.487226</td>\n",
       "      <td>1.768664</td>\n",
       "      <td>-0.311650</td>\n",
       "    </tr>\n",
       "    <tr>\n",
       "      <th>2013-01-02</th>\n",
       "      <td>-1.316262</td>\n",
       "      <td>0.562353</td>\n",
       "      <td>-0.711617</td>\n",
       "      <td>0.088388</td>\n",
       "    </tr>\n",
       "  </tbody>\n",
       "</table>\n",
       "</div>"
      ],
      "text/plain": [
       "                   A         B         C         D\n",
       "2013-01-01  0.161765 -1.326880  2.539908  2.209767\n",
       "2013-01-05 -0.829749 -0.643868 -0.458280 -0.358616\n",
       "2013-01-04  0.585803 -0.615299 -1.619969  0.244345\n",
       "2013-01-06  0.339891  0.243163 -0.480762 -2.685433\n",
       "2013-01-03  0.381568  0.487226  1.768664 -0.311650\n",
       "2013-01-02 -1.316262  0.562353 -0.711617  0.088388"
      ]
     },
     "execution_count": 28,
     "metadata": {},
     "output_type": "execute_result"
    }
   ],
   "source": [
    "df.sort_values(by=\"B\")"
   ]
  },
  {
   "cell_type": "markdown",
   "id": "975f2801-b2f0-4ef2-8872-88bd50689198",
   "metadata": {},
   "source": [
    "## Selection"
   ]
  },
  {
   "cell_type": "code",
   "execution_count": 30,
   "id": "03d6f887-b417-4c03-8d4e-8c2c442e8184",
   "metadata": {},
   "outputs": [
    {
     "data": {
      "text/html": [
       "<div>\n",
       "<style scoped>\n",
       "    .dataframe tbody tr th:only-of-type {\n",
       "        vertical-align: middle;\n",
       "    }\n",
       "\n",
       "    .dataframe tbody tr th {\n",
       "        vertical-align: top;\n",
       "    }\n",
       "\n",
       "    .dataframe thead th {\n",
       "        text-align: right;\n",
       "    }\n",
       "</style>\n",
       "<table border=\"1\" class=\"dataframe\">\n",
       "  <thead>\n",
       "    <tr style=\"text-align: right;\">\n",
       "      <th></th>\n",
       "      <th>A</th>\n",
       "      <th>B</th>\n",
       "      <th>C</th>\n",
       "      <th>D</th>\n",
       "    </tr>\n",
       "  </thead>\n",
       "  <tbody>\n",
       "    <tr>\n",
       "      <th>2024-04-25</th>\n",
       "      <td>-0.662813</td>\n",
       "      <td>-1.342248</td>\n",
       "      <td>0.750647</td>\n",
       "      <td>0.005331</td>\n",
       "    </tr>\n",
       "    <tr>\n",
       "      <th>2024-04-26</th>\n",
       "      <td>1.147856</td>\n",
       "      <td>-0.715609</td>\n",
       "      <td>-1.168268</td>\n",
       "      <td>1.103450</td>\n",
       "    </tr>\n",
       "    <tr>\n",
       "      <th>2024-04-27</th>\n",
       "      <td>0.166122</td>\n",
       "      <td>0.814895</td>\n",
       "      <td>0.913475</td>\n",
       "      <td>0.366533</td>\n",
       "    </tr>\n",
       "    <tr>\n",
       "      <th>2024-04-28</th>\n",
       "      <td>0.268073</td>\n",
       "      <td>-0.237913</td>\n",
       "      <td>2.013493</td>\n",
       "      <td>1.473262</td>\n",
       "    </tr>\n",
       "    <tr>\n",
       "      <th>2024-04-29</th>\n",
       "      <td>0.068212</td>\n",
       "      <td>0.182322</td>\n",
       "      <td>-1.181531</td>\n",
       "      <td>0.106862</td>\n",
       "    </tr>\n",
       "    <tr>\n",
       "      <th>2024-04-30</th>\n",
       "      <td>-1.313268</td>\n",
       "      <td>-0.286796</td>\n",
       "      <td>-0.196895</td>\n",
       "      <td>0.668111</td>\n",
       "    </tr>\n",
       "    <tr>\n",
       "      <th>2024-05-01</th>\n",
       "      <td>0.428023</td>\n",
       "      <td>-1.021844</td>\n",
       "      <td>0.693954</td>\n",
       "      <td>1.795149</td>\n",
       "    </tr>\n",
       "    <tr>\n",
       "      <th>2024-05-02</th>\n",
       "      <td>-0.613339</td>\n",
       "      <td>-0.381671</td>\n",
       "      <td>-1.349159</td>\n",
       "      <td>-0.861489</td>\n",
       "    </tr>\n",
       "    <tr>\n",
       "      <th>2024-05-03</th>\n",
       "      <td>-0.403755</td>\n",
       "      <td>1.944388</td>\n",
       "      <td>-0.008802</td>\n",
       "      <td>-0.630834</td>\n",
       "    </tr>\n",
       "    <tr>\n",
       "      <th>2024-05-04</th>\n",
       "      <td>-0.656848</td>\n",
       "      <td>-0.392350</td>\n",
       "      <td>0.239856</td>\n",
       "      <td>1.237207</td>\n",
       "    </tr>\n",
       "  </tbody>\n",
       "</table>\n",
       "</div>"
      ],
      "text/plain": [
       "                   A         B         C         D\n",
       "2024-04-25 -0.662813 -1.342248  0.750647  0.005331\n",
       "2024-04-26  1.147856 -0.715609 -1.168268  1.103450\n",
       "2024-04-27  0.166122  0.814895  0.913475  0.366533\n",
       "2024-04-28  0.268073 -0.237913  2.013493  1.473262\n",
       "2024-04-29  0.068212  0.182322 -1.181531  0.106862\n",
       "2024-04-30 -1.313268 -0.286796 -0.196895  0.668111\n",
       "2024-05-01  0.428023 -1.021844  0.693954  1.795149\n",
       "2024-05-02 -0.613339 -0.381671 -1.349159 -0.861489\n",
       "2024-05-03 -0.403755  1.944388 -0.008802 -0.630834\n",
       "2024-05-04 -0.656848 -0.392350  0.239856  1.237207"
      ]
     },
     "execution_count": 30,
     "metadata": {},
     "output_type": "execute_result"
    }
   ],
   "source": [
    "dates=pd.date_range(\"2024/4/25\", periods=10)\n",
    "df=pd.DataFrame(np.random.randn(10,4),\n",
    "                index=dates,columns=[\"A\",\"B\",\"C\",\"D\"])\n",
    "df"
   ]
  },
  {
   "cell_type": "code",
   "execution_count": 31,
   "id": "79001efb-be7f-41bd-8590-0f23f7a628b0",
   "metadata": {},
   "outputs": [
    {
     "data": {
      "text/plain": [
       "-1.313267673857093"
      ]
     },
     "execution_count": 31,
     "metadata": {},
     "output_type": "execute_result"
    }
   ],
   "source": [
    "s=df[\"A\"]\n",
    "s[dates[5]]"
   ]
  },
  {
   "cell_type": "markdown",
   "id": "50ebcfe5-25e3-4c63-ab71-d109755b59ce",
   "metadata": {},
   "source": [
    "### We can pass a list of columns to square bracket to select columns in that order."
   ]
  },
  {
   "cell_type": "code",
   "execution_count": 32,
   "id": "e52c31e4-1768-4257-873d-d47c07d12121",
   "metadata": {},
   "outputs": [],
   "source": [
    "df[[\"B\",\"A\"]]=df[[\"A\",\"B\"]]"
   ]
  },
  {
   "cell_type": "code",
   "execution_count": 33,
   "id": "15c6ff2f-66de-4316-b910-9864a80c0d1e",
   "metadata": {},
   "outputs": [
    {
     "data": {
      "text/html": [
       "<div>\n",
       "<style scoped>\n",
       "    .dataframe tbody tr th:only-of-type {\n",
       "        vertical-align: middle;\n",
       "    }\n",
       "\n",
       "    .dataframe tbody tr th {\n",
       "        vertical-align: top;\n",
       "    }\n",
       "\n",
       "    .dataframe thead th {\n",
       "        text-align: right;\n",
       "    }\n",
       "</style>\n",
       "<table border=\"1\" class=\"dataframe\">\n",
       "  <thead>\n",
       "    <tr style=\"text-align: right;\">\n",
       "      <th></th>\n",
       "      <th>A</th>\n",
       "      <th>B</th>\n",
       "      <th>C</th>\n",
       "      <th>D</th>\n",
       "    </tr>\n",
       "  </thead>\n",
       "  <tbody>\n",
       "    <tr>\n",
       "      <th>2024-04-25</th>\n",
       "      <td>-1.342248</td>\n",
       "      <td>-0.662813</td>\n",
       "      <td>0.750647</td>\n",
       "      <td>0.005331</td>\n",
       "    </tr>\n",
       "    <tr>\n",
       "      <th>2024-04-26</th>\n",
       "      <td>-0.715609</td>\n",
       "      <td>1.147856</td>\n",
       "      <td>-1.168268</td>\n",
       "      <td>1.103450</td>\n",
       "    </tr>\n",
       "    <tr>\n",
       "      <th>2024-04-27</th>\n",
       "      <td>0.814895</td>\n",
       "      <td>0.166122</td>\n",
       "      <td>0.913475</td>\n",
       "      <td>0.366533</td>\n",
       "    </tr>\n",
       "    <tr>\n",
       "      <th>2024-04-28</th>\n",
       "      <td>-0.237913</td>\n",
       "      <td>0.268073</td>\n",
       "      <td>2.013493</td>\n",
       "      <td>1.473262</td>\n",
       "    </tr>\n",
       "    <tr>\n",
       "      <th>2024-04-29</th>\n",
       "      <td>0.182322</td>\n",
       "      <td>0.068212</td>\n",
       "      <td>-1.181531</td>\n",
       "      <td>0.106862</td>\n",
       "    </tr>\n",
       "    <tr>\n",
       "      <th>2024-04-30</th>\n",
       "      <td>-0.286796</td>\n",
       "      <td>-1.313268</td>\n",
       "      <td>-0.196895</td>\n",
       "      <td>0.668111</td>\n",
       "    </tr>\n",
       "    <tr>\n",
       "      <th>2024-05-01</th>\n",
       "      <td>-1.021844</td>\n",
       "      <td>0.428023</td>\n",
       "      <td>0.693954</td>\n",
       "      <td>1.795149</td>\n",
       "    </tr>\n",
       "    <tr>\n",
       "      <th>2024-05-02</th>\n",
       "      <td>-0.381671</td>\n",
       "      <td>-0.613339</td>\n",
       "      <td>-1.349159</td>\n",
       "      <td>-0.861489</td>\n",
       "    </tr>\n",
       "    <tr>\n",
       "      <th>2024-05-03</th>\n",
       "      <td>1.944388</td>\n",
       "      <td>-0.403755</td>\n",
       "      <td>-0.008802</td>\n",
       "      <td>-0.630834</td>\n",
       "    </tr>\n",
       "    <tr>\n",
       "      <th>2024-05-04</th>\n",
       "      <td>-0.392350</td>\n",
       "      <td>-0.656848</td>\n",
       "      <td>0.239856</td>\n",
       "      <td>1.237207</td>\n",
       "    </tr>\n",
       "  </tbody>\n",
       "</table>\n",
       "</div>"
      ],
      "text/plain": [
       "                   A         B         C         D\n",
       "2024-04-25 -1.342248 -0.662813  0.750647  0.005331\n",
       "2024-04-26 -0.715609  1.147856 -1.168268  1.103450\n",
       "2024-04-27  0.814895  0.166122  0.913475  0.366533\n",
       "2024-04-28 -0.237913  0.268073  2.013493  1.473262\n",
       "2024-04-29  0.182322  0.068212 -1.181531  0.106862\n",
       "2024-04-30 -0.286796 -1.313268 -0.196895  0.668111\n",
       "2024-05-01 -1.021844  0.428023  0.693954  1.795149\n",
       "2024-05-02 -0.381671 -0.613339 -1.349159 -0.861489\n",
       "2024-05-03  1.944388 -0.403755 -0.008802 -0.630834\n",
       "2024-05-04 -0.392350 -0.656848  0.239856  1.237207"
      ]
     },
     "execution_count": 33,
     "metadata": {},
     "output_type": "execute_result"
    }
   ],
   "source": [
    "df"
   ]
  },
  {
   "cell_type": "markdown",
   "id": "a7c0795f-0ab9-49cc-92d7-90a00b372f16",
   "metadata": {},
   "source": [
    "### Attribute access"
   ]
  },
  {
   "cell_type": "code",
   "execution_count": 34,
   "id": "6baf750d-239e-4fa3-ba88-7ab17890bb08",
   "metadata": {},
   "outputs": [],
   "source": [
    "sa=pd.Series([1,2,3],index=list(\"abc\"))\n",
    "dfa=df.copy()"
   ]
  },
  {
   "cell_type": "code",
   "execution_count": 35,
   "id": "6f06e09d-a957-4c25-89ed-225109ee82fa",
   "metadata": {},
   "outputs": [
    {
     "data": {
      "text/plain": [
       "2"
      ]
     },
     "execution_count": 35,
     "metadata": {},
     "output_type": "execute_result"
    }
   ],
   "source": [
    "sa.b"
   ]
  },
  {
   "cell_type": "code",
   "execution_count": 36,
   "id": "82d592a1-36b2-43a7-82b2-5c95941f1e30",
   "metadata": {},
   "outputs": [
    {
     "data": {
      "text/plain": [
       "2024-04-25   -1.342248\n",
       "2024-04-26   -0.715609\n",
       "2024-04-27    0.814895\n",
       "2024-04-28   -0.237913\n",
       "2024-04-29    0.182322\n",
       "2024-04-30   -0.286796\n",
       "2024-05-01   -1.021844\n",
       "2024-05-02   -0.381671\n",
       "2024-05-03    1.944388\n",
       "2024-05-04   -0.392350\n",
       "Freq: D, Name: A, dtype: float64"
      ]
     },
     "execution_count": 36,
     "metadata": {},
     "output_type": "execute_result"
    }
   ],
   "source": [
    "dfa.A"
   ]
  },
  {
   "cell_type": "code",
   "execution_count": 37,
   "id": "f6fcc231-ecae-46ef-8070-241817667ee1",
   "metadata": {},
   "outputs": [],
   "source": [
    "sa.a=5"
   ]
  },
  {
   "cell_type": "code",
   "execution_count": 38,
   "id": "4fcd1380-32a5-461e-92dc-b69fcb0f86ef",
   "metadata": {},
   "outputs": [
    {
     "data": {
      "text/plain": [
       "a    5\n",
       "b    2\n",
       "c    3\n",
       "dtype: int64"
      ]
     },
     "execution_count": 38,
     "metadata": {},
     "output_type": "execute_result"
    }
   ],
   "source": [
    "sa"
   ]
  },
  {
   "cell_type": "code",
   "execution_count": 41,
   "id": "5faaffd5-7227-4585-9f4d-9ce0a22559ac",
   "metadata": {},
   "outputs": [
    {
     "data": {
      "text/html": [
       "<div>\n",
       "<style scoped>\n",
       "    .dataframe tbody tr th:only-of-type {\n",
       "        vertical-align: middle;\n",
       "    }\n",
       "\n",
       "    .dataframe tbody tr th {\n",
       "        vertical-align: top;\n",
       "    }\n",
       "\n",
       "    .dataframe thead th {\n",
       "        text-align: right;\n",
       "    }\n",
       "</style>\n",
       "<table border=\"1\" class=\"dataframe\">\n",
       "  <thead>\n",
       "    <tr style=\"text-align: right;\">\n",
       "      <th></th>\n",
       "      <th>A</th>\n",
       "      <th>B</th>\n",
       "      <th>C</th>\n",
       "      <th>D</th>\n",
       "    </tr>\n",
       "  </thead>\n",
       "  <tbody>\n",
       "    <tr>\n",
       "      <th>2024-04-25</th>\n",
       "      <td>0</td>\n",
       "      <td>-0.662813</td>\n",
       "      <td>0.750647</td>\n",
       "      <td>0.005331</td>\n",
       "    </tr>\n",
       "    <tr>\n",
       "      <th>2024-04-26</th>\n",
       "      <td>1</td>\n",
       "      <td>1.147856</td>\n",
       "      <td>-1.168268</td>\n",
       "      <td>1.103450</td>\n",
       "    </tr>\n",
       "    <tr>\n",
       "      <th>2024-04-27</th>\n",
       "      <td>2</td>\n",
       "      <td>0.166122</td>\n",
       "      <td>0.913475</td>\n",
       "      <td>0.366533</td>\n",
       "    </tr>\n",
       "    <tr>\n",
       "      <th>2024-04-28</th>\n",
       "      <td>3</td>\n",
       "      <td>0.268073</td>\n",
       "      <td>2.013493</td>\n",
       "      <td>1.473262</td>\n",
       "    </tr>\n",
       "    <tr>\n",
       "      <th>2024-04-29</th>\n",
       "      <td>4</td>\n",
       "      <td>0.068212</td>\n",
       "      <td>-1.181531</td>\n",
       "      <td>0.106862</td>\n",
       "    </tr>\n",
       "    <tr>\n",
       "      <th>2024-04-30</th>\n",
       "      <td>5</td>\n",
       "      <td>-1.313268</td>\n",
       "      <td>-0.196895</td>\n",
       "      <td>0.668111</td>\n",
       "    </tr>\n",
       "    <tr>\n",
       "      <th>2024-05-01</th>\n",
       "      <td>6</td>\n",
       "      <td>0.428023</td>\n",
       "      <td>0.693954</td>\n",
       "      <td>1.795149</td>\n",
       "    </tr>\n",
       "    <tr>\n",
       "      <th>2024-05-02</th>\n",
       "      <td>7</td>\n",
       "      <td>-0.613339</td>\n",
       "      <td>-1.349159</td>\n",
       "      <td>-0.861489</td>\n",
       "    </tr>\n",
       "    <tr>\n",
       "      <th>2024-05-03</th>\n",
       "      <td>8</td>\n",
       "      <td>-0.403755</td>\n",
       "      <td>-0.008802</td>\n",
       "      <td>-0.630834</td>\n",
       "    </tr>\n",
       "    <tr>\n",
       "      <th>2024-05-04</th>\n",
       "      <td>9</td>\n",
       "      <td>-0.656848</td>\n",
       "      <td>0.239856</td>\n",
       "      <td>1.237207</td>\n",
       "    </tr>\n",
       "  </tbody>\n",
       "</table>\n",
       "</div>"
      ],
      "text/plain": [
       "            A         B         C         D\n",
       "2024-04-25  0 -0.662813  0.750647  0.005331\n",
       "2024-04-26  1  1.147856 -1.168268  1.103450\n",
       "2024-04-27  2  0.166122  0.913475  0.366533\n",
       "2024-04-28  3  0.268073  2.013493  1.473262\n",
       "2024-04-29  4  0.068212 -1.181531  0.106862\n",
       "2024-04-30  5 -1.313268 -0.196895  0.668111\n",
       "2024-05-01  6  0.428023  0.693954  1.795149\n",
       "2024-05-02  7 -0.613339 -1.349159 -0.861489\n",
       "2024-05-03  8 -0.403755 -0.008802 -0.630834\n",
       "2024-05-04  9 -0.656848  0.239856  1.237207"
      ]
     },
     "execution_count": 41,
     "metadata": {},
     "output_type": "execute_result"
    }
   ],
   "source": [
    "dfa.A=list(range(len(dfa.index)))\n",
    "dfa"
   ]
  },
  {
   "cell_type": "code",
   "execution_count": 42,
   "id": "eaee99e9-329e-4a5e-a6a1-8f3550c35492",
   "metadata": {},
   "outputs": [
    {
     "data": {
      "text/html": [
       "<div>\n",
       "<style scoped>\n",
       "    .dataframe tbody tr th:only-of-type {\n",
       "        vertical-align: middle;\n",
       "    }\n",
       "\n",
       "    .dataframe tbody tr th {\n",
       "        vertical-align: top;\n",
       "    }\n",
       "\n",
       "    .dataframe thead th {\n",
       "        text-align: right;\n",
       "    }\n",
       "</style>\n",
       "<table border=\"1\" class=\"dataframe\">\n",
       "  <thead>\n",
       "    <tr style=\"text-align: right;\">\n",
       "      <th></th>\n",
       "      <th>A</th>\n",
       "      <th>B</th>\n",
       "      <th>C</th>\n",
       "      <th>D</th>\n",
       "    </tr>\n",
       "  </thead>\n",
       "  <tbody>\n",
       "    <tr>\n",
       "      <th>2024-04-25</th>\n",
       "      <td>0</td>\n",
       "      <td>-0.662813</td>\n",
       "      <td>0.750647</td>\n",
       "      <td>0.005331</td>\n",
       "    </tr>\n",
       "    <tr>\n",
       "      <th>2024-04-26</th>\n",
       "      <td>1</td>\n",
       "      <td>1.147856</td>\n",
       "      <td>-1.168268</td>\n",
       "      <td>1.103450</td>\n",
       "    </tr>\n",
       "    <tr>\n",
       "      <th>2024-04-27</th>\n",
       "      <td>2</td>\n",
       "      <td>0.166122</td>\n",
       "      <td>0.913475</td>\n",
       "      <td>0.366533</td>\n",
       "    </tr>\n",
       "    <tr>\n",
       "      <th>2024-04-28</th>\n",
       "      <td>3</td>\n",
       "      <td>0.268073</td>\n",
       "      <td>2.013493</td>\n",
       "      <td>1.473262</td>\n",
       "    </tr>\n",
       "    <tr>\n",
       "      <th>2024-04-29</th>\n",
       "      <td>4</td>\n",
       "      <td>0.068212</td>\n",
       "      <td>-1.181531</td>\n",
       "      <td>0.106862</td>\n",
       "    </tr>\n",
       "    <tr>\n",
       "      <th>2024-04-30</th>\n",
       "      <td>5</td>\n",
       "      <td>-1.313268</td>\n",
       "      <td>-0.196895</td>\n",
       "      <td>0.668111</td>\n",
       "    </tr>\n",
       "    <tr>\n",
       "      <th>2024-05-01</th>\n",
       "      <td>6</td>\n",
       "      <td>0.428023</td>\n",
       "      <td>0.693954</td>\n",
       "      <td>1.795149</td>\n",
       "    </tr>\n",
       "    <tr>\n",
       "      <th>2024-05-02</th>\n",
       "      <td>7</td>\n",
       "      <td>-0.613339</td>\n",
       "      <td>-1.349159</td>\n",
       "      <td>-0.861489</td>\n",
       "    </tr>\n",
       "    <tr>\n",
       "      <th>2024-05-03</th>\n",
       "      <td>8</td>\n",
       "      <td>-0.403755</td>\n",
       "      <td>-0.008802</td>\n",
       "      <td>-0.630834</td>\n",
       "    </tr>\n",
       "    <tr>\n",
       "      <th>2024-05-04</th>\n",
       "      <td>9</td>\n",
       "      <td>-0.656848</td>\n",
       "      <td>0.239856</td>\n",
       "      <td>1.237207</td>\n",
       "    </tr>\n",
       "  </tbody>\n",
       "</table>\n",
       "</div>"
      ],
      "text/plain": [
       "            A         B         C         D\n",
       "2024-04-25  0 -0.662813  0.750647  0.005331\n",
       "2024-04-26  1  1.147856 -1.168268  1.103450\n",
       "2024-04-27  2  0.166122  0.913475  0.366533\n",
       "2024-04-28  3  0.268073  2.013493  1.473262\n",
       "2024-04-29  4  0.068212 -1.181531  0.106862\n",
       "2024-04-30  5 -1.313268 -0.196895  0.668111\n",
       "2024-05-01  6  0.428023  0.693954  1.795149\n",
       "2024-05-02  7 -0.613339 -1.349159 -0.861489\n",
       "2024-05-03  8 -0.403755 -0.008802 -0.630834\n",
       "2024-05-04  9 -0.656848  0.239856  1.237207"
      ]
     },
     "execution_count": 42,
     "metadata": {},
     "output_type": "execute_result"
    }
   ],
   "source": [
    "dfa[\"A\"]=list(range(len(dfa.index))) # Creating a new column\n",
    "dfa"
   ]
  },
  {
   "cell_type": "markdown",
   "id": "0ab2c776-07de-4229-8c95-16a43e676319",
   "metadata": {},
   "source": [
    "If you are using IPython environment, you may also use tab-completion to see those accesible attributes."
   ]
  },
  {
   "cell_type": "code",
   "execution_count": 43,
   "id": "f91f4810-a7ce-40fe-8a71-35409466bc0f",
   "metadata": {},
   "outputs": [
    {
     "data": {
      "text/html": [
       "<div>\n",
       "<style scoped>\n",
       "    .dataframe tbody tr th:only-of-type {\n",
       "        vertical-align: middle;\n",
       "    }\n",
       "\n",
       "    .dataframe tbody tr th {\n",
       "        vertical-align: top;\n",
       "    }\n",
       "\n",
       "    .dataframe thead th {\n",
       "        text-align: right;\n",
       "    }\n",
       "</style>\n",
       "<table border=\"1\" class=\"dataframe\">\n",
       "  <thead>\n",
       "    <tr style=\"text-align: right;\">\n",
       "      <th></th>\n",
       "      <th>x</th>\n",
       "      <th>y</th>\n",
       "    </tr>\n",
       "  </thead>\n",
       "  <tbody>\n",
       "    <tr>\n",
       "      <th>0</th>\n",
       "      <td>1</td>\n",
       "      <td>3</td>\n",
       "    </tr>\n",
       "    <tr>\n",
       "      <th>1</th>\n",
       "      <td>9</td>\n",
       "      <td>99</td>\n",
       "    </tr>\n",
       "    <tr>\n",
       "      <th>2</th>\n",
       "      <td>3</td>\n",
       "      <td>5</td>\n",
       "    </tr>\n",
       "  </tbody>\n",
       "</table>\n",
       "</div>"
      ],
      "text/plain": [
       "   x   y\n",
       "0  1   3\n",
       "1  9  99\n",
       "2  3   5"
      ]
     },
     "execution_count": 43,
     "metadata": {},
     "output_type": "execute_result"
    }
   ],
   "source": [
    "x=pd.DataFrame(\n",
    "    {\n",
    "        \"x\":[1,2,3],\n",
    "        \"y\":[3,4,5],\n",
    "    }\n",
    ")\n",
    "x.iloc[1]={\n",
    "    \"x\":9,\n",
    "    \"y\":99\n",
    "}\n",
    "x\n",
    "     "
   ]
  },
  {
   "cell_type": "markdown",
   "id": "929fcb47-3b5d-48ad-916a-4d5bf9baf9a3",
   "metadata": {},
   "source": [
    "If you try to use attribute access to create a new column, it creates a new attribute rather than a new column and will this raise a \"UserWarning\"."
   ]
  },
  {
   "cell_type": "code",
   "execution_count": 44,
   "id": "0fcc8a89-cf2a-4bd3-8b31-12e1c9d6379f",
   "metadata": {},
   "outputs": [
    {
     "name": "stderr",
     "output_type": "stream",
     "text": [
      "C:\\Users\\user\\AppData\\Local\\Temp\\ipykernel_15904\\1735232183.py:6: UserWarning: Pandas doesn't allow columns to be created via a new attribute name - see https://pandas.pydata.org/pandas-docs/stable/indexing.html#attribute-access\n",
      "  df_new.two=[4,5,6]\n"
     ]
    },
    {
     "data": {
      "text/html": [
       "<div>\n",
       "<style scoped>\n",
       "    .dataframe tbody tr th:only-of-type {\n",
       "        vertical-align: middle;\n",
       "    }\n",
       "\n",
       "    .dataframe tbody tr th {\n",
       "        vertical-align: top;\n",
       "    }\n",
       "\n",
       "    .dataframe thead th {\n",
       "        text-align: right;\n",
       "    }\n",
       "</style>\n",
       "<table border=\"1\" class=\"dataframe\">\n",
       "  <thead>\n",
       "    <tr style=\"text-align: right;\">\n",
       "      <th></th>\n",
       "      <th>one</th>\n",
       "    </tr>\n",
       "  </thead>\n",
       "  <tbody>\n",
       "    <tr>\n",
       "      <th>0</th>\n",
       "      <td>1.0</td>\n",
       "    </tr>\n",
       "    <tr>\n",
       "      <th>1</th>\n",
       "      <td>2.0</td>\n",
       "    </tr>\n",
       "    <tr>\n",
       "      <th>2</th>\n",
       "      <td>3.0</td>\n",
       "    </tr>\n",
       "  </tbody>\n",
       "</table>\n",
       "</div>"
      ],
      "text/plain": [
       "   one\n",
       "0  1.0\n",
       "1  2.0\n",
       "2  3.0"
      ]
     },
     "execution_count": 44,
     "metadata": {},
     "output_type": "execute_result"
    }
   ],
   "source": [
    "df_new=pd.DataFrame(\n",
    "    {\n",
    "        \"one\":[1.,2.,3.]\n",
    "    }\n",
    ")\n",
    "df_new.two=[4,5,6]\n",
    "df_new"
   ]
  },
  {
   "cell_type": "markdown",
   "id": "4d449115-7853-4723-938d-6aa17ee28e7c",
   "metadata": {},
   "source": [
    "### Slicing ranges"
   ]
  },
  {
   "cell_type": "code",
   "execution_count": 45,
   "id": "385abe7f-1bbf-438d-b63a-3d935234d0a4",
   "metadata": {},
   "outputs": [
    {
     "data": {
      "text/plain": [
       "2024-04-25   -0.662813\n",
       "2024-04-26    1.147856\n",
       "2024-04-27    0.166122\n",
       "2024-04-28    0.268073\n",
       "2024-04-29    0.068212\n",
       "Freq: D, Name: A, dtype: float64"
      ]
     },
     "execution_count": 45,
     "metadata": {},
     "output_type": "execute_result"
    }
   ],
   "source": [
    "s[:5]"
   ]
  },
  {
   "cell_type": "code",
   "execution_count": 46,
   "id": "f16d7a99-a47d-4695-aa2f-95d16c6b86cd",
   "metadata": {},
   "outputs": [
    {
     "data": {
      "text/plain": [
       "2024-04-25   -0.662813\n",
       "2024-04-27    0.166122\n",
       "2024-04-29    0.068212\n",
       "2024-05-01    0.428023\n",
       "2024-05-03   -0.403755\n",
       "Freq: 2D, Name: A, dtype: float64"
      ]
     },
     "execution_count": 46,
     "metadata": {},
     "output_type": "execute_result"
    }
   ],
   "source": [
    "s[::2]"
   ]
  },
  {
   "cell_type": "code",
   "execution_count": 47,
   "id": "b4ae7f16-5a64-4d8e-b2e2-76f55f1e127d",
   "metadata": {},
   "outputs": [
    {
     "data": {
      "text/plain": [
       "2024-05-04   -0.656848\n",
       "2024-05-03   -0.403755\n",
       "2024-05-02   -0.613339\n",
       "2024-05-01    0.428023\n",
       "2024-04-30   -1.313268\n",
       "2024-04-29    0.068212\n",
       "2024-04-28    0.268073\n",
       "2024-04-27    0.166122\n",
       "2024-04-26    1.147856\n",
       "2024-04-25   -0.662813\n",
       "Freq: -1D, Name: A, dtype: float64"
      ]
     },
     "execution_count": 47,
     "metadata": {},
     "output_type": "execute_result"
    }
   ],
   "source": [
    "s[::-1]"
   ]
  },
  {
   "cell_type": "code",
   "execution_count": 48,
   "id": "34199e76-76b0-4e5e-adcc-ea5f8381b2ae",
   "metadata": {},
   "outputs": [
    {
     "data": {
      "text/plain": [
       "2024-04-25    0.000000\n",
       "2024-04-26    0.000000\n",
       "2024-04-27    0.000000\n",
       "2024-04-28    0.000000\n",
       "2024-04-29    0.000000\n",
       "2024-04-30   -1.313268\n",
       "2024-05-01    0.428023\n",
       "2024-05-02   -0.613339\n",
       "2024-05-03   -0.403755\n",
       "2024-05-04   -0.656848\n",
       "Freq: D, Name: A, dtype: float64"
      ]
     },
     "execution_count": 48,
     "metadata": {},
     "output_type": "execute_result"
    }
   ],
   "source": [
    "s2=s.copy()\n",
    "s2[:5]=0\n",
    "s2"
   ]
  },
  {
   "cell_type": "markdown",
   "id": "7fa8658a-d655-4cf9-8e69-e9c56f194abd",
   "metadata": {},
   "source": [
    "With DataFrame, slicing inside of [] *slices the rows*."
   ]
  },
  {
   "cell_type": "code",
   "execution_count": 49,
   "id": "e27b2da3-8fba-4a9d-9777-38470fe09ba4",
   "metadata": {},
   "outputs": [
    {
     "data": {
      "text/html": [
       "<div>\n",
       "<style scoped>\n",
       "    .dataframe tbody tr th:only-of-type {\n",
       "        vertical-align: middle;\n",
       "    }\n",
       "\n",
       "    .dataframe tbody tr th {\n",
       "        vertical-align: top;\n",
       "    }\n",
       "\n",
       "    .dataframe thead th {\n",
       "        text-align: right;\n",
       "    }\n",
       "</style>\n",
       "<table border=\"1\" class=\"dataframe\">\n",
       "  <thead>\n",
       "    <tr style=\"text-align: right;\">\n",
       "      <th></th>\n",
       "      <th>A</th>\n",
       "      <th>B</th>\n",
       "      <th>C</th>\n",
       "      <th>D</th>\n",
       "    </tr>\n",
       "  </thead>\n",
       "  <tbody>\n",
       "    <tr>\n",
       "      <th>2024-04-25</th>\n",
       "      <td>-1.342248</td>\n",
       "      <td>-0.662813</td>\n",
       "      <td>0.750647</td>\n",
       "      <td>0.005331</td>\n",
       "    </tr>\n",
       "    <tr>\n",
       "      <th>2024-04-26</th>\n",
       "      <td>-0.715609</td>\n",
       "      <td>1.147856</td>\n",
       "      <td>-1.168268</td>\n",
       "      <td>1.103450</td>\n",
       "    </tr>\n",
       "    <tr>\n",
       "      <th>2024-04-27</th>\n",
       "      <td>0.814895</td>\n",
       "      <td>0.166122</td>\n",
       "      <td>0.913475</td>\n",
       "      <td>0.366533</td>\n",
       "    </tr>\n",
       "  </tbody>\n",
       "</table>\n",
       "</div>"
      ],
      "text/plain": [
       "                   A         B         C         D\n",
       "2024-04-25 -1.342248 -0.662813  0.750647  0.005331\n",
       "2024-04-26 -0.715609  1.147856 -1.168268  1.103450\n",
       "2024-04-27  0.814895  0.166122  0.913475  0.366533"
      ]
     },
     "execution_count": 49,
     "metadata": {},
     "output_type": "execute_result"
    }
   ],
   "source": [
    "df[:3]"
   ]
  },
  {
   "cell_type": "code",
   "execution_count": 50,
   "id": "254e775f-9519-4f81-a29c-031a9d961dc7",
   "metadata": {},
   "outputs": [
    {
     "data": {
      "text/html": [
       "<div>\n",
       "<style scoped>\n",
       "    .dataframe tbody tr th:only-of-type {\n",
       "        vertical-align: middle;\n",
       "    }\n",
       "\n",
       "    .dataframe tbody tr th {\n",
       "        vertical-align: top;\n",
       "    }\n",
       "\n",
       "    .dataframe thead th {\n",
       "        text-align: right;\n",
       "    }\n",
       "</style>\n",
       "<table border=\"1\" class=\"dataframe\">\n",
       "  <thead>\n",
       "    <tr style=\"text-align: right;\">\n",
       "      <th></th>\n",
       "      <th>A</th>\n",
       "      <th>B</th>\n",
       "      <th>C</th>\n",
       "      <th>D</th>\n",
       "    </tr>\n",
       "  </thead>\n",
       "  <tbody>\n",
       "    <tr>\n",
       "      <th>2024-05-04</th>\n",
       "      <td>-0.392350</td>\n",
       "      <td>-0.656848</td>\n",
       "      <td>0.239856</td>\n",
       "      <td>1.237207</td>\n",
       "    </tr>\n",
       "    <tr>\n",
       "      <th>2024-05-03</th>\n",
       "      <td>1.944388</td>\n",
       "      <td>-0.403755</td>\n",
       "      <td>-0.008802</td>\n",
       "      <td>-0.630834</td>\n",
       "    </tr>\n",
       "    <tr>\n",
       "      <th>2024-05-02</th>\n",
       "      <td>-0.381671</td>\n",
       "      <td>-0.613339</td>\n",
       "      <td>-1.349159</td>\n",
       "      <td>-0.861489</td>\n",
       "    </tr>\n",
       "    <tr>\n",
       "      <th>2024-05-01</th>\n",
       "      <td>-1.021844</td>\n",
       "      <td>0.428023</td>\n",
       "      <td>0.693954</td>\n",
       "      <td>1.795149</td>\n",
       "    </tr>\n",
       "    <tr>\n",
       "      <th>2024-04-30</th>\n",
       "      <td>-0.286796</td>\n",
       "      <td>-1.313268</td>\n",
       "      <td>-0.196895</td>\n",
       "      <td>0.668111</td>\n",
       "    </tr>\n",
       "    <tr>\n",
       "      <th>2024-04-29</th>\n",
       "      <td>0.182322</td>\n",
       "      <td>0.068212</td>\n",
       "      <td>-1.181531</td>\n",
       "      <td>0.106862</td>\n",
       "    </tr>\n",
       "    <tr>\n",
       "      <th>2024-04-28</th>\n",
       "      <td>-0.237913</td>\n",
       "      <td>0.268073</td>\n",
       "      <td>2.013493</td>\n",
       "      <td>1.473262</td>\n",
       "    </tr>\n",
       "    <tr>\n",
       "      <th>2024-04-27</th>\n",
       "      <td>0.814895</td>\n",
       "      <td>0.166122</td>\n",
       "      <td>0.913475</td>\n",
       "      <td>0.366533</td>\n",
       "    </tr>\n",
       "    <tr>\n",
       "      <th>2024-04-26</th>\n",
       "      <td>-0.715609</td>\n",
       "      <td>1.147856</td>\n",
       "      <td>-1.168268</td>\n",
       "      <td>1.103450</td>\n",
       "    </tr>\n",
       "    <tr>\n",
       "      <th>2024-04-25</th>\n",
       "      <td>-1.342248</td>\n",
       "      <td>-0.662813</td>\n",
       "      <td>0.750647</td>\n",
       "      <td>0.005331</td>\n",
       "    </tr>\n",
       "  </tbody>\n",
       "</table>\n",
       "</div>"
      ],
      "text/plain": [
       "                   A         B         C         D\n",
       "2024-05-04 -0.392350 -0.656848  0.239856  1.237207\n",
       "2024-05-03  1.944388 -0.403755 -0.008802 -0.630834\n",
       "2024-05-02 -0.381671 -0.613339 -1.349159 -0.861489\n",
       "2024-05-01 -1.021844  0.428023  0.693954  1.795149\n",
       "2024-04-30 -0.286796 -1.313268 -0.196895  0.668111\n",
       "2024-04-29  0.182322  0.068212 -1.181531  0.106862\n",
       "2024-04-28 -0.237913  0.268073  2.013493  1.473262\n",
       "2024-04-27  0.814895  0.166122  0.913475  0.366533\n",
       "2024-04-26 -0.715609  1.147856 -1.168268  1.103450\n",
       "2024-04-25 -1.342248 -0.662813  0.750647  0.005331"
      ]
     },
     "execution_count": 50,
     "metadata": {},
     "output_type": "execute_result"
    }
   ],
   "source": [
    "df[::-1]"
   ]
  },
  {
   "cell_type": "markdown",
   "id": "e107c06a-a3e9-4db5-8182-7fe29af1d7e7",
   "metadata": {},
   "source": [
    "### Selection by label\n",
    "\n",
    "The __.loc__ attribute is the primary access method.<br>\n",
    "Valid inputs\n",
    "> A single label, e.g. 5 or \"A\" (Note: 5 is interpreted as a _lable_ of the index.)<br>\n",
    "> A list or array of labels: [\"A\",\"B\",\"C\"]<br>\n",
    "> A slice object with labels: \"A\":\"F\" (Note: Contrary to usual Python slices, __both__ the start and the stop are included. <br>\n",
    "> A boolean array.<br>\n",
    "> A collable."
   ]
  },
  {
   "cell_type": "code",
   "execution_count": 51,
   "id": "8a74d0a2-b83c-49a3-9093-081c9acb3603",
   "metadata": {},
   "outputs": [
    {
     "data": {
      "text/plain": [
       "a   -1.083797\n",
       "b    0.293441\n",
       "c   -0.174533\n",
       "d    0.735109\n",
       "e   -0.939600\n",
       "f   -0.525197\n",
       "dtype: float64"
      ]
     },
     "execution_count": 51,
     "metadata": {},
     "output_type": "execute_result"
    }
   ],
   "source": [
    "s1=pd.Series(np.random.randn(6), index=list(\"abcdef\"))\n",
    "s1"
   ]
  },
  {
   "cell_type": "code",
   "execution_count": 52,
   "id": "78ecfcc9-1def-4e6c-af66-df959c0ceab2",
   "metadata": {},
   "outputs": [
    {
     "data": {
      "text/plain": [
       "c   -0.174533\n",
       "d    0.735109\n",
       "e   -0.939600\n",
       "f   -0.525197\n",
       "dtype: float64"
      ]
     },
     "execution_count": 52,
     "metadata": {},
     "output_type": "execute_result"
    }
   ],
   "source": [
    "s1.loc[\"c\":]"
   ]
  },
  {
   "cell_type": "code",
   "execution_count": 53,
   "id": "e5927e16-8c1e-4ab9-8bcf-683524e0ec97",
   "metadata": {},
   "outputs": [
    {
     "data": {
      "text/plain": [
       "0.2934411110814009"
      ]
     },
     "execution_count": 53,
     "metadata": {},
     "output_type": "execute_result"
    }
   ],
   "source": [
    "s1.loc[\"b\"]"
   ]
  },
  {
   "cell_type": "code",
   "execution_count": 54,
   "id": "e1bef0e2-90d3-4d68-9a6a-fe4fcf9238ed",
   "metadata": {},
   "outputs": [
    {
     "data": {
      "text/plain": [
       "a   -1.083797\n",
       "b    0.293441\n",
       "c    0.000000\n",
       "d    0.000000\n",
       "e    0.000000\n",
       "f    0.000000\n",
       "dtype: float64"
      ]
     },
     "execution_count": 54,
     "metadata": {},
     "output_type": "execute_result"
    }
   ],
   "source": [
    "s1.loc[\"c\":]=0\n",
    "s1"
   ]
  },
  {
   "cell_type": "code",
   "execution_count": 55,
   "id": "a7bdd916-5a20-40d5-a199-7a368725f352",
   "metadata": {},
   "outputs": [
    {
     "data": {
      "text/html": [
       "<div>\n",
       "<style scoped>\n",
       "    .dataframe tbody tr th:only-of-type {\n",
       "        vertical-align: middle;\n",
       "    }\n",
       "\n",
       "    .dataframe tbody tr th {\n",
       "        vertical-align: top;\n",
       "    }\n",
       "\n",
       "    .dataframe thead th {\n",
       "        text-align: right;\n",
       "    }\n",
       "</style>\n",
       "<table border=\"1\" class=\"dataframe\">\n",
       "  <thead>\n",
       "    <tr style=\"text-align: right;\">\n",
       "      <th></th>\n",
       "      <th>A</th>\n",
       "      <th>B</th>\n",
       "      <th>C</th>\n",
       "      <th>D</th>\n",
       "    </tr>\n",
       "  </thead>\n",
       "  <tbody>\n",
       "    <tr>\n",
       "      <th>a</th>\n",
       "      <td>0.676463</td>\n",
       "      <td>-0.321489</td>\n",
       "      <td>-2.118852</td>\n",
       "      <td>1.638045</td>\n",
       "    </tr>\n",
       "    <tr>\n",
       "      <th>b</th>\n",
       "      <td>0.144912</td>\n",
       "      <td>0.658117</td>\n",
       "      <td>-1.208790</td>\n",
       "      <td>0.816253</td>\n",
       "    </tr>\n",
       "    <tr>\n",
       "      <th>c</th>\n",
       "      <td>-1.731704</td>\n",
       "      <td>-1.392207</td>\n",
       "      <td>0.817814</td>\n",
       "      <td>0.437226</td>\n",
       "    </tr>\n",
       "    <tr>\n",
       "      <th>d</th>\n",
       "      <td>0.203991</td>\n",
       "      <td>0.272214</td>\n",
       "      <td>0.196223</td>\n",
       "      <td>1.334129</td>\n",
       "    </tr>\n",
       "    <tr>\n",
       "      <th>e</th>\n",
       "      <td>0.329720</td>\n",
       "      <td>0.680143</td>\n",
       "      <td>-0.159750</td>\n",
       "      <td>0.063708</td>\n",
       "    </tr>\n",
       "    <tr>\n",
       "      <th>f</th>\n",
       "      <td>-0.553307</td>\n",
       "      <td>0.657397</td>\n",
       "      <td>-0.391259</td>\n",
       "      <td>-0.178367</td>\n",
       "    </tr>\n",
       "  </tbody>\n",
       "</table>\n",
       "</div>"
      ],
      "text/plain": [
       "          A         B         C         D\n",
       "a  0.676463 -0.321489 -2.118852  1.638045\n",
       "b  0.144912  0.658117 -1.208790  0.816253\n",
       "c -1.731704 -1.392207  0.817814  0.437226\n",
       "d  0.203991  0.272214  0.196223  1.334129\n",
       "e  0.329720  0.680143 -0.159750  0.063708\n",
       "f -0.553307  0.657397 -0.391259 -0.178367"
      ]
     },
     "execution_count": 55,
     "metadata": {},
     "output_type": "execute_result"
    }
   ],
   "source": [
    "df1=pd.DataFrame(np.random.randn(6,4),\n",
    "                 index=list(\"abcdef\"),\n",
    "                 columns=list(\"ABCD\"))\n",
    "df1"
   ]
  },
  {
   "cell_type": "code",
   "execution_count": 56,
   "id": "540a0a85-49ea-4de5-9920-6eab6b69d940",
   "metadata": {},
   "outputs": [
    {
     "data": {
      "text/html": [
       "<div>\n",
       "<style scoped>\n",
       "    .dataframe tbody tr th:only-of-type {\n",
       "        vertical-align: middle;\n",
       "    }\n",
       "\n",
       "    .dataframe tbody tr th {\n",
       "        vertical-align: top;\n",
       "    }\n",
       "\n",
       "    .dataframe thead th {\n",
       "        text-align: right;\n",
       "    }\n",
       "</style>\n",
       "<table border=\"1\" class=\"dataframe\">\n",
       "  <thead>\n",
       "    <tr style=\"text-align: right;\">\n",
       "      <th></th>\n",
       "      <th>A</th>\n",
       "      <th>B</th>\n",
       "      <th>C</th>\n",
       "      <th>D</th>\n",
       "    </tr>\n",
       "  </thead>\n",
       "  <tbody>\n",
       "    <tr>\n",
       "      <th>a</th>\n",
       "      <td>0.676463</td>\n",
       "      <td>-0.321489</td>\n",
       "      <td>-2.118852</td>\n",
       "      <td>1.638045</td>\n",
       "    </tr>\n",
       "    <tr>\n",
       "      <th>b</th>\n",
       "      <td>0.144912</td>\n",
       "      <td>0.658117</td>\n",
       "      <td>-1.208790</td>\n",
       "      <td>0.816253</td>\n",
       "    </tr>\n",
       "    <tr>\n",
       "      <th>d</th>\n",
       "      <td>0.203991</td>\n",
       "      <td>0.272214</td>\n",
       "      <td>0.196223</td>\n",
       "      <td>1.334129</td>\n",
       "    </tr>\n",
       "  </tbody>\n",
       "</table>\n",
       "</div>"
      ],
      "text/plain": [
       "          A         B         C         D\n",
       "a  0.676463 -0.321489 -2.118852  1.638045\n",
       "b  0.144912  0.658117 -1.208790  0.816253\n",
       "d  0.203991  0.272214  0.196223  1.334129"
      ]
     },
     "execution_count": 56,
     "metadata": {},
     "output_type": "execute_result"
    }
   ],
   "source": [
    "df1.loc[[\"a\",\"b\",\"d\"],:]"
   ]
  },
  {
   "cell_type": "code",
   "execution_count": 57,
   "id": "3e06a96b-1c0e-49c6-a48f-095d46152657",
   "metadata": {},
   "outputs": [
    {
     "data": {
      "text/html": [
       "<div>\n",
       "<style scoped>\n",
       "    .dataframe tbody tr th:only-of-type {\n",
       "        vertical-align: middle;\n",
       "    }\n",
       "\n",
       "    .dataframe tbody tr th {\n",
       "        vertical-align: top;\n",
       "    }\n",
       "\n",
       "    .dataframe thead th {\n",
       "        text-align: right;\n",
       "    }\n",
       "</style>\n",
       "<table border=\"1\" class=\"dataframe\">\n",
       "  <thead>\n",
       "    <tr style=\"text-align: right;\">\n",
       "      <th></th>\n",
       "      <th>A</th>\n",
       "      <th>B</th>\n",
       "      <th>C</th>\n",
       "    </tr>\n",
       "  </thead>\n",
       "  <tbody>\n",
       "    <tr>\n",
       "      <th>d</th>\n",
       "      <td>0.203991</td>\n",
       "      <td>0.272214</td>\n",
       "      <td>0.196223</td>\n",
       "    </tr>\n",
       "    <tr>\n",
       "      <th>e</th>\n",
       "      <td>0.329720</td>\n",
       "      <td>0.680143</td>\n",
       "      <td>-0.159750</td>\n",
       "    </tr>\n",
       "    <tr>\n",
       "      <th>f</th>\n",
       "      <td>-0.553307</td>\n",
       "      <td>0.657397</td>\n",
       "      <td>-0.391259</td>\n",
       "    </tr>\n",
       "  </tbody>\n",
       "</table>\n",
       "</div>"
      ],
      "text/plain": [
       "          A         B         C\n",
       "d  0.203991  0.272214  0.196223\n",
       "e  0.329720  0.680143 -0.159750\n",
       "f -0.553307  0.657397 -0.391259"
      ]
     },
     "execution_count": 57,
     "metadata": {},
     "output_type": "execute_result"
    }
   ],
   "source": [
    "df1.loc[\"d\":,\"A\":\"C\"]"
   ]
  },
  {
   "cell_type": "code",
   "execution_count": 58,
   "id": "b8a50543-6387-4215-969c-4264d374c184",
   "metadata": {},
   "outputs": [
    {
     "data": {
      "text/plain": [
       "A    0.676463\n",
       "B   -0.321489\n",
       "C   -2.118852\n",
       "D    1.638045\n",
       "Name: a, dtype: float64"
      ]
     },
     "execution_count": 58,
     "metadata": {},
     "output_type": "execute_result"
    }
   ],
   "source": [
    "df1.loc[\"a\"]"
   ]
  },
  {
   "cell_type": "markdown",
   "id": "71becff1-055f-476a-9006-3c8045acb4f8",
   "metadata": {},
   "source": [
    "#### Getting values with a boolean array"
   ]
  },
  {
   "cell_type": "code",
   "execution_count": 59,
   "id": "f3b6b2fd-0826-4492-ba39-96af19d8f773",
   "metadata": {},
   "outputs": [
    {
     "data": {
      "text/plain": [
       "A     True\n",
       "B    False\n",
       "C    False\n",
       "D     True\n",
       "Name: a, dtype: bool"
      ]
     },
     "execution_count": 59,
     "metadata": {},
     "output_type": "execute_result"
    }
   ],
   "source": [
    "df1.loc[\"a\"]>0"
   ]
  },
  {
   "cell_type": "code",
   "execution_count": 60,
   "id": "89a1a392-5ca3-4fd5-90a1-96351386d2c1",
   "metadata": {},
   "outputs": [
    {
     "data": {
      "text/html": [
       "<div>\n",
       "<style scoped>\n",
       "    .dataframe tbody tr th:only-of-type {\n",
       "        vertical-align: middle;\n",
       "    }\n",
       "\n",
       "    .dataframe tbody tr th {\n",
       "        vertical-align: top;\n",
       "    }\n",
       "\n",
       "    .dataframe thead th {\n",
       "        text-align: right;\n",
       "    }\n",
       "</style>\n",
       "<table border=\"1\" class=\"dataframe\">\n",
       "  <thead>\n",
       "    <tr style=\"text-align: right;\">\n",
       "      <th></th>\n",
       "      <th>A</th>\n",
       "      <th>D</th>\n",
       "    </tr>\n",
       "  </thead>\n",
       "  <tbody>\n",
       "    <tr>\n",
       "      <th>a</th>\n",
       "      <td>0.676463</td>\n",
       "      <td>1.638045</td>\n",
       "    </tr>\n",
       "    <tr>\n",
       "      <th>b</th>\n",
       "      <td>0.144912</td>\n",
       "      <td>0.816253</td>\n",
       "    </tr>\n",
       "    <tr>\n",
       "      <th>c</th>\n",
       "      <td>-1.731704</td>\n",
       "      <td>0.437226</td>\n",
       "    </tr>\n",
       "    <tr>\n",
       "      <th>d</th>\n",
       "      <td>0.203991</td>\n",
       "      <td>1.334129</td>\n",
       "    </tr>\n",
       "    <tr>\n",
       "      <th>e</th>\n",
       "      <td>0.329720</td>\n",
       "      <td>0.063708</td>\n",
       "    </tr>\n",
       "    <tr>\n",
       "      <th>f</th>\n",
       "      <td>-0.553307</td>\n",
       "      <td>-0.178367</td>\n",
       "    </tr>\n",
       "  </tbody>\n",
       "</table>\n",
       "</div>"
      ],
      "text/plain": [
       "          A         D\n",
       "a  0.676463  1.638045\n",
       "b  0.144912  0.816253\n",
       "c -1.731704  0.437226\n",
       "d  0.203991  1.334129\n",
       "e  0.329720  0.063708\n",
       "f -0.553307 -0.178367"
      ]
     },
     "execution_count": 60,
     "metadata": {},
     "output_type": "execute_result"
    }
   ],
   "source": [
    "df1.loc[:,df1.loc[\"a\"]>0]"
   ]
  },
  {
   "cell_type": "code",
   "execution_count": 61,
   "id": "9cbc7224-f33c-4c18-a798-b9e87268b3b6",
   "metadata": {},
   "outputs": [],
   "source": [
    "mask=pd.array([True, False, True, False, pd.NA, False], dtype=\"boolean\")"
   ]
  },
  {
   "cell_type": "code",
   "execution_count": 62,
   "id": "e8ee1de8-9b27-43c8-930b-643125122493",
   "metadata": {},
   "outputs": [
    {
     "data": {
      "text/plain": [
       "<BooleanArray>\n",
       "[True, False, True, False, <NA>, False]\n",
       "Length: 6, dtype: boolean"
      ]
     },
     "execution_count": 62,
     "metadata": {},
     "output_type": "execute_result"
    }
   ],
   "source": [
    "mask"
   ]
  },
  {
   "cell_type": "code",
   "execution_count": 63,
   "id": "08da2c5b-dc04-49fa-ac1a-23a04dc390aa",
   "metadata": {},
   "outputs": [
    {
     "data": {
      "text/html": [
       "<div>\n",
       "<style scoped>\n",
       "    .dataframe tbody tr th:only-of-type {\n",
       "        vertical-align: middle;\n",
       "    }\n",
       "\n",
       "    .dataframe tbody tr th {\n",
       "        vertical-align: top;\n",
       "    }\n",
       "\n",
       "    .dataframe thead th {\n",
       "        text-align: right;\n",
       "    }\n",
       "</style>\n",
       "<table border=\"1\" class=\"dataframe\">\n",
       "  <thead>\n",
       "    <tr style=\"text-align: right;\">\n",
       "      <th></th>\n",
       "      <th>A</th>\n",
       "      <th>B</th>\n",
       "      <th>C</th>\n",
       "      <th>D</th>\n",
       "    </tr>\n",
       "  </thead>\n",
       "  <tbody>\n",
       "    <tr>\n",
       "      <th>a</th>\n",
       "      <td>0.676463</td>\n",
       "      <td>-0.321489</td>\n",
       "      <td>-2.118852</td>\n",
       "      <td>1.638045</td>\n",
       "    </tr>\n",
       "    <tr>\n",
       "      <th>c</th>\n",
       "      <td>-1.731704</td>\n",
       "      <td>-1.392207</td>\n",
       "      <td>0.817814</td>\n",
       "      <td>0.437226</td>\n",
       "    </tr>\n",
       "  </tbody>\n",
       "</table>\n",
       "</div>"
      ],
      "text/plain": [
       "          A         B         C         D\n",
       "a  0.676463 -0.321489 -2.118852  1.638045\n",
       "c -1.731704 -1.392207  0.817814  0.437226"
      ]
     },
     "execution_count": 63,
     "metadata": {},
     "output_type": "execute_result"
    }
   ],
   "source": [
    "df1[mask]"
   ]
  },
  {
   "cell_type": "code",
   "execution_count": 64,
   "id": "c245b400-eb36-4380-b917-fd7b5e3d4833",
   "metadata": {},
   "outputs": [
    {
     "data": {
      "text/plain": [
       "0.676463261422698"
      ]
     },
     "execution_count": 64,
     "metadata": {},
     "output_type": "execute_result"
    }
   ],
   "source": [
    "df1.loc[\"a\",\"A\"]"
   ]
  },
  {
   "cell_type": "code",
   "execution_count": null,
   "id": "7b999fc6-f385-4085-a221-e4f93bd75728",
   "metadata": {},
   "outputs": [],
   "source": []
  }
 ],
 "metadata": {
  "kernelspec": {
   "display_name": "Python 3 (ipykernel)",
   "language": "python",
   "name": "python3"
  },
  "language_info": {
   "codemirror_mode": {
    "name": "ipython",
    "version": 3
   },
   "file_extension": ".py",
   "mimetype": "text/x-python",
   "name": "python",
   "nbconvert_exporter": "python",
   "pygments_lexer": "ipython3",
   "version": "3.12.3"
  }
 },
 "nbformat": 4,
 "nbformat_minor": 5
}
