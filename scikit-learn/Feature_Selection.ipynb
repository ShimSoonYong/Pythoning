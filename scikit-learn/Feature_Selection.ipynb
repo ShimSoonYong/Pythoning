{
 "cells": [
  {
   "cell_type": "markdown",
   "id": "1ce01136-4206-4ed7-8c29-c8c250c478a9",
   "metadata": {},
   "source": [
    "# 특성 선택\n",
    "\n",
    "[sklearn.feature.selection](https://scikit-learn.org/stable/api/sklearn.feature_selection.html#module-sklearn.feature_selection) 모듈의 클래스들은 표본에 대해 정확도 점수를 높이기 위해서나 매우 고차원적인 데이터셋에 대한 성능을 높이기 위해 특성 선택이나 차원 축소를 위해 사용될 수 있다. "
   ]
  },
  {
   "cell_type": "markdown",
   "id": "ddb7f86f-74cb-4b84-b49f-bca14e4f10b5",
   "metadata": {},
   "source": [
    "## 분산이 낮은 특성 제거하기\n",
    "\n",
    "[VarianceThreshold](https://scikit-learn.org/stable/modules/generated/sklearn.feature_selection.VarianceThreshold.html#sklearn.feature_selection.VarianceThreshold)는 특성 선택의 간단한 접근법이다. 이것은 분산이 특정한 임계치를 넘지 않는 모든 특성들을 제거한다. 기본적으로 이 클래스는 분산이 0인, 즉 모든 표본에서 같은 값을 가진 것을 제거한다. "
   ]
  },
  {
   "cell_type": "markdown",
   "id": "6849a589-edde-472d-8a28-6ce4f878529e",
   "metadata": {},
   "source": [
    "예를 들어, 논리값 특성들을 가진 데이터셋에서 0이나 1이 표본의 80%를 넘는 특성들을 제거하고 싶다고 하자. 논리값 특성들은 베르누이 확률변수이고, 그러한 변수들의 분산은 \n",
    "$$Var[x]=p(1-p)$$\n",
    "로 정의된다."
   ]
  },
  {
   "cell_type": "markdown",
   "id": "32b818fe-fb42-404f-981e-25e8d506cfc7",
   "metadata": {},
   "source": [
    "그러므로 임계치를 0.8*(1-0.8)로 설정하면 된다."
   ]
  },
  {
   "cell_type": "code",
   "execution_count": 1,
   "id": "5cfaf1ac-cad1-4899-84e6-1211dd071b50",
   "metadata": {},
   "outputs": [
    {
     "data": {
      "text/plain": [
       "array([[0, 1],\n",
       "       [1, 0],\n",
       "       [0, 0],\n",
       "       [1, 1],\n",
       "       [1, 0],\n",
       "       [1, 1]])"
      ]
     },
     "execution_count": 1,
     "metadata": {},
     "output_type": "execute_result"
    }
   ],
   "source": [
    "from sklearn.feature_selection import VarianceThreshold\n",
    "X=[\n",
    "    [0,0,1],\n",
    "    [0,1,0],\n",
    "    [1,0,0],\n",
    "    [0,1,1],\n",
    "    [0,1,0],\n",
    "    [0,1,1]\n",
    "]\n",
    "sel=VarianceThreshold(threshold=(.8*(1-.8)))\n",
    "sel.fit_transform(X)"
   ]
  },
  {
   "cell_type": "markdown",
   "id": "482c0bc5-3581-4d32-98fe-6805bd4e142d",
   "metadata": {},
   "source": [
    "예상대로, VarianceThreshold는 $p=5/6>0.8$에 해당하는 양의 0을 포함한 첫 번째 열을 제거하였다."
   ]
  },
  {
   "cell_type": "markdown",
   "id": "eb1c0516-f3c9-48a0-9051-4206109176ce",
   "metadata": {},
   "source": [
    "## 단변량 특성 선택\n",
    "\n",
    "단변량 특성 선택은 단변량 가설 검증에 기반해 최고의 특성을 선택하는 방식으로 작동한다. 이는 학습기(estimator)의 전처리 단계로 볼 수 있다. 사이킷런은 transform 메서드를 구현한 객체로 피처 선택 루틴을 제공한다."
   ]
  },
  {
   "cell_type": "markdown",
   "id": "f02ce1bf-8350-4911-8dce-dd938f7938df",
   "metadata": {},
   "source": [
    "|클래스 이름|기능|\n",
    "|-----------|----|\n",
    "|[SelectKBest](https://scikit-learn.org/stable/modules/generated/sklearn.feature_selection.SelectKBest.html#sklearn.feature_selection.SelectKBest)|특정 점수를 기준으로 $k$등의 특성까지만 남기고 전부 제거한다.|\n",
    "|[SelectPercentile](https://scikit-learn.org/stable/modules/generated/sklearn.feature_selection.SelectPercentile.html#sklearn.feature_selection.SelectPercentile)|특정 점수를 기준으로 사용자가 정의한 백분율 내의 특성만 남기고 전부 제거한다.|\n",
    "|[SelectFpr](https://scikit-learn.org/stable/modules/generated/sklearn.feature_selection.SelectFpr.html#sklearn.feature_selection.SelectFpr)|잘못된 양성 비율(False Positive rate)을 기반으로 피처를 선택한다. 여기서 잘못된 양성 비율은 중요한 피처가 아닌 피처를 잘못 선택할 확률을 의미한다.|\n",
    "|[SelectFdr](https://scikit-learn.org/stable/modules/generated/sklearn.feature_selection.SelectFdr.html#sklearn.feature_selection.SelectFdr)|잘못된 발견 비율(False discovery rate)을 조절하여 피처를 선택한다. 잘못된 발견 비율은 실제로 중요한 피처가 아닌 피처가 선택된 비율이다.|\n",
    "|[SelectFwe](https://scikit-learn.org/stable/modules/generated/sklearn.feature_selection.SelectFwe.html#sklearn.feature_selection.SelectFwe)|Family-wise error는 여러 테스트에서 하나 이상의 잘못된 양성 오류가 발생할 확률을 의미한다. 이 방법은 본페르니(Bonferroni) 교정을 사용하여 여러 테스트에서 잘못된 양성 오류가 발생할 확률을 조절한다.|\n",
    "|[GenericUniveriateSelect](https://scikit-learn.org/stable/modules/generated/sklearn.feature_selection.GenericUnivariateSelect.html#sklearn.feature_selection.GenericUnivariateSelect)|직접 구성 가능한 전략을 사용하여 단변량 피처 선택을 수행할 수 있게 해준다. 이를 통해 하이퍼파라미터 탐색 학습기(estimator)를 사용하여 최상의 단변량 선택 전략을 선택할 수 있다.(파이프라인 형성에 유용)"
   ]
  },
  {
   "cell_type": "markdown",
   "id": "49b26278-f709-4043-9d42-0635ec0eb7db",
   "metadata": {},
   "source": [
    "예를 들어, 아래와 같이 F-검정으로 두 개의 좋은 특성들을 이끌어낼 수 있다."
   ]
  },
  {
   "cell_type": "code",
   "execution_count": 3,
   "id": "35cb5e30-ad13-48ab-8475-7b0cdc80eda9",
   "metadata": {},
   "outputs": [
    {
     "data": {
      "text/plain": [
       "(150, 4)"
      ]
     },
     "execution_count": 3,
     "metadata": {},
     "output_type": "execute_result"
    }
   ],
   "source": [
    "from sklearn.datasets import load_iris\n",
    "from sklearn.feature_selection import SelectKBest\n",
    "from sklearn.feature_selection import f_classif\n",
    "\n",
    "X, y = load_iris(return_X_y=True)\n",
    "X.shape"
   ]
  },
  {
   "cell_type": "code",
   "execution_count": 4,
   "id": "d54554e7-9f17-4871-b42c-91e860826fdb",
   "metadata": {},
   "outputs": [
    {
     "data": {
      "text/plain": [
       "(150, 2)"
      ]
     },
     "execution_count": 4,
     "metadata": {},
     "output_type": "execute_result"
    }
   ],
   "source": [
    "X_new = SelectKBest(f_classif, k=2).fit_transform(X, y)\n",
    "X_new.shape"
   ]
  },
  {
   "cell_type": "markdown",
   "id": "d897e46d-44a6-4477-9246-061187037df4",
   "metadata": {},
   "source": [
    "이 객체들은 단변량 점수와 유의확률(p-value)을 반환하는 점수 계산 함수를 입력으로 받는다. "
   ]
  },
  {
   "cell_type": "markdown",
   "id": "b9a051d5-7d4c-4e96-9098-16ac9edb8db4",
   "metadata": {},
   "source": [
    "- 회귀 문제: [r_regression](https://scikit-learn.org/stable/modules/generated/sklearn.feature_selection.r_regression.html#sklearn.feature_selection.r_regression)(피어슨 상관계수 기반), [f_regression](https://scikit-learn.org/stable/modules/generated/sklearn.feature_selection.f_regression.html#sklearn.feature_selection.f_regression)(F-검정 기반), [mutual_info_regression](https://scikit-learn.org/stable/modules/generated/sklearn.feature_selection.mutual_info_regression.html#sklearn.feature_selection.mutual_info_regression)(K-최근접 이웃 거리 기반)\n",
    "- 분류 문제: [chi2](https://scikit-learn.org/stable/modules/generated/sklearn.feature_selection.chi2.html#sklearn.feature_selection.chi2)(카이제곱 검정 기반), [f_classif](https://scikit-learn.org/stable/modules/generated/sklearn.feature_selection.f_classif.html#sklearn.feature_selection.f_classif)(분산분석 기반), [mutual_info_classif](https://scikit-learn.org/stable/modules/generated/sklearn.feature_selection.mutual_info_classif.html#sklearn.feature_selection.mutual_info_classif)(K-최근접 이웃 기반)"
   ]
  },
  {
   "cell_type": "markdown",
   "id": "fcfe6d8a-f5db-45a5-a978-8ce2c8ece50a",
   "metadata": {},
   "source": [
    "F-검정 기반의 방법들은 두 확률변수 사시의 선형 종속성의 정도를 추정한다. 반면, 상호 정보(mutual information) 방법들은 어떤 종류의 통계적 종속성도 포착할 수 있지만, 비모수적 방법이기 때문에 정확한 추정을 위해 더 많은 표본을 필요로 한다. $\\chi^{2}$-검정은 빈도수와 같은 음수가 아닌 특성에 적용되어야 한다는 것에 주의해야 한다."
   ]
  },
  {
   "cell_type": "markdown",
   "id": "3d548307-c4af-4362-a5e5-e371203eb9a3",
   "metadata": {},
   "source": [
    "## 재귀적 특성 제거"
   ]
  },
  {
   "cell_type": "markdown",
   "id": "2693bfc6-4953-4599-b44b-8fce010e1372",
   "metadata": {},
   "source": [
    "특성들에 가중치를 부여하는 외부 학습기가 주어졌을 때, 재귀적 특성 제거([RFE](https://scikit-learn.org/stable/modules/generated/sklearn.feature_selection.RFE.html#sklearn.feature_selection.RFE)의 목표는 재귀적으로 점점 더 작은 특성 집합을 만들어서 특성을 선택하는 것이다. 먼저, 학습기는 처음 주어진 특성 집합에서 훈련되고 각 특성의 중요도가 관련된 어떤 특정한 속성(coef_ 나 feature_importance_ 같은 것) 또는 호출 가능 객체에 의해 얻어진다. 그러면 최소로 중요한 특성이 현재의 특성 집합에서 가지치기된다. 이 절차는 선택하길 윈하는 숫자의 특성에 도달할 때까지 가지치기된 집합에서 재귀적으로 반복된다."
   ]
  },
  {
   "cell_type": "markdown",
   "id": "54fb934e-8130-48da-bbc0-e7a173c71888",
   "metadata": {},
   "source": [
    "[RFECV](https://scikit-learn.org/stable/modules/generated/sklearn.feature_selection.RFECV.html#sklearn.feature_selection.RFECV)는 최적의 특성 개수를 찾기 위해 교차 검증 루프에서 RFE를 수행한다. 보다 구체적으로는, 서로 다른 교차 검증 분할에서 RFE 선택기를 적합시킴으로서 선택될 특성의 개수가 자동으로 조율된다. RFE 선택기의 성능은 서로 다른 목표 특성 개수에 대해 점수를 매기는 함수(scorer)를 사용해 평가되고 함께 묶여서 정리된다. 마지막으로 모든 폴드의 점수들의 평균이 구해지고 교차 검증 점수를 최대화하는 특성의 개수가 선택된다."
   ]
  },
  {
   "cell_type": "markdown",
   "id": "2e1e4369-6630-452f-a3e3-dfbb6ca80944",
   "metadata": {},
   "source": [
    "## SelectFromModel을 사용한 특성 선택\n",
    "\n",
    "[SelectFromModel](https://scikit-learn.org/stable/modules/generated/sklearn.feature_selection.SelectFromModel.html#sklearn.feature_selection.SelectFromModel)은 적합 이후에 importance_getter 함수나 coef_, feature_importance_ 같은 특정 속성으로 각 특성에 중요도를 할당할 수 있는 어떤 학습기와도 사용될 수 있다. 어떤 특성의 대응되는 중요도가 지정된 threshold 매개변수 미만일 경우, 그 특성은 중요하지 않은 것으로 고려되어 제거된다. 임계치를 숫자로 지정하지 않아도, 문자열(string) 인수를 입력하여 적당한 임계치를 찾을 수 있는 내장 휴리스틱 기법들도 있다. 현재 사용 가능한 휴리스틱 기법들은 \"mean\", \"median\", 그리고 \"0.1*mean\"처럼 문자열 내에 float을 곱하는 것들이다. threshold 인수와 함께, 선택할 특성의 개수에 제한을 두기 위해 max_features 매개변수를 사용할 수 있다."
   ]
  },
  {
   "cell_type": "markdown",
   "id": "39f5deea-e62e-4b9d-ad23-3715e248018d",
   "metadata": {},
   "source": [
    "## L1-기반 특성 선택\n",
    "\n",
    "L1 규제가 가해진[Linear models](https://scikit-learn.org/stable/modules/linear_model.html#linear-model)(선형 모형)들은 희소해를 가진다. 왜냐하면 그것들이 추정한 계수들은 대부분 0이기 때문이다. 목표가 다른 분류기에 사용할 데이터의 차원을 축소하는 것이라면, 선형 모형들은 계수가 0이 아닌 것들을 선택하기 위해 [SelectFromModel](https://scikit-learn.org/stable/modules/generated/sklearn.feature_selection.SelectFromModel.html#sklearn.feature_selection.SelectFromModel)과 함께 사용될 수 있다. 구체적으로, 이 목적을 위해 유용한 학습기로 회귀에선 [Lasso](https://scikit-learn.org/stable/modules/generated/sklearn.linear_model.Lasso.html#sklearn.linear_model.Lasso), 분류에선 [LogisticRegression](https://scikit-learn.org/stable/modules/generated/sklearn.linear_model.LogisticRegression.html#sklearn.linear_model.LogisticRegression)과 [LinearSVC](https://scikit-learn.org/stable/modules/generated/sklearn.svm.LinearSVC.html#sklearn.svm.LinearSVC)가 있다."
   ]
  },
  {
   "cell_type": "code",
   "execution_count": 5,
   "id": "c4551ec1-0833-41aa-9c71-fc8ed447c8d1",
   "metadata": {},
   "outputs": [
    {
     "data": {
      "text/plain": [
       "(150, 4)"
      ]
     },
     "execution_count": 5,
     "metadata": {},
     "output_type": "execute_result"
    }
   ],
   "source": [
    "from sklearn.svm import LinearSVC\n",
    "from sklearn.datasets import load_iris\n",
    "from sklearn.feature_selection import SelectFromModel\n",
    "\n",
    "X, y = load_iris(return_X_y=True)\n",
    "X.shape"
   ]
  },
  {
   "cell_type": "code",
   "execution_count": 9,
   "id": "6524a93d-80dd-44f1-927e-fe7020852c8d",
   "metadata": {},
   "outputs": [
    {
     "name": "stderr",
     "output_type": "stream",
     "text": [
      "C:\\Users\\user\\anaconda3\\envs\\notebook\\Lib\\site-packages\\sklearn\\svm\\_base.py:1237: ConvergenceWarning: Liblinear failed to converge, increase the number of iterations.\n",
      "  warnings.warn(\n"
     ]
    },
    {
     "data": {
      "text/plain": [
       "(150, 3)"
      ]
     },
     "execution_count": 9,
     "metadata": {},
     "output_type": "execute_result"
    }
   ],
   "source": [
    "lsvc=LinearSVC(C=0.01, penalty=\"l1\", dual=False).fit(X,y)\n",
    "model=SelectFromModel(lsvc, prefit=True)\n",
    "X_new=model.transform(X)\n",
    "X_new.shape"
   ]
  },
  {
   "cell_type": "markdown",
   "id": "369d7418-d14e-4c54-aa8c-7f872fb1d2ef",
   "metadata": {},
   "source": [
    "서포트 벡터 머신과 로지스틱 회귀에서, 매개변수 C는 희소성을 조절한다. C가 작을수록 더 적은 특성들이 선택되게 된다. 라쏘 회귀에선 alpha 매개변수가 높을수록 더 적은 특성들이 선택된다."
   ]
  },
  {
   "cell_type": "markdown",
   "id": "110333ed-8163-48ad-82e4-bc4f0b25d14d",
   "metadata": {},
   "source": [
    "## 트리 기반 특성 선택\n",
    "\n",
    "트리 기반 학습기([sklearn.tree](https://scikit-learn.org/stable/api/sklearn.tree.html#module-sklearn.tree) 모듈과 [sklearn.ensemble](https://scikit-learn.org/stable/api/sklearn.ensemble.html#module-sklearn.ensemble) 모듈 참고)들은 불순도 기반의 특성 중요도를 계산하는 데에 사용될 수 있다. 그러니까 SelectFromModel에 넣어서 상관없는 특성들을 제거할 수 있다는 것이다."
   ]
  },
  {
   "cell_type": "code",
   "execution_count": 10,
   "id": "f7c18ebc-9232-40a0-a06a-697395aae6e1",
   "metadata": {},
   "outputs": [
    {
     "data": {
      "text/plain": [
       "(150, 4)"
      ]
     },
     "execution_count": 10,
     "metadata": {},
     "output_type": "execute_result"
    }
   ],
   "source": [
    "from sklearn.ensemble import ExtraTreesClassifier\n",
    "from sklearn.datasets import load_iris\n",
    "from sklearn.feature_selection import SelectFromModel\n",
    "X,y=load_iris(return_X_y=True)\n",
    "X.shape"
   ]
  },
  {
   "cell_type": "code",
   "execution_count": 11,
   "id": "dd7d2172-2960-4657-8bc1-2d28cae3c828",
   "metadata": {},
   "outputs": [
    {
     "data": {
      "text/plain": [
       "array([0.08058587, 0.05778579, 0.35729024, 0.50433809])"
      ]
     },
     "execution_count": 11,
     "metadata": {},
     "output_type": "execute_result"
    }
   ],
   "source": [
    "clf=ExtraTreesClassifier(n_estimators=50)\n",
    "clf=clf.fit(X,y)\n",
    "clf.feature_importances_"
   ]
  },
  {
   "cell_type": "code",
   "execution_count": 12,
   "id": "9b2cc688-36d6-4ffb-8872-9b259724c955",
   "metadata": {},
   "outputs": [
    {
     "data": {
      "text/plain": [
       "(150, 2)"
      ]
     },
     "execution_count": 12,
     "metadata": {},
     "output_type": "execute_result"
    }
   ],
   "source": [
    "model=SelectFromModel(clf,prefit=True)\n",
    "X_new=model.transform(X)\n",
    "X_new.shape"
   ]
  },
  {
   "cell_type": "markdown",
   "id": "92587087-0b21-4e79-a9fb-8c55a4e40942",
   "metadata": {},
   "source": [
    "## 순차적 특성 선택\n",
    "\n",
    "순차적 특성 선택(SFS)는 [SequentialFeatureSelector](https://scikit-learn.org/stable/modules/generated/sklearn.feature_selection.SequentialFeatureSelector.html#sklearn.feature_selection.SequentialFeatureSelector) 변환기에서 가능하다. SFS는 전진선택법과 후진선택법 모두 적용 가능하다. "
   ]
  },
  {
   "cell_type": "markdown",
   "id": "ad33badd-ed92-4f19-88db-402beb6648ab",
   "metadata": {},
   "source": [
    "전진선택법은 반복적으로 선택된 특성 집합에 추가할 새로운 최고의 특성을 찾는다. 그러니까 일단 0개의 특성에서 출발하고, 교차 검증 점수를 최대화하는 하나의 특성읓 찾는다. 그 하나가 선택이 되고 나면, 그 절차를 선택된 특성 집합에 새 특성을 추가함으로써 반복한다. 이 절차는 n_features_to_select 매개변수에 의해 결정된 원하는 수의 특성이 선택되면 종료된다."
   ]
  },
  {
   "cell_type": "markdown",
   "id": "d2756ce1-cbd3-4f1e-b86f-7a45fe006343",
   "metadata": {},
   "source": [
    "후진선택법은 같은 아이디어에서 나왔지만 반대로 작동한다. 특성이 없는 상태에서 특성들을 추가해나가는 대신, 모든 특성들을 포함시킨 상태에서 시작해 하나씩 제거해 나간다. 매개변수 direction이 전진과 후진을 결정한다. "
   ]
  },
  {
   "cell_type": "markdown",
   "id": "f724b88f-186d-4d90-90de-986e91bd2710",
   "metadata": {},
   "source": [
    "# 파이프라인 부품으로서의 특성 선택\n",
    "\n",
    "특성 선택은 실제 훈련을 시작하기 전의 전처리 단계로 주로 사용된다. 사이킷런에서 이를 구현하기 위해 추천하는 방법은 [Pipeline](https://scikit-learn.org/stable/modules/generated/sklearn.pipeline.Pipeline.html#sklearn.pipeline.Pipeline)을 사용하는 것이다."
   ]
  },
  {
   "cell_type": "code",
   "execution_count": 30,
   "id": "037d1576-dd1c-4997-ac65-13ef770f39df",
   "metadata": {},
   "outputs": [
    {
     "name": "stderr",
     "output_type": "stream",
     "text": [
      "C:\\Users\\user\\anaconda3\\envs\\notebook\\Lib\\site-packages\\sklearn\\svm\\_base.py:1237: ConvergenceWarning: Liblinear failed to converge, increase the number of iterations.\n",
      "  warnings.warn(\n"
     ]
    },
    {
     "data": {
      "text/html": [
       "<style>#sk-container-id-4 {\n",
       "  /* Definition of color scheme common for light and dark mode */\n",
       "  --sklearn-color-text: black;\n",
       "  --sklearn-color-line: gray;\n",
       "  /* Definition of color scheme for unfitted estimators */\n",
       "  --sklearn-color-unfitted-level-0: #fff5e6;\n",
       "  --sklearn-color-unfitted-level-1: #f6e4d2;\n",
       "  --sklearn-color-unfitted-level-2: #ffe0b3;\n",
       "  --sklearn-color-unfitted-level-3: chocolate;\n",
       "  /* Definition of color scheme for fitted estimators */\n",
       "  --sklearn-color-fitted-level-0: #f0f8ff;\n",
       "  --sklearn-color-fitted-level-1: #d4ebff;\n",
       "  --sklearn-color-fitted-level-2: #b3dbfd;\n",
       "  --sklearn-color-fitted-level-3: cornflowerblue;\n",
       "\n",
       "  /* Specific color for light theme */\n",
       "  --sklearn-color-text-on-default-background: var(--sg-text-color, var(--theme-code-foreground, var(--jp-content-font-color1, black)));\n",
       "  --sklearn-color-background: var(--sg-background-color, var(--theme-background, var(--jp-layout-color0, white)));\n",
       "  --sklearn-color-border-box: var(--sg-text-color, var(--theme-code-foreground, var(--jp-content-font-color1, black)));\n",
       "  --sklearn-color-icon: #696969;\n",
       "\n",
       "  @media (prefers-color-scheme: dark) {\n",
       "    /* Redefinition of color scheme for dark theme */\n",
       "    --sklearn-color-text-on-default-background: var(--sg-text-color, var(--theme-code-foreground, var(--jp-content-font-color1, white)));\n",
       "    --sklearn-color-background: var(--sg-background-color, var(--theme-background, var(--jp-layout-color0, #111)));\n",
       "    --sklearn-color-border-box: var(--sg-text-color, var(--theme-code-foreground, var(--jp-content-font-color1, white)));\n",
       "    --sklearn-color-icon: #878787;\n",
       "  }\n",
       "}\n",
       "\n",
       "#sk-container-id-4 {\n",
       "  color: var(--sklearn-color-text);\n",
       "}\n",
       "\n",
       "#sk-container-id-4 pre {\n",
       "  padding: 0;\n",
       "}\n",
       "\n",
       "#sk-container-id-4 input.sk-hidden--visually {\n",
       "  border: 0;\n",
       "  clip: rect(1px 1px 1px 1px);\n",
       "  clip: rect(1px, 1px, 1px, 1px);\n",
       "  height: 1px;\n",
       "  margin: -1px;\n",
       "  overflow: hidden;\n",
       "  padding: 0;\n",
       "  position: absolute;\n",
       "  width: 1px;\n",
       "}\n",
       "\n",
       "#sk-container-id-4 div.sk-dashed-wrapped {\n",
       "  border: 1px dashed var(--sklearn-color-line);\n",
       "  margin: 0 0.4em 0.5em 0.4em;\n",
       "  box-sizing: border-box;\n",
       "  padding-bottom: 0.4em;\n",
       "  background-color: var(--sklearn-color-background);\n",
       "}\n",
       "\n",
       "#sk-container-id-4 div.sk-container {\n",
       "  /* jupyter's `normalize.less` sets `[hidden] { display: none; }`\n",
       "     but bootstrap.min.css set `[hidden] { display: none !important; }`\n",
       "     so we also need the `!important` here to be able to override the\n",
       "     default hidden behavior on the sphinx rendered scikit-learn.org.\n",
       "     See: https://github.com/scikit-learn/scikit-learn/issues/21755 */\n",
       "  display: inline-block !important;\n",
       "  position: relative;\n",
       "}\n",
       "\n",
       "#sk-container-id-4 div.sk-text-repr-fallback {\n",
       "  display: none;\n",
       "}\n",
       "\n",
       "div.sk-parallel-item,\n",
       "div.sk-serial,\n",
       "div.sk-item {\n",
       "  /* draw centered vertical line to link estimators */\n",
       "  background-image: linear-gradient(var(--sklearn-color-text-on-default-background), var(--sklearn-color-text-on-default-background));\n",
       "  background-size: 2px 100%;\n",
       "  background-repeat: no-repeat;\n",
       "  background-position: center center;\n",
       "}\n",
       "\n",
       "/* Parallel-specific style estimator block */\n",
       "\n",
       "#sk-container-id-4 div.sk-parallel-item::after {\n",
       "  content: \"\";\n",
       "  width: 100%;\n",
       "  border-bottom: 2px solid var(--sklearn-color-text-on-default-background);\n",
       "  flex-grow: 1;\n",
       "}\n",
       "\n",
       "#sk-container-id-4 div.sk-parallel {\n",
       "  display: flex;\n",
       "  align-items: stretch;\n",
       "  justify-content: center;\n",
       "  background-color: var(--sklearn-color-background);\n",
       "  position: relative;\n",
       "}\n",
       "\n",
       "#sk-container-id-4 div.sk-parallel-item {\n",
       "  display: flex;\n",
       "  flex-direction: column;\n",
       "}\n",
       "\n",
       "#sk-container-id-4 div.sk-parallel-item:first-child::after {\n",
       "  align-self: flex-end;\n",
       "  width: 50%;\n",
       "}\n",
       "\n",
       "#sk-container-id-4 div.sk-parallel-item:last-child::after {\n",
       "  align-self: flex-start;\n",
       "  width: 50%;\n",
       "}\n",
       "\n",
       "#sk-container-id-4 div.sk-parallel-item:only-child::after {\n",
       "  width: 0;\n",
       "}\n",
       "\n",
       "/* Serial-specific style estimator block */\n",
       "\n",
       "#sk-container-id-4 div.sk-serial {\n",
       "  display: flex;\n",
       "  flex-direction: column;\n",
       "  align-items: center;\n",
       "  background-color: var(--sklearn-color-background);\n",
       "  padding-right: 1em;\n",
       "  padding-left: 1em;\n",
       "}\n",
       "\n",
       "\n",
       "/* Toggleable style: style used for estimator/Pipeline/ColumnTransformer box that is\n",
       "clickable and can be expanded/collapsed.\n",
       "- Pipeline and ColumnTransformer use this feature and define the default style\n",
       "- Estimators will overwrite some part of the style using the `sk-estimator` class\n",
       "*/\n",
       "\n",
       "/* Pipeline and ColumnTransformer style (default) */\n",
       "\n",
       "#sk-container-id-4 div.sk-toggleable {\n",
       "  /* Default theme specific background. It is overwritten whether we have a\n",
       "  specific estimator or a Pipeline/ColumnTransformer */\n",
       "  background-color: var(--sklearn-color-background);\n",
       "}\n",
       "\n",
       "/* Toggleable label */\n",
       "#sk-container-id-4 label.sk-toggleable__label {\n",
       "  cursor: pointer;\n",
       "  display: block;\n",
       "  width: 100%;\n",
       "  margin-bottom: 0;\n",
       "  padding: 0.5em;\n",
       "  box-sizing: border-box;\n",
       "  text-align: center;\n",
       "}\n",
       "\n",
       "#sk-container-id-4 label.sk-toggleable__label-arrow:before {\n",
       "  /* Arrow on the left of the label */\n",
       "  content: \"▸\";\n",
       "  float: left;\n",
       "  margin-right: 0.25em;\n",
       "  color: var(--sklearn-color-icon);\n",
       "}\n",
       "\n",
       "#sk-container-id-4 label.sk-toggleable__label-arrow:hover:before {\n",
       "  color: var(--sklearn-color-text);\n",
       "}\n",
       "\n",
       "/* Toggleable content - dropdown */\n",
       "\n",
       "#sk-container-id-4 div.sk-toggleable__content {\n",
       "  max-height: 0;\n",
       "  max-width: 0;\n",
       "  overflow: hidden;\n",
       "  text-align: left;\n",
       "  /* unfitted */\n",
       "  background-color: var(--sklearn-color-unfitted-level-0);\n",
       "}\n",
       "\n",
       "#sk-container-id-4 div.sk-toggleable__content.fitted {\n",
       "  /* fitted */\n",
       "  background-color: var(--sklearn-color-fitted-level-0);\n",
       "}\n",
       "\n",
       "#sk-container-id-4 div.sk-toggleable__content pre {\n",
       "  margin: 0.2em;\n",
       "  border-radius: 0.25em;\n",
       "  color: var(--sklearn-color-text);\n",
       "  /* unfitted */\n",
       "  background-color: var(--sklearn-color-unfitted-level-0);\n",
       "}\n",
       "\n",
       "#sk-container-id-4 div.sk-toggleable__content.fitted pre {\n",
       "  /* unfitted */\n",
       "  background-color: var(--sklearn-color-fitted-level-0);\n",
       "}\n",
       "\n",
       "#sk-container-id-4 input.sk-toggleable__control:checked~div.sk-toggleable__content {\n",
       "  /* Expand drop-down */\n",
       "  max-height: 200px;\n",
       "  max-width: 100%;\n",
       "  overflow: auto;\n",
       "}\n",
       "\n",
       "#sk-container-id-4 input.sk-toggleable__control:checked~label.sk-toggleable__label-arrow:before {\n",
       "  content: \"▾\";\n",
       "}\n",
       "\n",
       "/* Pipeline/ColumnTransformer-specific style */\n",
       "\n",
       "#sk-container-id-4 div.sk-label input.sk-toggleable__control:checked~label.sk-toggleable__label {\n",
       "  color: var(--sklearn-color-text);\n",
       "  background-color: var(--sklearn-color-unfitted-level-2);\n",
       "}\n",
       "\n",
       "#sk-container-id-4 div.sk-label.fitted input.sk-toggleable__control:checked~label.sk-toggleable__label {\n",
       "  background-color: var(--sklearn-color-fitted-level-2);\n",
       "}\n",
       "\n",
       "/* Estimator-specific style */\n",
       "\n",
       "/* Colorize estimator box */\n",
       "#sk-container-id-4 div.sk-estimator input.sk-toggleable__control:checked~label.sk-toggleable__label {\n",
       "  /* unfitted */\n",
       "  background-color: var(--sklearn-color-unfitted-level-2);\n",
       "}\n",
       "\n",
       "#sk-container-id-4 div.sk-estimator.fitted input.sk-toggleable__control:checked~label.sk-toggleable__label {\n",
       "  /* fitted */\n",
       "  background-color: var(--sklearn-color-fitted-level-2);\n",
       "}\n",
       "\n",
       "#sk-container-id-4 div.sk-label label.sk-toggleable__label,\n",
       "#sk-container-id-4 div.sk-label label {\n",
       "  /* The background is the default theme color */\n",
       "  color: var(--sklearn-color-text-on-default-background);\n",
       "}\n",
       "\n",
       "/* On hover, darken the color of the background */\n",
       "#sk-container-id-4 div.sk-label:hover label.sk-toggleable__label {\n",
       "  color: var(--sklearn-color-text);\n",
       "  background-color: var(--sklearn-color-unfitted-level-2);\n",
       "}\n",
       "\n",
       "/* Label box, darken color on hover, fitted */\n",
       "#sk-container-id-4 div.sk-label.fitted:hover label.sk-toggleable__label.fitted {\n",
       "  color: var(--sklearn-color-text);\n",
       "  background-color: var(--sklearn-color-fitted-level-2);\n",
       "}\n",
       "\n",
       "/* Estimator label */\n",
       "\n",
       "#sk-container-id-4 div.sk-label label {\n",
       "  font-family: monospace;\n",
       "  font-weight: bold;\n",
       "  display: inline-block;\n",
       "  line-height: 1.2em;\n",
       "}\n",
       "\n",
       "#sk-container-id-4 div.sk-label-container {\n",
       "  text-align: center;\n",
       "}\n",
       "\n",
       "/* Estimator-specific */\n",
       "#sk-container-id-4 div.sk-estimator {\n",
       "  font-family: monospace;\n",
       "  border: 1px dotted var(--sklearn-color-border-box);\n",
       "  border-radius: 0.25em;\n",
       "  box-sizing: border-box;\n",
       "  margin-bottom: 0.5em;\n",
       "  /* unfitted */\n",
       "  background-color: var(--sklearn-color-unfitted-level-0);\n",
       "}\n",
       "\n",
       "#sk-container-id-4 div.sk-estimator.fitted {\n",
       "  /* fitted */\n",
       "  background-color: var(--sklearn-color-fitted-level-0);\n",
       "}\n",
       "\n",
       "/* on hover */\n",
       "#sk-container-id-4 div.sk-estimator:hover {\n",
       "  /* unfitted */\n",
       "  background-color: var(--sklearn-color-unfitted-level-2);\n",
       "}\n",
       "\n",
       "#sk-container-id-4 div.sk-estimator.fitted:hover {\n",
       "  /* fitted */\n",
       "  background-color: var(--sklearn-color-fitted-level-2);\n",
       "}\n",
       "\n",
       "/* Specification for estimator info (e.g. \"i\" and \"?\") */\n",
       "\n",
       "/* Common style for \"i\" and \"?\" */\n",
       "\n",
       ".sk-estimator-doc-link,\n",
       "a:link.sk-estimator-doc-link,\n",
       "a:visited.sk-estimator-doc-link {\n",
       "  float: right;\n",
       "  font-size: smaller;\n",
       "  line-height: 1em;\n",
       "  font-family: monospace;\n",
       "  background-color: var(--sklearn-color-background);\n",
       "  border-radius: 1em;\n",
       "  height: 1em;\n",
       "  width: 1em;\n",
       "  text-decoration: none !important;\n",
       "  margin-left: 1ex;\n",
       "  /* unfitted */\n",
       "  border: var(--sklearn-color-unfitted-level-1) 1pt solid;\n",
       "  color: var(--sklearn-color-unfitted-level-1);\n",
       "}\n",
       "\n",
       ".sk-estimator-doc-link.fitted,\n",
       "a:link.sk-estimator-doc-link.fitted,\n",
       "a:visited.sk-estimator-doc-link.fitted {\n",
       "  /* fitted */\n",
       "  border: var(--sklearn-color-fitted-level-1) 1pt solid;\n",
       "  color: var(--sklearn-color-fitted-level-1);\n",
       "}\n",
       "\n",
       "/* On hover */\n",
       "div.sk-estimator:hover .sk-estimator-doc-link:hover,\n",
       ".sk-estimator-doc-link:hover,\n",
       "div.sk-label-container:hover .sk-estimator-doc-link:hover,\n",
       ".sk-estimator-doc-link:hover {\n",
       "  /* unfitted */\n",
       "  background-color: var(--sklearn-color-unfitted-level-3);\n",
       "  color: var(--sklearn-color-background);\n",
       "  text-decoration: none;\n",
       "}\n",
       "\n",
       "div.sk-estimator.fitted:hover .sk-estimator-doc-link.fitted:hover,\n",
       ".sk-estimator-doc-link.fitted:hover,\n",
       "div.sk-label-container:hover .sk-estimator-doc-link.fitted:hover,\n",
       ".sk-estimator-doc-link.fitted:hover {\n",
       "  /* fitted */\n",
       "  background-color: var(--sklearn-color-fitted-level-3);\n",
       "  color: var(--sklearn-color-background);\n",
       "  text-decoration: none;\n",
       "}\n",
       "\n",
       "/* Span, style for the box shown on hovering the info icon */\n",
       ".sk-estimator-doc-link span {\n",
       "  display: none;\n",
       "  z-index: 9999;\n",
       "  position: relative;\n",
       "  font-weight: normal;\n",
       "  right: .2ex;\n",
       "  padding: .5ex;\n",
       "  margin: .5ex;\n",
       "  width: min-content;\n",
       "  min-width: 20ex;\n",
       "  max-width: 50ex;\n",
       "  color: var(--sklearn-color-text);\n",
       "  box-shadow: 2pt 2pt 4pt #999;\n",
       "  /* unfitted */\n",
       "  background: var(--sklearn-color-unfitted-level-0);\n",
       "  border: .5pt solid var(--sklearn-color-unfitted-level-3);\n",
       "}\n",
       "\n",
       ".sk-estimator-doc-link.fitted span {\n",
       "  /* fitted */\n",
       "  background: var(--sklearn-color-fitted-level-0);\n",
       "  border: var(--sklearn-color-fitted-level-3);\n",
       "}\n",
       "\n",
       ".sk-estimator-doc-link:hover span {\n",
       "  display: block;\n",
       "}\n",
       "\n",
       "/* \"?\"-specific style due to the `<a>` HTML tag */\n",
       "\n",
       "#sk-container-id-4 a.estimator_doc_link {\n",
       "  float: right;\n",
       "  font-size: 1rem;\n",
       "  line-height: 1em;\n",
       "  font-family: monospace;\n",
       "  background-color: var(--sklearn-color-background);\n",
       "  border-radius: 1rem;\n",
       "  height: 1rem;\n",
       "  width: 1rem;\n",
       "  text-decoration: none;\n",
       "  /* unfitted */\n",
       "  color: var(--sklearn-color-unfitted-level-1);\n",
       "  border: var(--sklearn-color-unfitted-level-1) 1pt solid;\n",
       "}\n",
       "\n",
       "#sk-container-id-4 a.estimator_doc_link.fitted {\n",
       "  /* fitted */\n",
       "  border: var(--sklearn-color-fitted-level-1) 1pt solid;\n",
       "  color: var(--sklearn-color-fitted-level-1);\n",
       "}\n",
       "\n",
       "/* On hover */\n",
       "#sk-container-id-4 a.estimator_doc_link:hover {\n",
       "  /* unfitted */\n",
       "  background-color: var(--sklearn-color-unfitted-level-3);\n",
       "  color: var(--sklearn-color-background);\n",
       "  text-decoration: none;\n",
       "}\n",
       "\n",
       "#sk-container-id-4 a.estimator_doc_link.fitted:hover {\n",
       "  /* fitted */\n",
       "  background-color: var(--sklearn-color-fitted-level-3);\n",
       "}\n",
       "</style><div id=\"sk-container-id-4\" class=\"sk-top-container\"><div class=\"sk-text-repr-fallback\"><pre>Pipeline(steps=[(&#x27;feature_selection&#x27;,\n",
       "                 SelectFromModel(estimator=LinearSVC(dual=False,\n",
       "                                                     penalty=&#x27;l1&#x27;))),\n",
       "                (&#x27;classification&#x27;, RandomForestClassifier())])</pre><b>In a Jupyter environment, please rerun this cell to show the HTML representation or trust the notebook. <br />On GitHub, the HTML representation is unable to render, please try loading this page with nbviewer.org.</b></div><div class=\"sk-container\" hidden><div class=\"sk-item sk-dashed-wrapped\"><div class=\"sk-label-container\"><div class=\"sk-label fitted sk-toggleable\"><input class=\"sk-toggleable__control sk-hidden--visually\" id=\"sk-estimator-id-16\" type=\"checkbox\" ><label for=\"sk-estimator-id-16\" class=\"sk-toggleable__label fitted sk-toggleable__label-arrow fitted\">&nbsp;&nbsp;Pipeline<a class=\"sk-estimator-doc-link fitted\" rel=\"noreferrer\" target=\"_blank\" href=\"https://scikit-learn.org/1.4/modules/generated/sklearn.pipeline.Pipeline.html\">?<span>Documentation for Pipeline</span></a><span class=\"sk-estimator-doc-link fitted\">i<span>Fitted</span></span></label><div class=\"sk-toggleable__content fitted\"><pre>Pipeline(steps=[(&#x27;feature_selection&#x27;,\n",
       "                 SelectFromModel(estimator=LinearSVC(dual=False,\n",
       "                                                     penalty=&#x27;l1&#x27;))),\n",
       "                (&#x27;classification&#x27;, RandomForestClassifier())])</pre></div> </div></div><div class=\"sk-serial\"><div class=\"sk-item sk-dashed-wrapped\"><div class=\"sk-label-container\"><div class=\"sk-label fitted sk-toggleable\"><input class=\"sk-toggleable__control sk-hidden--visually\" id=\"sk-estimator-id-17\" type=\"checkbox\" ><label for=\"sk-estimator-id-17\" class=\"sk-toggleable__label fitted sk-toggleable__label-arrow fitted\">&nbsp;feature_selection: SelectFromModel<a class=\"sk-estimator-doc-link fitted\" rel=\"noreferrer\" target=\"_blank\" href=\"https://scikit-learn.org/1.4/modules/generated/sklearn.feature_selection.SelectFromModel.html\">?<span>Documentation for feature_selection: SelectFromModel</span></a></label><div class=\"sk-toggleable__content fitted\"><pre>SelectFromModel(estimator=LinearSVC(dual=False, penalty=&#x27;l1&#x27;))</pre></div> </div></div><div class=\"sk-parallel\"><div class=\"sk-parallel-item\"><div class=\"sk-item\"><div class=\"sk-label-container\"><div class=\"sk-label fitted sk-toggleable\"><input class=\"sk-toggleable__control sk-hidden--visually\" id=\"sk-estimator-id-18\" type=\"checkbox\" ><label for=\"sk-estimator-id-18\" class=\"sk-toggleable__label fitted sk-toggleable__label-arrow fitted\">estimator: LinearSVC</label><div class=\"sk-toggleable__content fitted\"><pre>LinearSVC(dual=False, penalty=&#x27;l1&#x27;)</pre></div> </div></div><div class=\"sk-serial\"><div class=\"sk-item\"><div class=\"sk-estimator fitted sk-toggleable\"><input class=\"sk-toggleable__control sk-hidden--visually\" id=\"sk-estimator-id-19\" type=\"checkbox\" ><label for=\"sk-estimator-id-19\" class=\"sk-toggleable__label fitted sk-toggleable__label-arrow fitted\">&nbsp;LinearSVC<a class=\"sk-estimator-doc-link fitted\" rel=\"noreferrer\" target=\"_blank\" href=\"https://scikit-learn.org/1.4/modules/generated/sklearn.svm.LinearSVC.html\">?<span>Documentation for LinearSVC</span></a></label><div class=\"sk-toggleable__content fitted\"><pre>LinearSVC(dual=False, penalty=&#x27;l1&#x27;)</pre></div> </div></div></div></div></div></div></div><div class=\"sk-item\"><div class=\"sk-estimator fitted sk-toggleable\"><input class=\"sk-toggleable__control sk-hidden--visually\" id=\"sk-estimator-id-20\" type=\"checkbox\" ><label for=\"sk-estimator-id-20\" class=\"sk-toggleable__label fitted sk-toggleable__label-arrow fitted\">&nbsp;RandomForestClassifier<a class=\"sk-estimator-doc-link fitted\" rel=\"noreferrer\" target=\"_blank\" href=\"https://scikit-learn.org/1.4/modules/generated/sklearn.ensemble.RandomForestClassifier.html\">?<span>Documentation for RandomForestClassifier</span></a></label><div class=\"sk-toggleable__content fitted\"><pre>RandomForestClassifier()</pre></div> </div></div></div></div></div></div>"
      ],
      "text/plain": [
       "Pipeline(steps=[('feature_selection',\n",
       "                 SelectFromModel(estimator=LinearSVC(dual=False,\n",
       "                                                     penalty='l1'))),\n",
       "                ('classification', RandomForestClassifier())])"
      ]
     },
     "execution_count": 30,
     "metadata": {},
     "output_type": "execute_result"
    }
   ],
   "source": [
    "from sklearn.pipeline import Pipeline\n",
    "from sklearn.svm import LinearSVC\n",
    "from sklearn.ensemble import RandomForestClassifier\n",
    "\n",
    "clf=Pipeline([\n",
    "    (\"feature_selection\", \n",
    "     SelectFromModel(LinearSVC(penalty=\"l1\", dual=False))),\n",
    "    (\"classification\", RandomForestClassifier())\n",
    "])\n",
    "clf.fit(X,y)"
   ]
  },
  {
   "cell_type": "code",
   "execution_count": 31,
   "id": "ef31bdc2-9a12-4004-a5f4-9ffefe40b218",
   "metadata": {},
   "outputs": [
    {
     "name": "stdout",
     "output_type": "stream",
     "text": [
      "              precision    recall  f1-score   support\n",
      "\n",
      "           0       1.00      1.00      1.00        50\n",
      "           1       1.00      1.00      1.00        50\n",
      "           2       1.00      1.00      1.00        50\n",
      "\n",
      "    accuracy                           1.00       150\n",
      "   macro avg       1.00      1.00      1.00       150\n",
      "weighted avg       1.00      1.00      1.00       150\n",
      "\n"
     ]
    }
   ],
   "source": [
    "from sklearn.metrics import classification_report\n",
    "print(classification_report(y, clf.predict(X)))"
   ]
  },
  {
   "cell_type": "code",
   "execution_count": 33,
   "id": "9c5228f5-bddd-4fd4-95a4-7803fea19b4a",
   "metadata": {},
   "outputs": [
    {
     "data": {
      "image/png": "[encoded data removed]",
      "text/plain": [
       "<Figure size 640x480 with 1 Axes>"
      ]
     },
     "metadata": {},
     "output_type": "display_data"
    }
   ],
   "source": [
    "import numpy as np\n",
    "import matplotlib.pyplot as plt\n",
    "from sklearn.decomposition import PCA\n",
    "\n",
    "pca = PCA(n_components=2)\n",
    "X_pca = pca.fit_transform(X)\n",
    "\n",
    "# 결정 경계를 그릴 그리드 생성\n",
    "x_min, x_max = X_pca[:, 0].min() - 1, X_pca[:, 0].max() + 1\n",
    "y_min, y_max = X_pca[:, 1].min() - 1, X_pca[:, 1].max() + 1\n",
    "xx, yy = np.meshgrid(np.arange(x_min, x_max, 0.02),\n",
    "                     np.arange(y_min, y_max, 0.02))\n",
    "\n",
    "# 그리드에 대한 예측 (원래 4차원 모델을 사용하여 예측)\n",
    "grid_points = np.c_[xx.ravel(), yy.ravel()]\n",
    "grid_points_orig_space = pca.inverse_transform(grid_points)\n",
    "Z = clf.predict(grid_points_orig_space)\n",
    "Z = Z.reshape(xx.shape)\n",
    "\n",
    "# 결정 경계 플롯\n",
    "plt.contourf(xx, yy, Z, alpha=0.8, cmap=plt.cm.RdYlBu)\n",
    "\n",
    "# 원본 데이터 (차원 축소된) 플롯\n",
    "plt.scatter(X_pca[:, 0], X_pca[:, 1], c=y, edgecolor='k', \n",
    "            s=20, cmap=plt.cm.RdYlBu)\n",
    "plt.xlabel(\"PCA Component 1\")\n",
    "plt.ylabel(\"PCA Component 2\")\n",
    "plt.title(\"Decision Boundary for 4D Model in 2D PCA Space\")\n",
    "plt.show()"
   ]
  }
 ],
 "metadata": {
  "kernelspec": {
   "display_name": "Python 3 (ipykernel)",
   "language": "python",
   "name": "python3"
  },
  "language_info": {
   "codemirror_mode": {
    "name": "ipython",
    "version": 3
   },
   "file_extension": ".py",
   "mimetype": "text/x-python",
   "name": "python",
   "nbconvert_exporter": "python",
   "pygments_lexer": "ipython3",
   "version": "3.12.3"
  }
 },
 "nbformat": 4,
 "nbformat_minor": 5
}
