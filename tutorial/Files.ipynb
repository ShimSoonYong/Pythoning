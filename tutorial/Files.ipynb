{
 "cells": [
  {
   "cell_type": "markdown",
   "id": "2e4f3f2e-28bb-43d1-a1c8-949a68d35180",
   "metadata": {},
   "source": [
    "# Reading and Writing files\n",
    "\n",
    "<font color=\"lightblue\">open()</font> returns a <font color=\"red\">file object</font>, and is most commonly used with two positional arguments and one keyword argument.<br>\n",
    "> open(filename, mode, encoding=None)"
   ]
  },
  {
   "cell_type": "code",
   "execution_count": 2,
   "id": "caaa3e2e-0076-4d9e-827c-028f6a4049e6",
   "metadata": {},
   "outputs": [
    {
     "data": {
      "text/plain": [
       "True"
      ]
     },
     "execution_count": 2,
     "metadata": {},
     "output_type": "execute_result"
    }
   ],
   "source": [
    "with open('workfile.txt',encoding='utf-8') as f:\n",
    "    read_data=f.read()\n",
    "\n",
    "f.closed"
   ]
  },
  {
   "cell_type": "code",
   "execution_count": 3,
   "id": "b35098e9-e5de-4b2b-bdfe-ed7a6024c722",
   "metadata": {},
   "outputs": [
    {
     "ename": "ValueError",
     "evalue": "I/O operation on closed file.",
     "output_type": "error",
     "traceback": [
      "\u001b[1;31m---------------------------------------------------------------------------\u001b[0m",
      "\u001b[1;31mValueError\u001b[0m                                Traceback (most recent call last)",
      "Cell \u001b[1;32mIn[3], line 2\u001b[0m\n\u001b[0;32m      1\u001b[0m f\u001b[38;5;241m.\u001b[39mclose()\n\u001b[1;32m----> 2\u001b[0m f\u001b[38;5;241m.\u001b[39mread()\n",
      "\u001b[1;31mValueError\u001b[0m: I/O operation on closed file."
     ]
    }
   ],
   "source": [
    "f.close()\n",
    "f.read()"
   ]
  },
  {
   "cell_type": "markdown",
   "id": "ac89802a-4682-47df-8db5-463b5f1525b1",
   "metadata": {},
   "source": [
    "# Methods of file objects"
   ]
  },
  {
   "cell_type": "code",
   "execution_count": 5,
   "id": "17d6eebd-23c8-489f-b6a3-d804461421f6",
   "metadata": {},
   "outputs": [
    {
     "name": "stdout",
     "output_type": "stream",
     "text": [
      "Python data science packages\n",
      "\n",
      "pandas\n",
      "Numpy\n",
      "Scipy\n",
      "matplotlib\n",
      "seaborn\n",
      "BeautifulSoup\n",
      "streamlit\n",
      "statsmodels\n",
      "lifelines\n",
      "PyTorch\n"
     ]
    }
   ],
   "source": [
    "with open('workfile.txt',encoding='utf-8') as f:\n",
    "    print(f.read())"
   ]
  },
  {
   "cell_type": "code",
   "execution_count": 7,
   "id": "5bc791bb-40d7-49c1-b219-c3ebbfe25cbe",
   "metadata": {},
   "outputs": [
    {
     "name": "stdout",
     "output_type": "stream",
     "text": [
      "Python data science packages\n",
      "\n",
      "\n",
      "\n",
      "pandas\n",
      "\n",
      "Numpy\n",
      "\n"
     ]
    }
   ],
   "source": [
    "with open('workfile.txt',encoding='utf-8') as f:\n",
    "    print(f.readline())\n",
    "    print(f.readline())\n",
    "    print(f.readline())\n",
    "    print(f.readline())"
   ]
  },
  {
   "cell_type": "code",
   "execution_count": 8,
   "id": "08bd32ed-8f4f-4a37-a74b-f5fc3e0be804",
   "metadata": {},
   "outputs": [
    {
     "name": "stdout",
     "output_type": "stream",
     "text": [
      "Python data science packages\n",
      "\n",
      "pandas\n",
      "Numpy\n",
      "Scipy\n",
      "matplotlib\n",
      "seaborn\n",
      "BeautifulSoup\n",
      "streamlit\n",
      "statsmodels\n",
      "lifelines\n",
      "PyTorch"
     ]
    }
   ],
   "source": [
    "with open('workfile.txt',encoding='utf-8') as f:\n",
    "    for line in f:\n",
    "        print(line,end=\"\")"
   ]
  },
  {
   "cell_type": "code",
   "execution_count": 9,
   "id": "2e41d50f-0719-4a1e-aee5-e213d1836ac1",
   "metadata": {},
   "outputs": [
    {
     "name": "stdout",
     "output_type": "stream",
     "text": [
      "['Python data science packages\\n', '\\n', 'pandas\\n', 'Numpy\\n', 'Scipy\\n', 'matplotlib\\n', 'seaborn\\n', 'BeautifulSoup\\n', 'streamlit\\n', 'statsmodels\\n', 'lifelines\\n', 'PyTorch']\n",
      "[]\n"
     ]
    }
   ],
   "source": [
    "with open('workfile.txt',encoding='utf-8') as f:\n",
    "    print(list(f))\n",
    "    print(f.readlines())"
   ]
  },
  {
   "cell_type": "code",
   "execution_count": 11,
   "id": "65faef15-7e2b-4ed5-89ea-7e99f76b345e",
   "metadata": {},
   "outputs": [],
   "source": [
    "with open('workfile.txt','w',encoding='utf-8') as f:\n",
    "    f.write(\"This is a test\\n\")"
   ]
  },
  {
   "cell_type": "code",
   "execution_count": 14,
   "id": "42372d87-6155-437a-bdc7-09dea6072bff",
   "metadata": {},
   "outputs": [],
   "source": [
    "with open('workfile.txt','w',encoding='utf-8') as f:\n",
    "    f.write(\n",
    "    \"\"\"Python data science packages\n",
    "    \n",
    "pandas\n",
    "Numpy\n",
    "Scipy\n",
    "matplotlib\n",
    "seaborn\n",
    "BeautifulSoup\n",
    "streamlit\n",
    "statsmodels\n",
    "lifelines\n",
    "PyTorch\"\"\")"
   ]
  },
  {
   "cell_type": "code",
   "execution_count": null,
   "id": "7330bdc1-44f3-4528-901a-6fbe3535d29d",
   "metadata": {},
   "outputs": [],
   "source": []
  },
  {
   "cell_type": "code",
   "execution_count": null,
   "id": "0fcb1faf-83af-4da1-94c4-977206e11198",
   "metadata": {},
   "outputs": [],
   "source": []
  }
 ],
 "metadata": {
  "kernelspec": {
   "display_name": "Python 3 (ipykernel)",
   "language": "python",
   "name": "python3"
  },
  "language_info": {
   "codemirror_mode": {
    "name": "ipython",
    "version": 3
   },
   "file_extension": ".py",
   "mimetype": "text/x-python",
   "name": "python",
   "nbconvert_exporter": "python",
   "pygments_lexer": "ipython3",
   "version": "3.12.3"
  }
 },
 "nbformat": 4,
 "nbformat_minor": 5
}
